{
 "cells": [
  {
   "cell_type": "markdown",
   "metadata": {},
   "source": [
    "# Принятие решений в бизнесе на основе данных. Проект."
   ]
  },
  {
   "cell_type": "markdown",
   "metadata": {},
   "source": [
    "## Предобработка данных"
   ]
  },
  {
   "cell_type": "code",
   "execution_count": 1,
   "metadata": {},
   "outputs": [],
   "source": [
    "# импорт библиотек\n",
    "import pandas as pd\n",
    "pd.set_option('display.float_format', '{:,.2f}'.format)\n",
    "import numpy as np\n",
    "from scipy import stats\n",
    "from statsmodels.stats.proportion import proportions_ztest\n",
    "import matplotlib.pyplot as plt\n",
    "import matplotlib.ticker as ticker\n",
    "import matplotlib.dates as mdates\n",
    "from datetime import date, time, timedelta\n",
    "import warnings\n",
    "warnings.filterwarnings(\"ignore\")"
   ]
  },
  {
   "cell_type": "code",
   "execution_count": 2,
   "metadata": {},
   "outputs": [],
   "source": [
    "# забираю таблицы\n",
    "try:\n",
    "    hypothesis, orders, visitors = (\n",
    "    pd.read_csv('/datasets/hypothesis.csv'),\n",
    "    pd.read_csv('/datasets/orders.csv', parse_dates=['date']),\n",
    "    pd.read_csv('/datasets/visitors.csv', parse_dates=['date'])\n",
    ")\n",
    "    \n",
    "except:\n",
    "    hypothesis, orders, visitors = (\n",
    "    pd.read_csv('hypothesis.csv'),\n",
    "    pd.read_csv('orders.csv', parse_dates=['date']),\n",
    "    pd.read_csv('visitors.csv', parse_dates=['date'])\n",
    ")"
   ]
  },
  {
   "cell_type": "code",
   "execution_count": 3,
   "metadata": {
    "scrolled": true
   },
   "outputs": [
    {
     "name": "stdout",
     "output_type": "stream",
     "text": [
      "<class 'pandas.core.frame.DataFrame'>\n",
      "RangeIndex: 9 entries, 0 to 8\n",
      "Data columns (total 5 columns):\n",
      " #   Column      Non-Null Count  Dtype \n",
      "---  ------      --------------  ----- \n",
      " 0   Hypothesis  9 non-null      object\n",
      " 1   Reach       9 non-null      int64 \n",
      " 2   Impact      9 non-null      int64 \n",
      " 3   Confidence  9 non-null      int64 \n",
      " 4   Efforts     9 non-null      int64 \n",
      "dtypes: int64(4), object(1)\n",
      "memory usage: 488.0+ bytes\n"
     ]
    },
    {
     "data": {
      "text/plain": [
       "None"
      ]
     },
     "metadata": {},
     "output_type": "display_data"
    },
    {
     "data": {
      "text/html": [
       "<div>\n",
       "<style scoped>\n",
       "    .dataframe tbody tr th:only-of-type {\n",
       "        vertical-align: middle;\n",
       "    }\n",
       "\n",
       "    .dataframe tbody tr th {\n",
       "        vertical-align: top;\n",
       "    }\n",
       "\n",
       "    .dataframe thead th {\n",
       "        text-align: right;\n",
       "    }\n",
       "</style>\n",
       "<table border=\"1\" class=\"dataframe\">\n",
       "  <thead>\n",
       "    <tr style=\"text-align: right;\">\n",
       "      <th></th>\n",
       "      <th>Hypothesis</th>\n",
       "      <th>Reach</th>\n",
       "      <th>Impact</th>\n",
       "      <th>Confidence</th>\n",
       "      <th>Efforts</th>\n",
       "    </tr>\n",
       "  </thead>\n",
       "  <tbody>\n",
       "    <tr>\n",
       "      <th>0</th>\n",
       "      <td>Добавить два новых канала привлечения трафика,...</td>\n",
       "      <td>3</td>\n",
       "      <td>10</td>\n",
       "      <td>8</td>\n",
       "      <td>6</td>\n",
       "    </tr>\n",
       "    <tr>\n",
       "      <th>1</th>\n",
       "      <td>Запустить собственную службу доставки, что сок...</td>\n",
       "      <td>2</td>\n",
       "      <td>5</td>\n",
       "      <td>4</td>\n",
       "      <td>10</td>\n",
       "    </tr>\n",
       "    <tr>\n",
       "      <th>2</th>\n",
       "      <td>Добавить блоки рекомендаций товаров на сайт ин...</td>\n",
       "      <td>8</td>\n",
       "      <td>3</td>\n",
       "      <td>7</td>\n",
       "      <td>3</td>\n",
       "    </tr>\n",
       "  </tbody>\n",
       "</table>\n",
       "</div>"
      ],
      "text/plain": [
       "                                          Hypothesis  Reach  Impact  \\\n",
       "0  Добавить два новых канала привлечения трафика,...      3      10   \n",
       "1  Запустить собственную службу доставки, что сок...      2       5   \n",
       "2  Добавить блоки рекомендаций товаров на сайт ин...      8       3   \n",
       "\n",
       "   Confidence  Efforts  \n",
       "0           8        6  \n",
       "1           4       10  \n",
       "2           7        3  "
      ]
     },
     "metadata": {},
     "output_type": "display_data"
    },
    {
     "data": {
      "text/plain": [
       "Hypothesis    0\n",
       "Reach         0\n",
       "Impact        0\n",
       "Confidence    0\n",
       "Efforts       0\n",
       "dtype: int64"
      ]
     },
     "metadata": {},
     "output_type": "display_data"
    },
    {
     "data": {
      "text/plain": [
       "0"
      ]
     },
     "metadata": {},
     "output_type": "display_data"
    },
    {
     "name": "stdout",
     "output_type": "stream",
     "text": [
      "<class 'pandas.core.frame.DataFrame'>\n",
      "RangeIndex: 1197 entries, 0 to 1196\n",
      "Data columns (total 5 columns):\n",
      " #   Column         Non-Null Count  Dtype         \n",
      "---  ------         --------------  -----         \n",
      " 0   transactionId  1197 non-null   int64         \n",
      " 1   visitorId      1197 non-null   int64         \n",
      " 2   date           1197 non-null   datetime64[ns]\n",
      " 3   revenue        1197 non-null   int64         \n",
      " 4   group          1197 non-null   object        \n",
      "dtypes: datetime64[ns](1), int64(3), object(1)\n",
      "memory usage: 46.9+ KB\n"
     ]
    },
    {
     "data": {
      "text/plain": [
       "None"
      ]
     },
     "metadata": {},
     "output_type": "display_data"
    },
    {
     "data": {
      "text/html": [
       "<div>\n",
       "<style scoped>\n",
       "    .dataframe tbody tr th:only-of-type {\n",
       "        vertical-align: middle;\n",
       "    }\n",
       "\n",
       "    .dataframe tbody tr th {\n",
       "        vertical-align: top;\n",
       "    }\n",
       "\n",
       "    .dataframe thead th {\n",
       "        text-align: right;\n",
       "    }\n",
       "</style>\n",
       "<table border=\"1\" class=\"dataframe\">\n",
       "  <thead>\n",
       "    <tr style=\"text-align: right;\">\n",
       "      <th></th>\n",
       "      <th>transactionId</th>\n",
       "      <th>visitorId</th>\n",
       "      <th>date</th>\n",
       "      <th>revenue</th>\n",
       "      <th>group</th>\n",
       "    </tr>\n",
       "  </thead>\n",
       "  <tbody>\n",
       "    <tr>\n",
       "      <th>0</th>\n",
       "      <td>3667963787</td>\n",
       "      <td>3312258926</td>\n",
       "      <td>2019-08-15</td>\n",
       "      <td>1650</td>\n",
       "      <td>B</td>\n",
       "    </tr>\n",
       "    <tr>\n",
       "      <th>1</th>\n",
       "      <td>2804400009</td>\n",
       "      <td>3642806036</td>\n",
       "      <td>2019-08-15</td>\n",
       "      <td>730</td>\n",
       "      <td>B</td>\n",
       "    </tr>\n",
       "    <tr>\n",
       "      <th>2</th>\n",
       "      <td>2961555356</td>\n",
       "      <td>4069496402</td>\n",
       "      <td>2019-08-15</td>\n",
       "      <td>400</td>\n",
       "      <td>A</td>\n",
       "    </tr>\n",
       "  </tbody>\n",
       "</table>\n",
       "</div>"
      ],
      "text/plain": [
       "   transactionId   visitorId       date  revenue group\n",
       "0     3667963787  3312258926 2019-08-15     1650     B\n",
       "1     2804400009  3642806036 2019-08-15      730     B\n",
       "2     2961555356  4069496402 2019-08-15      400     A"
      ]
     },
     "metadata": {},
     "output_type": "display_data"
    },
    {
     "data": {
      "text/plain": [
       "transactionId    0\n",
       "visitorId        0\n",
       "date             0\n",
       "revenue          0\n",
       "group            0\n",
       "dtype: int64"
      ]
     },
     "metadata": {},
     "output_type": "display_data"
    },
    {
     "data": {
      "text/plain": [
       "0"
      ]
     },
     "metadata": {},
     "output_type": "display_data"
    },
    {
     "name": "stdout",
     "output_type": "stream",
     "text": [
      "<class 'pandas.core.frame.DataFrame'>\n",
      "RangeIndex: 62 entries, 0 to 61\n",
      "Data columns (total 3 columns):\n",
      " #   Column    Non-Null Count  Dtype         \n",
      "---  ------    --------------  -----         \n",
      " 0   date      62 non-null     datetime64[ns]\n",
      " 1   group     62 non-null     object        \n",
      " 2   visitors  62 non-null     int64         \n",
      "dtypes: datetime64[ns](1), int64(1), object(1)\n",
      "memory usage: 1.6+ KB\n"
     ]
    },
    {
     "data": {
      "text/plain": [
       "None"
      ]
     },
     "metadata": {},
     "output_type": "display_data"
    },
    {
     "data": {
      "text/html": [
       "<div>\n",
       "<style scoped>\n",
       "    .dataframe tbody tr th:only-of-type {\n",
       "        vertical-align: middle;\n",
       "    }\n",
       "\n",
       "    .dataframe tbody tr th {\n",
       "        vertical-align: top;\n",
       "    }\n",
       "\n",
       "    .dataframe thead th {\n",
       "        text-align: right;\n",
       "    }\n",
       "</style>\n",
       "<table border=\"1\" class=\"dataframe\">\n",
       "  <thead>\n",
       "    <tr style=\"text-align: right;\">\n",
       "      <th></th>\n",
       "      <th>date</th>\n",
       "      <th>group</th>\n",
       "      <th>visitors</th>\n",
       "    </tr>\n",
       "  </thead>\n",
       "  <tbody>\n",
       "    <tr>\n",
       "      <th>0</th>\n",
       "      <td>2019-08-01</td>\n",
       "      <td>A</td>\n",
       "      <td>719</td>\n",
       "    </tr>\n",
       "    <tr>\n",
       "      <th>1</th>\n",
       "      <td>2019-08-02</td>\n",
       "      <td>A</td>\n",
       "      <td>619</td>\n",
       "    </tr>\n",
       "    <tr>\n",
       "      <th>2</th>\n",
       "      <td>2019-08-03</td>\n",
       "      <td>A</td>\n",
       "      <td>507</td>\n",
       "    </tr>\n",
       "  </tbody>\n",
       "</table>\n",
       "</div>"
      ],
      "text/plain": [
       "        date group  visitors\n",
       "0 2019-08-01     A       719\n",
       "1 2019-08-02     A       619\n",
       "2 2019-08-03     A       507"
      ]
     },
     "metadata": {},
     "output_type": "display_data"
    },
    {
     "data": {
      "text/plain": [
       "date        0\n",
       "group       0\n",
       "visitors    0\n",
       "dtype: int64"
      ]
     },
     "metadata": {},
     "output_type": "display_data"
    },
    {
     "data": {
      "text/plain": [
       "0"
      ]
     },
     "metadata": {},
     "output_type": "display_data"
    }
   ],
   "source": [
    "def get_info(df):\n",
    "    display(df.info(), df.head(3), df.isnull().sum(), df.duplicated().sum())\n",
    "\n",
    "df_list = [hypothesis, orders, visitors]\n",
    "for i in df_list: \n",
    "    get_info(i)"
   ]
  },
  {
   "cell_type": "code",
   "execution_count": 4,
   "metadata": {},
   "outputs": [],
   "source": [
    "# работаю с названиями колонок\n",
    "hypothesis.columns = hypothesis.columns.str.lower()\n",
    "orders = orders.rename(columns={\"transactionId\": \"transaction_id\", \"visitorId\": \"visitor_id\"})\n",
    "\n",
    "# меняю типы данных\n",
    "orders['transaction_id'] = orders['transaction_id'].astype(str)\n",
    "orders['visitor_id'] = orders['visitor_id'].astype(str)"
   ]
  },
  {
   "cell_type": "markdown",
   "metadata": {},
   "source": [
    "## Приоритизация гипотез"
   ]
  },
  {
   "cell_type": "markdown",
   "metadata": {},
   "source": [
    "### Применение фреймворка ICE"
   ]
  },
  {
   "cell_type": "markdown",
   "metadata": {},
   "source": [
    "ICE (от англ. impact, confidence, effort / ease «влияние, уверенность, усилия / простота») — один из самых популярных способов приоритизации задач:\n",
    "\n",
    "$$ICE = \\frac{Impact * Confidence}{Efforts}$$"
   ]
  },
  {
   "cell_type": "code",
   "execution_count": 5,
   "metadata": {},
   "outputs": [
    {
     "data": {
      "text/html": [
       "<div>\n",
       "<style scoped>\n",
       "    .dataframe tbody tr th:only-of-type {\n",
       "        vertical-align: middle;\n",
       "    }\n",
       "\n",
       "    .dataframe tbody tr th {\n",
       "        vertical-align: top;\n",
       "    }\n",
       "\n",
       "    .dataframe thead th {\n",
       "        text-align: right;\n",
       "    }\n",
       "</style>\n",
       "<table border=\"1\" class=\"dataframe\">\n",
       "  <thead>\n",
       "    <tr style=\"text-align: right;\">\n",
       "      <th></th>\n",
       "      <th>hypothesis</th>\n",
       "      <th>ICE</th>\n",
       "    </tr>\n",
       "  </thead>\n",
       "  <tbody>\n",
       "    <tr>\n",
       "      <th>8</th>\n",
       "      <td>Запустить акцию, дающую скидку на товар в день...</td>\n",
       "      <td>16.20</td>\n",
       "    </tr>\n",
       "    <tr>\n",
       "      <th>0</th>\n",
       "      <td>Добавить два новых канала привлечения трафика,...</td>\n",
       "      <td>13.33</td>\n",
       "    </tr>\n",
       "    <tr>\n",
       "      <th>7</th>\n",
       "      <td>Добавить форму подписки на все основные страни...</td>\n",
       "      <td>11.20</td>\n",
       "    </tr>\n",
       "    <tr>\n",
       "      <th>6</th>\n",
       "      <td>Показать на главной странице баннеры с актуаль...</td>\n",
       "      <td>8.00</td>\n",
       "    </tr>\n",
       "    <tr>\n",
       "      <th>2</th>\n",
       "      <td>Добавить блоки рекомендаций товаров на сайт ин...</td>\n",
       "      <td>7.00</td>\n",
       "    </tr>\n",
       "  </tbody>\n",
       "</table>\n",
       "</div>"
      ],
      "text/plain": [
       "                                          hypothesis   ICE\n",
       "8  Запустить акцию, дающую скидку на товар в день... 16.20\n",
       "0  Добавить два новых канала привлечения трафика,... 13.33\n",
       "7  Добавить форму подписки на все основные страни... 11.20\n",
       "6  Показать на главной странице баннеры с актуаль...  8.00\n",
       "2  Добавить блоки рекомендаций товаров на сайт ин...  7.00"
      ]
     },
     "execution_count": 5,
     "metadata": {},
     "output_type": "execute_result"
    }
   ],
   "source": [
    "hypothesis['ICE'] = hypothesis['impact'] * hypothesis['confidence'] / hypothesis['efforts']\n",
    "hypothesis.sort_values(by='ICE', ascending=False)[['hypothesis','ICE']].head()"
   ]
  },
  {
   "cell_type": "markdown",
   "metadata": {},
   "source": [
    "### Применение фреймворка RICE"
   ]
  },
  {
   "cell_type": "markdown",
   "metadata": {},
   "source": [
    "У этого метода есть модификация RICE (R от англ. reach, «охват»):\n",
    "\n",
    "$$RICE = \\frac{Rearch * Impact * Confidence}{Efforts}$$"
   ]
  },
  {
   "cell_type": "code",
   "execution_count": 6,
   "metadata": {},
   "outputs": [
    {
     "data": {
      "text/html": [
       "<div>\n",
       "<style scoped>\n",
       "    .dataframe tbody tr th:only-of-type {\n",
       "        vertical-align: middle;\n",
       "    }\n",
       "\n",
       "    .dataframe tbody tr th {\n",
       "        vertical-align: top;\n",
       "    }\n",
       "\n",
       "    .dataframe thead th {\n",
       "        text-align: right;\n",
       "    }\n",
       "</style>\n",
       "<table border=\"1\" class=\"dataframe\">\n",
       "  <thead>\n",
       "    <tr style=\"text-align: right;\">\n",
       "      <th></th>\n",
       "      <th>hypothesis</th>\n",
       "      <th>RICE</th>\n",
       "    </tr>\n",
       "  </thead>\n",
       "  <tbody>\n",
       "    <tr>\n",
       "      <th>7</th>\n",
       "      <td>Добавить форму подписки на все основные страни...</td>\n",
       "      <td>112.00</td>\n",
       "    </tr>\n",
       "    <tr>\n",
       "      <th>2</th>\n",
       "      <td>Добавить блоки рекомендаций товаров на сайт ин...</td>\n",
       "      <td>56.00</td>\n",
       "    </tr>\n",
       "    <tr>\n",
       "      <th>0</th>\n",
       "      <td>Добавить два новых канала привлечения трафика,...</td>\n",
       "      <td>40.00</td>\n",
       "    </tr>\n",
       "    <tr>\n",
       "      <th>6</th>\n",
       "      <td>Показать на главной странице баннеры с актуаль...</td>\n",
       "      <td>40.00</td>\n",
       "    </tr>\n",
       "    <tr>\n",
       "      <th>8</th>\n",
       "      <td>Запустить акцию, дающую скидку на товар в день...</td>\n",
       "      <td>16.20</td>\n",
       "    </tr>\n",
       "  </tbody>\n",
       "</table>\n",
       "</div>"
      ],
      "text/plain": [
       "                                          hypothesis   RICE\n",
       "7  Добавить форму подписки на все основные страни... 112.00\n",
       "2  Добавить блоки рекомендаций товаров на сайт ин...  56.00\n",
       "0  Добавить два новых канала привлечения трафика,...  40.00\n",
       "6  Показать на главной странице баннеры с актуаль...  40.00\n",
       "8  Запустить акцию, дающую скидку на товар в день...  16.20"
      ]
     },
     "execution_count": 6,
     "metadata": {},
     "output_type": "execute_result"
    }
   ],
   "source": [
    "hypothesis['RICE'] = hypothesis['reach'] * hypothesis['impact'] * hypothesis['confidence'] / hypothesis['efforts']\n",
    "hypothesis.sort_values(by='RICE', ascending=False)[['hypothesis','RICE']].head()"
   ]
  },
  {
   "cell_type": "markdown",
   "metadata": {},
   "source": [
    "После применения фреймворка `RICE`, топ гипотез, которые следует взять в работу - изменился. Это произошло из-за того, что в формулу добавили расчет от `Reach`. Теперь чем больше пользователей затронет изменение - тем больше пойнтов получает гипотеза, ну а в фреймворке `ICE` мы этого не считаем."
   ]
  },
  {
   "cell_type": "markdown",
   "metadata": {},
   "source": [
    "## Анализ A/B-теста"
   ]
  },
  {
   "cell_type": "markdown",
   "metadata": {},
   "source": [
    "### Сбор кумулятивных данных"
   ]
  },
  {
   "cell_type": "code",
   "execution_count": 7,
   "metadata": {},
   "outputs": [],
   "source": [
    "# создаем массив уникальных пар значений дат и групп теста\n",
    "datesGroups = orders[['date','group']].drop_duplicates() "
   ]
  },
  {
   "cell_type": "code",
   "execution_count": 8,
   "metadata": {},
   "outputs": [],
   "source": [
    "# получим агрегированные кумулятивные по дням данные о заказах\n",
    "ordersAggregated = (\n",
    "    datesGroups.apply(lambda x: orders[np.logical_and(orders['date'] <= x['date'], orders['group'] == x['group'])]\\\n",
    "        .agg({'date' : 'max', 'group' : 'max', 'transaction_id' : 'nunique', 'visitor_id' : 'nunique', 'revenue' : 'sum'}), axis=1)\n",
    "        .sort_values(by=['date','group'])\n",
    ")"
   ]
  },
  {
   "cell_type": "code",
   "execution_count": 9,
   "metadata": {},
   "outputs": [],
   "source": [
    "# получим агрегированные кумулятивные по дням данные о посетителях\n",
    "visitorsAggregated = (\n",
    "    datesGroups.apply(lambda x: visitors[np.logical_and(visitors['date'] <= x['date'],visitors['group'] == x['group'])]\n",
    "        .agg({'date' : 'max', 'group' : 'max', 'visitors' : 'sum'}), axis=1)\n",
    "        .sort_values(by=['date','group'])\n",
    ")"
   ]
  },
  {
   "cell_type": "code",
   "execution_count": 10,
   "metadata": {},
   "outputs": [
    {
     "name": "stdout",
     "output_type": "stream",
     "text": [
      "        date group  orders  buyers  revenue  visitors\n",
      "0 2019-08-01     A      24      20   148579       719\n",
      "1 2019-08-01     B      21      20   101217       713\n",
      "2 2019-08-02     A      44      38   242401      1338\n",
      "3 2019-08-02     B      45      43   266748      1294\n",
      "4 2019-08-03     A      68      62   354874      1845\n"
     ]
    }
   ],
   "source": [
    "# объединяем кумулятивные данные в одной таблице и присваиваем ее столбцам понятные названия\n",
    "cumulativeData = ordersAggregated.merge(visitorsAggregated, left_on=['date', 'group'], right_on=['date', 'group'])\n",
    "cumulativeData.columns = ['date', 'group', 'orders', 'buyers', 'revenue', 'visitors']\n",
    "\n",
    "print(cumulativeData.head())"
   ]
  },
  {
   "cell_type": "markdown",
   "metadata": {},
   "source": [
    "### График кумулятивной выручки по группам"
   ]
  },
  {
   "cell_type": "code",
   "execution_count": 11,
   "metadata": {},
   "outputs": [],
   "source": [
    "# датафрейм с кумулятивным количеством заказов и кумулятивной выручкой по дням в группе А\n",
    "cumulativeRevenueA = cumulativeData[cumulativeData['group']=='A'][['date','revenue', 'orders']]\n",
    "\n",
    "# датафрейм с кумулятивным количеством заказов и кумулятивной выручкой по дням в группе B\n",
    "cumulativeRevenueB = cumulativeData[cumulativeData['group']=='B'][['date','revenue', 'orders']]"
   ]
  },
  {
   "cell_type": "code",
   "execution_count": 12,
   "metadata": {},
   "outputs": [
    {
     "data": {
      "image/png": "[encoded data removed]",
      "text/plain": [
       "<Figure size 936x504 with 1 Axes>"
      ]
     },
     "metadata": {
      "needs_background": "light"
     },
     "output_type": "display_data"
    }
   ],
   "source": [
    "# Строим график выручки группы А\n",
    "plt.figure(figsize=(13,7))\n",
    "plt.plot(cumulativeRevenueA['date'], cumulativeRevenueA['revenue'], label='A')\n",
    "\n",
    "# Строим график выручки группы B\n",
    "plt.plot(cumulativeRevenueB['date'], cumulativeRevenueB['revenue'], label='B')\n",
    "\n",
    "plt.title('График кумулятивный выручки по группам')\n",
    "plt.grid()\n",
    "plt.legend()\n",
    "plt.show()"
   ]
  },
  {
   "cell_type": "markdown",
   "metadata": {},
   "source": [
    "У обоих групп выручка увеличивается в течении всего теста, это хороший знак. Но у группы `B` во второй половине теста выручка сделала резкий рывок вверх. Возможно пришел кит и заплатил большую сумму."
   ]
  },
  {
   "cell_type": "markdown",
   "metadata": {},
   "source": [
    "### График кумулятивного среднего чека по группам"
   ]
  },
  {
   "cell_type": "code",
   "execution_count": 13,
   "metadata": {},
   "outputs": [
    {
     "data": {
      "image/png": "[encoded data removed]",
      "text/plain": [
       "<Figure size 936x504 with 1 Axes>"
      ]
     },
     "metadata": {
      "needs_background": "light"
     },
     "output_type": "display_data"
    }
   ],
   "source": [
    "plt.figure(figsize=(13,7))\n",
    "plt.plot(cumulativeRevenueA['date'], cumulativeRevenueA['revenue']/cumulativeRevenueA['orders'], label='A')\n",
    "plt.plot(cumulativeRevenueB['date'], cumulativeRevenueB['revenue']/cumulativeRevenueB['orders'], label='B')\n",
    "\n",
    "plt.title('График кумулятивного среднего чека по группам')\n",
    "plt.grid()\n",
    "plt.legend()\n",
    "plt.show()"
   ]
  },
  {
   "cell_type": "markdown",
   "metadata": {},
   "source": [
    "В первой половине теста обе группы держаться примерно на равных значениях средних чеков, но вот во второй половине группа `B` резко выбивается вперед."
   ]
  },
  {
   "cell_type": "markdown",
   "metadata": {},
   "source": [
    "### График относительного изменения кумулятивного среднего чека группы B к группе A"
   ]
  },
  {
   "cell_type": "code",
   "execution_count": 14,
   "metadata": {},
   "outputs": [
    {
     "data": {
      "image/png": "[encoded data removed]",
      "text/plain": [
       "<Figure size 936x504 with 1 Axes>"
      ]
     },
     "metadata": {
      "needs_background": "light"
     },
     "output_type": "display_data"
    }
   ],
   "source": [
    "# собираем данные в одном датафрейме\n",
    "mergedCumulativeRevenue = cumulativeRevenueA.merge(cumulativeRevenueB, left_on='date', right_on='date', how='left', suffixes=['A', 'B'])\n",
    "\n",
    "# cтроим отношение средних чеков\n",
    "plt.figure(figsize=(13,7))\n",
    "plt.plot(mergedCumulativeRevenue['date'], (mergedCumulativeRevenue['revenueB']/mergedCumulativeRevenue['ordersB'])/(mergedCumulativeRevenue['revenueA']/mergedCumulativeRevenue['ordersA'])-1)\n",
    "\n",
    "# добавляем ось X\n",
    "plt.axhline(y=0, color='black', linestyle='--')\n",
    "\n",
    "plt.title('График относительного изменения кумулятивного среднего чека группы B к группе A')\n",
    "plt.grid()\n",
    "plt.show()"
   ]
  },
  {
   "cell_type": "markdown",
   "metadata": {},
   "source": [
    "Группа `B` в первое время ходила волнами, но во второй половине теста резко подскочила вверх и зафиксировалась там."
   ]
  },
  {
   "cell_type": "markdown",
   "metadata": {},
   "source": [
    "### График кумулятивной конверсии по группам"
   ]
  },
  {
   "cell_type": "code",
   "execution_count": 15,
   "metadata": {},
   "outputs": [
    {
     "data": {
      "image/png": "[encoded data removed]",
      "text/plain": [
       "<Figure size 936x504 with 1 Axes>"
      ]
     },
     "metadata": {
      "needs_background": "light"
     },
     "output_type": "display_data"
    }
   ],
   "source": [
    "# считаем кумулятивную конверсию\n",
    "cumulativeData['conversion'] = cumulativeData['orders']/cumulativeData['visitors']\n",
    "\n",
    "cumulativeDataA = cumulativeData[cumulativeData['group']=='A']\n",
    "cumulativeDataB = cumulativeData[cumulativeData['group']=='B']\n",
    "\n",
    "plt.figure(figsize=(13,7))\n",
    "plt.plot(cumulativeDataA['date'], cumulativeDataA['conversion'], label='A')\n",
    "plt.plot(cumulativeDataB['date'], cumulativeDataB['conversion'], label='B')\n",
    "plt.legend()\n",
    "plt.title('График кумулятивной конверсии по группам')\n",
    "plt.grid()\n",
    "plt.show()"
   ]
  },
  {
   "cell_type": "markdown",
   "metadata": {},
   "source": [
    "Конверсия у обоих групп колебалась в начале эксперимента, но потом конверсия группы `B` резко вырвалась вперед и зафиксировалась, а у группы `A` наоборот, упала."
   ]
  },
  {
   "cell_type": "markdown",
   "metadata": {},
   "source": [
    "### График относительного изменения кумулятивной конверсии группы B к группе A"
   ]
  },
  {
   "cell_type": "code",
   "execution_count": 16,
   "metadata": {},
   "outputs": [
    {
     "data": {
      "image/png": "[encoded data removed]",
      "text/plain": [
       "<Figure size 936x504 with 1 Axes>"
      ]
     },
     "metadata": {
      "needs_background": "light"
     },
     "output_type": "display_data"
    }
   ],
   "source": [
    "mergedCumulativeConversions = cumulativeDataA[['date','conversion']].merge(cumulativeDataB[['date','conversion']], left_on='date', right_on='date', how='left', suffixes=['A', 'B'])\n",
    "\n",
    "plt.figure(figsize=(13,7))\n",
    "plt.plot(mergedCumulativeConversions['date'], mergedCumulativeConversions['conversionB']/mergedCumulativeConversions['conversionA']-1)\n",
    "\n",
    "plt.axhline(y=0, color='black', linestyle='--')\n",
    "plt.axhline(y=-0.1, color='grey', linestyle='--')\n",
    "plt.title('График относительного изменения кумулятивной конверсии группы B к группе A')\n",
    "plt.show()"
   ]
  },
  {
   "cell_type": "markdown",
   "metadata": {},
   "source": [
    "Группа `B` почти с самого начала эксперимента резко вырвалась вперед и сильно держит свои позиции."
   ]
  },
  {
   "cell_type": "markdown",
   "metadata": {},
   "source": [
    "### Точечные графики количества/стоимости заказов по пользователям"
   ]
  },
  {
   "cell_type": "code",
   "execution_count": 17,
   "metadata": {},
   "outputs": [],
   "source": [
    "ordersByUsers = (\n",
    "    orders.groupby('visitor_id', as_index=False)\n",
    "    .agg({'transaction_id':'nunique'})\n",
    ")\n",
    "ordersByUsers.columns = ['visitor_id','orders']"
   ]
  },
  {
   "cell_type": "code",
   "execution_count": 18,
   "metadata": {},
   "outputs": [
    {
     "data": {
      "image/png": "[encoded data removed]",
      "text/plain": [
       "<Figure size 432x288 with 1 Axes>"
      ]
     },
     "metadata": {
      "needs_background": "light"
     },
     "output_type": "display_data"
    }
   ],
   "source": [
    "x_values = pd.Series(range(0,len(ordersByUsers['orders'])))\n",
    "plt.scatter(x_values, ordersByUsers['orders'])\n",
    "\n",
    "plt.title('Точечный график количества заказов по пользователям')\n",
    "plt.show()"
   ]
  },
  {
   "cell_type": "markdown",
   "metadata": {},
   "source": [
    "По графику видно, что есть весьма \"дорогие\" заказы."
   ]
  },
  {
   "cell_type": "code",
   "execution_count": 19,
   "metadata": {},
   "outputs": [
    {
     "name": "stdout",
     "output_type": "stream",
     "text": [
      "[2. 4.]\n"
     ]
    }
   ],
   "source": [
    "# Считаю 95-й и 99-й перцентили количества заказов на пользователя\n",
    "print(np.percentile(ordersByUsers['orders'], [95, 99]))"
   ]
  },
  {
   "cell_type": "markdown",
   "metadata": {},
   "source": [
    "Если отсеивать 5% данных, то надо будет отсеить начиная с двух заказов."
   ]
  },
  {
   "cell_type": "code",
   "execution_count": 20,
   "metadata": {},
   "outputs": [
    {
     "data": {
      "image/png": "[encoded data removed]",
      "text/plain": [
       "<Figure size 432x288 with 1 Axes>"
      ]
     },
     "metadata": {
      "needs_background": "light"
     },
     "output_type": "display_data"
    }
   ],
   "source": [
    "# scatter график стоимости заказов\n",
    "x_values = pd.Series(range(0,len(orders['revenue'])))\n",
    "plt.scatter(x_values, orders['revenue'])\n",
    "plt.title('Точечный график стоимости заказов')\n",
    "plt.show()"
   ]
  },
  {
   "cell_type": "markdown",
   "metadata": {},
   "source": [
    "Есть 2 очень дорогих заказов. Попробуем убрать их."
   ]
  },
  {
   "cell_type": "code",
   "execution_count": 21,
   "metadata": {},
   "outputs": [
    {
     "data": {
      "image/png": "[encoded data removed]",
      "text/plain": [
       "<Figure size 432x288 with 1 Axes>"
      ]
     },
     "metadata": {
      "needs_background": "light"
     },
     "output_type": "display_data"
    }
   ],
   "source": [
    "orders2 = orders.query('revenue < 200000')\n",
    "x_values = pd.Series(range(0,len(orders2['revenue'])))\n",
    "plt.scatter(x_values, orders2['revenue'])\n",
    "plt.title('Отфильтрован. точечный график стоимости заказов')\n",
    "plt.show()"
   ]
  },
  {
   "cell_type": "code",
   "execution_count": 22,
   "metadata": {},
   "outputs": [
    {
     "name": "stdout",
     "output_type": "stream",
     "text": [
      "[28000.  58233.2]\n"
     ]
    }
   ],
   "source": [
    "# Считаю 95-й и 99-й перцентили количества заказов на пользователя\n",
    "print(np.percentile(orders['revenue'], [95, 99]))"
   ]
  },
  {
   "cell_type": "markdown",
   "metadata": {},
   "source": [
    "Если отсеивать 5% данных, то надо будет отсеить начиная со стоимости 28000"
   ]
  },
  {
   "cell_type": "markdown",
   "metadata": {},
   "source": [
    "### Статистическая значимость различий конверсии и среднего чека. Неочищенные данные."
   ]
  },
  {
   "cell_type": "code",
   "execution_count": 23,
   "metadata": {},
   "outputs": [
    {
     "data": {
      "text/html": [
       "<div>\n",
       "<style scoped>\n",
       "    .dataframe tbody tr th:only-of-type {\n",
       "        vertical-align: middle;\n",
       "    }\n",
       "\n",
       "    .dataframe tbody tr th {\n",
       "        vertical-align: top;\n",
       "    }\n",
       "\n",
       "    .dataframe thead th {\n",
       "        text-align: right;\n",
       "    }\n",
       "</style>\n",
       "<table border=\"1\" class=\"dataframe\">\n",
       "  <thead>\n",
       "    <tr style=\"text-align: right;\">\n",
       "      <th></th>\n",
       "      <th>date</th>\n",
       "      <th>ordersPerDateA</th>\n",
       "      <th>revenuePerDateA</th>\n",
       "      <th>ordersPerDateB</th>\n",
       "      <th>revenuePerDateB</th>\n",
       "      <th>ordersCummulativeA</th>\n",
       "      <th>revenueCummulativeA</th>\n",
       "      <th>ordersCummulativeB</th>\n",
       "      <th>revenueCummulativeB</th>\n",
       "      <th>visitorsPerDateA</th>\n",
       "      <th>visitorsPerDateB</th>\n",
       "      <th>visitorsCummulativeA</th>\n",
       "      <th>visitorsCummulativeB</th>\n",
       "    </tr>\n",
       "  </thead>\n",
       "  <tbody>\n",
       "    <tr>\n",
       "      <th>0</th>\n",
       "      <td>2019-08-01</td>\n",
       "      <td>24</td>\n",
       "      <td>148579</td>\n",
       "      <td>21</td>\n",
       "      <td>101217</td>\n",
       "      <td>24</td>\n",
       "      <td>148579</td>\n",
       "      <td>21</td>\n",
       "      <td>101217</td>\n",
       "      <td>719</td>\n",
       "      <td>713</td>\n",
       "      <td>719</td>\n",
       "      <td>713</td>\n",
       "    </tr>\n",
       "    <tr>\n",
       "      <th>1</th>\n",
       "      <td>2019-08-02</td>\n",
       "      <td>20</td>\n",
       "      <td>93822</td>\n",
       "      <td>24</td>\n",
       "      <td>165531</td>\n",
       "      <td>44</td>\n",
       "      <td>242401</td>\n",
       "      <td>45</td>\n",
       "      <td>266748</td>\n",
       "      <td>619</td>\n",
       "      <td>581</td>\n",
       "      <td>1338</td>\n",
       "      <td>1294</td>\n",
       "    </tr>\n",
       "    <tr>\n",
       "      <th>2</th>\n",
       "      <td>2019-08-03</td>\n",
       "      <td>24</td>\n",
       "      <td>112473</td>\n",
       "      <td>16</td>\n",
       "      <td>114248</td>\n",
       "      <td>68</td>\n",
       "      <td>354874</td>\n",
       "      <td>61</td>\n",
       "      <td>380996</td>\n",
       "      <td>507</td>\n",
       "      <td>509</td>\n",
       "      <td>1845</td>\n",
       "      <td>1803</td>\n",
       "    </tr>\n",
       "    <tr>\n",
       "      <th>3</th>\n",
       "      <td>2019-08-04</td>\n",
       "      <td>16</td>\n",
       "      <td>70825</td>\n",
       "      <td>17</td>\n",
       "      <td>108571</td>\n",
       "      <td>84</td>\n",
       "      <td>425699</td>\n",
       "      <td>78</td>\n",
       "      <td>489567</td>\n",
       "      <td>717</td>\n",
       "      <td>770</td>\n",
       "      <td>2562</td>\n",
       "      <td>2573</td>\n",
       "    </tr>\n",
       "    <tr>\n",
       "      <th>4</th>\n",
       "      <td>2019-08-05</td>\n",
       "      <td>25</td>\n",
       "      <td>124218</td>\n",
       "      <td>23</td>\n",
       "      <td>92428</td>\n",
       "      <td>109</td>\n",
       "      <td>549917</td>\n",
       "      <td>101</td>\n",
       "      <td>581995</td>\n",
       "      <td>756</td>\n",
       "      <td>707</td>\n",
       "      <td>3318</td>\n",
       "      <td>3280</td>\n",
       "    </tr>\n",
       "  </tbody>\n",
       "</table>\n",
       "</div>"
      ],
      "text/plain": [
       "        date  ordersPerDateA  revenuePerDateA  ordersPerDateB  \\\n",
       "0 2019-08-01              24           148579              21   \n",
       "1 2019-08-02              20            93822              24   \n",
       "2 2019-08-03              24           112473              16   \n",
       "3 2019-08-04              16            70825              17   \n",
       "4 2019-08-05              25           124218              23   \n",
       "\n",
       "   revenuePerDateB  ordersCummulativeA  revenueCummulativeA  \\\n",
       "0           101217                  24               148579   \n",
       "1           165531                  44               242401   \n",
       "2           114248                  68               354874   \n",
       "3           108571                  84               425699   \n",
       "4            92428                 109               549917   \n",
       "\n",
       "   ordersCummulativeB  revenueCummulativeB  visitorsPerDateA  \\\n",
       "0                  21               101217               719   \n",
       "1                  45               266748               619   \n",
       "2                  61               380996               507   \n",
       "3                  78               489567               717   \n",
       "4                 101               581995               756   \n",
       "\n",
       "   visitorsPerDateB  visitorsCummulativeA  visitorsCummulativeB  \n",
       "0               713                   719                   713  \n",
       "1               581                  1338                  1294  \n",
       "2               509                  1845                  1803  \n",
       "3               770                  2562                  2573  \n",
       "4               707                  3318                  3280  "
      ]
     },
     "metadata": {},
     "output_type": "display_data"
    }
   ],
   "source": [
    "# подготавливаю данные для анализа\n",
    "\n",
    "visitorsADaily = visitors[visitors['group'] == 'A'][['date', 'visitors']]\n",
    "visitorsADaily.columns = ['date', 'visitorsPerDateA']\n",
    "\n",
    "visitorsACummulative = visitorsADaily.apply(\n",
    "    lambda x: visitorsADaily[visitorsADaily['date'] <= x['date']].agg(\n",
    "        {'date': 'max', 'visitorsPerDateA': 'sum'}\n",
    "    ),\n",
    "    axis=1,\n",
    ")\n",
    "visitorsACummulative.columns = ['date', 'visitorsCummulativeA']\n",
    "\n",
    "visitorsBDaily = visitors[visitors['group'] == 'B'][['date', 'visitors']]\n",
    "visitorsBDaily.columns = ['date', 'visitorsPerDateB']\n",
    "\n",
    "visitorsBCummulative = visitorsBDaily.apply(\n",
    "    lambda x: visitorsBDaily[visitorsBDaily['date'] <= x['date']].agg(\n",
    "        {'date': 'max', 'visitorsPerDateB': 'sum'}\n",
    "    ),\n",
    "    axis=1,\n",
    ")\n",
    "visitorsBCummulative.columns = ['date', 'visitorsCummulativeB']\n",
    "\n",
    "ordersADaily = (\n",
    "    orders[orders['group'] == 'A'][['date', 'transaction_id', 'visitor_id', 'revenue']]\n",
    "    .groupby('date', as_index=False)\n",
    "    .agg({'transaction_id': pd.Series.nunique, 'revenue': 'sum'})\n",
    ")\n",
    "\n",
    "ordersADaily.columns = ['date', 'ordersPerDateA', 'revenuePerDateA']\n",
    "\n",
    "ordersACummulative = ordersADaily.apply(\n",
    "    lambda x: ordersADaily[ordersADaily['date'] <= x['date']].agg(\n",
    "        {'date': 'max', 'ordersPerDateA': 'sum', 'revenuePerDateA': 'sum'}\n",
    "    ),\n",
    "    axis=1,\n",
    ").sort_values(by=['date'])\n",
    "ordersACummulative.columns = [\n",
    "    'date',\n",
    "    'ordersCummulativeA',\n",
    "    'revenueCummulativeA',\n",
    "]\n",
    "\n",
    "ordersBDaily = (\n",
    "    orders[orders['group'] == 'B'][['date', 'transaction_id', 'visitor_id', 'revenue']]\n",
    "    .groupby('date', as_index=False)\n",
    "    .agg({'transaction_id': pd.Series.nunique, 'revenue': 'sum'})\n",
    ")\n",
    "ordersBDaily.columns = ['date', 'ordersPerDateB', 'revenuePerDateB']\n",
    "\n",
    "ordersBCummulative = ordersBDaily.apply(\n",
    "    lambda x: ordersBDaily[ordersBDaily['date'] <= x['date']].agg(\n",
    "        {'date': 'max', 'ordersPerDateB': 'sum', 'revenuePerDateB': 'sum'}\n",
    "    ),\n",
    "    axis=1,\n",
    ").sort_values(by=['date'])\n",
    "ordersBCummulative.columns = [\n",
    "    'date',\n",
    "    'ordersCummulativeB',\n",
    "    'revenueCummulativeB',\n",
    "]\n",
    "\n",
    "data = (\n",
    "    ordersADaily.merge(\n",
    "        ordersBDaily, left_on='date', right_on='date', how='left'\n",
    "    )\n",
    "    .merge(ordersACummulative, left_on='date', right_on='date', how='left')\n",
    "    .merge(ordersBCummulative, left_on='date', right_on='date', how='left')\n",
    "    .merge(visitorsADaily, left_on='date', right_on='date', how='left')\n",
    "    .merge(visitorsBDaily, left_on='date', right_on='date', how='left')\n",
    "    .merge(visitorsACummulative, left_on='date', right_on='date', how='left')\n",
    "    .merge(visitorsBCummulative, left_on='date', right_on='date', how='left')\n",
    ")\n",
    "\n",
    "display(data.head())"
   ]
  },
  {
   "cell_type": "markdown",
   "metadata": {},
   "source": [
    "Сформируем гипотезы:\n",
    "1. Конверсия по неочищенным данным:  \n",
    "`Нулевая гипотеза` – конверсия у групп A и B не отличается <br>\n",
    "`Альтернативная гипотеза` – конверсия у групп A и B отличается \n",
    "\n",
    "2. Средний чек по неочищенным данным:  \n",
    "`Нулевая гипотеза` – средний чек у групп A и B не отличается<br>\n",
    "`Альтернативная гипотеза` – средний чек у групп A и B отличается"
   ]
  },
  {
   "cell_type": "code",
   "execution_count": 24,
   "metadata": {},
   "outputs": [
    {
     "name": "stdout",
     "output_type": "stream",
     "text": [
      "0.0168\n",
      "0.1381\n"
     ]
    }
   ],
   "source": [
    "# Считаю статистическую значимость различия в конверсии между группами по сырым данным\n",
    "\n",
    "ordersByUsersA = (\n",
    "    orders[orders['group'] == 'A']\n",
    "    .groupby('visitor_id', as_index=False)\n",
    "    .agg({'transaction_id': pd.Series.nunique})\n",
    ")\n",
    "ordersByUsersA.columns = ['visitor_id', 'orders']\n",
    "\n",
    "ordersByUsersB = (\n",
    "    orders[orders['group'] == 'B']\n",
    "    .groupby('visitor_id', as_index=False)\n",
    "    .agg({'transaction_id': pd.Series.nunique})\n",
    ")\n",
    "ordersByUsersB.columns = ['visitor_id', 'orders']\n",
    "\n",
    "sampleA = pd.concat(\n",
    "    [\n",
    "        ordersByUsersA['orders'],\n",
    "        pd.Series(\n",
    "            0,\n",
    "            index=np.arange(\n",
    "                data['visitorsPerDateA'].sum() - len(ordersByUsersA['orders'])\n",
    "            ),\n",
    "            name='orders',\n",
    "        ),\n",
    "    ],\n",
    "    axis=0,\n",
    ")\n",
    "\n",
    "sampleB = pd.concat(\n",
    "    [\n",
    "        ordersByUsersB['orders'],\n",
    "        pd.Series(\n",
    "            0,\n",
    "            index=np.arange(\n",
    "                data['visitorsPerDateB'].sum() - len(ordersByUsersB['orders'])\n",
    "            ),\n",
    "            name='orders',\n",
    "        ),\n",
    "    ],\n",
    "    axis=0,\n",
    ")\n",
    "\n",
    "print(\"{0:.4f}\".format(stats.mannwhitneyu(sampleA, sampleB)[1]))\n",
    "print(\"{0:.4f}\".format(sampleB.mean() / sampleA.mean() - 1))"
   ]
  },
  {
   "cell_type": "markdown",
   "metadata": {},
   "source": [
    "Вывод: По «сырым» данным различия в конверсии у групп `A и B` есть.\n",
    "Первое число — p-value = 0.0084 меньше 0.05. Значит, нулевую гипотезу о том, что статистически значимых различий в конверсии между группами нет, отвергаем."
   ]
  },
  {
   "cell_type": "code",
   "execution_count": 25,
   "metadata": {},
   "outputs": [
    {
     "name": "stdout",
     "output_type": "stream",
     "text": [
      "0.729\n",
      "0.259\n"
     ]
    }
   ],
   "source": [
    "# гляну на  относительные различия в среднем чеке между группами\n",
    "print('{0:.3f}'.format(stats.mannwhitneyu(orders[orders['group']=='A']['revenue'], orders[orders['group']=='B']['revenue'])[1]))\n",
    "print('{0:.3f}'.format(orders[orders['group']=='B']['revenue'].mean()/orders[orders['group']=='A']['revenue'].mean()-1)) "
   ]
  },
  {
   "cell_type": "markdown",
   "metadata": {},
   "source": [
    "P-value значительно больше 0.05. Значит, причин отвергать нулевую гипотезу и считать, что в среднем чеке есть различия, нет."
   ]
  },
  {
   "cell_type": "markdown",
   "metadata": {},
   "source": [
    "### Статистическая значимость различий конверсии и среднего чека. Очищенные данные."
   ]
  },
  {
   "cell_type": "markdown",
   "metadata": {},
   "source": [
    "Сформируем гипотезы:\n",
    "1. Конверсия по очищенным данным:  \n",
    "`Нулевая гипотеза` – конверсия у групп A и B не отличается <br>\n",
    "`Альтернативная гипотеза` – конверсия у групп A и B отличается \n",
    "\n",
    "2. Средний чек по очищенным данным:  \n",
    "`Нулевая гипотеза` – средний чек у групп A и B не отличается<br>\n",
    "`Альтернативная гипотеза` – средний чек у групп A и B отличается"
   ]
  },
  {
   "cell_type": "markdown",
   "metadata": {},
   "source": [
    "Попробуем посмотреть на данные через очищен. данные.\n",
    "Примем за аномальных пользователей тех, кто совершил от 2 заказов или совершил заказ дороже 30 000 рублей. Так мы уберём 5% пользователей с наибольшим числом заказов и от 4% до 5% пользователей с дорогими заказами. Сделаем срезы пользователей с числом заказов больше 2 — usersWithManyOrders и пользователей, совершивших заказы дороже 30 000 — usersWithExpensiveOrders. Объединим их в таблице abnormalUsers."
   ]
  },
  {
   "cell_type": "code",
   "execution_count": 26,
   "metadata": {},
   "outputs": [
    {
     "name": "stdout",
     "output_type": "stream",
     "text": [
      "1103    1164614297\n",
      "31      1230306981\n",
      "1136    1307669133\n",
      "858     1316129916\n",
      "421     1357170471\n",
      "Name: visitor_id, dtype: object\n",
      "(68,)\n"
     ]
    }
   ],
   "source": [
    "usersWithManyOrders = pd.concat(\n",
    "    [\n",
    "        ordersByUsersA[ordersByUsersA['orders'] > 2]['visitor_id'],\n",
    "        ordersByUsersB[ordersByUsersB['orders'] > 2]['visitor_id'],\n",
    "    ],\n",
    "    axis=0,\n",
    ")\n",
    "usersWithExpensiveOrders = orders[orders['revenue'] > 30000]['visitor_id']\n",
    "abnormalUsers = (\n",
    "    pd.concat([usersWithManyOrders, usersWithExpensiveOrders], axis=0)\n",
    "    .drop_duplicates()\n",
    "    .sort_values()\n",
    ")\n",
    "print(abnormalUsers.head(5))\n",
    "print(abnormalUsers.shape)"
   ]
  },
  {
   "cell_type": "markdown",
   "metadata": {},
   "source": [
    "Всего 68 аномальных пользователей. Узнаем, как их действия повлияли на результаты теста. Посчитаем статистическую значимость различий в конверсии между группами теста по очищенным данным. Сначала подготовим выборки количества заказов по пользователям по группам теста:"
   ]
  },
  {
   "cell_type": "code",
   "execution_count": 27,
   "metadata": {},
   "outputs": [],
   "source": [
    "sampleAFiltered = pd.concat(\n",
    "    [\n",
    "        ordersByUsersA[\n",
    "            np.logical_not(ordersByUsersA['visitor_id'].isin(abnormalUsers))\n",
    "        ]['orders'],\n",
    "        pd.Series(\n",
    "            0,\n",
    "            index=np.arange(\n",
    "                data['visitorsPerDateA'].sum() - len(ordersByUsersA['orders'])\n",
    "            ),\n",
    "            name='orders',\n",
    "        ),\n",
    "    ],\n",
    "    axis=0,\n",
    ")\n",
    "\n",
    "sampleBFiltered = pd.concat(\n",
    "    [\n",
    "        ordersByUsersB[\n",
    "            np.logical_not(ordersByUsersB['visitor_id'].isin(abnormalUsers))\n",
    "        ]['orders'],\n",
    "        pd.Series(\n",
    "            0,\n",
    "            index=np.arange(\n",
    "                data['visitorsPerDateB'].sum() - len(ordersByUsersB['orders'])\n",
    "            ),\n",
    "            name='orders',\n",
    "        ),\n",
    "    ],\n",
    "    axis=0,\n",
    ")"
   ]
  },
  {
   "cell_type": "markdown",
   "metadata": {},
   "source": [
    "Применим статистический критерий Манна-Уитни к полученным выборкам:"
   ]
  },
  {
   "cell_type": "code",
   "execution_count": 28,
   "metadata": {},
   "outputs": [
    {
     "name": "stdout",
     "output_type": "stream",
     "text": [
      "0.0133\n",
      "0.1716\n"
     ]
    }
   ],
   "source": [
    "print('{0:.4f}'.format(stats.mannwhitneyu(sampleAFiltered, sampleBFiltered, alternative=\"two-sided\")[1]))\n",
    "print('{0:.4f}'.format(sampleBFiltered.mean()/sampleAFiltered.mean()-1))"
   ]
  },
  {
   "cell_type": "markdown",
   "metadata": {},
   "source": [
    "Результаты по конверсии практически не изменились. Произошло ли что-нибудь с результатами по среднему чеку?"
   ]
  },
  {
   "cell_type": "code",
   "execution_count": 29,
   "metadata": {},
   "outputs": [
    {
     "name": "stdout",
     "output_type": "stream",
     "text": [
      "0.720\n",
      "-0.023\n"
     ]
    }
   ],
   "source": [
    "print(\n",
    "    '{0:.3f}'.format(\n",
    "        stats.mannwhitneyu(\n",
    "            orders[\n",
    "                np.logical_and(\n",
    "                    orders['group'] == 'A',\n",
    "                    np.logical_not(orders['visitor_id'].isin(abnormalUsers)),\n",
    "                )\n",
    "            ]['revenue'],\n",
    "            orders[\n",
    "                np.logical_and(\n",
    "                    orders['group'] == 'B',\n",
    "                    np.logical_not(orders['visitor_id'].isin(abnormalUsers)),\n",
    "                )\n",
    "            ]['revenue'],\n",
    "        )[1]\n",
    "    )\n",
    ")\n",
    "\n",
    "print(\n",
    "    \"{0:.3f}\".format(\n",
    "        orders[\n",
    "            np.logical_and(\n",
    "                orders['group'] == 'B',\n",
    "                np.logical_not(orders['visitor_id'].isin(abnormalUsers)),\n",
    "            )\n",
    "        ]['revenue'].mean()\n",
    "        / orders[\n",
    "            np.logical_and(\n",
    "                orders['group'] == 'A',\n",
    "                np.logical_not(orders['visitor_id'].isin(abnormalUsers)),\n",
    "            )\n",
    "        ]['revenue'].mean()\n",
    "        - 1\n",
    "    )\n",
    ")"
   ]
  },
  {
   "cell_type": "markdown",
   "metadata": {},
   "source": [
    "Интересно, но после удаления выбросов средний чек у групп не различается. P-value значительно больше 0.05. Значит отвергаем нулевую гипотезу."
   ]
  },
  {
   "cell_type": "markdown",
   "metadata": {},
   "source": [
    "Имеющиеся факты:\n",
    "1. Нет статистически значимого различия по конверсии между группами ни по «сырым», ни по данным после фильтрации аномалий.\n",
    "2. Нет статистически значимого различия по среднему чеку между группами ни по «сырым», ни по данным после фильтрации аномалий.\n",
    "3. График различия конверсии между группами сообщает, что результаты группы `A` хуже группы `B` и нет значительной тенденции к улучшению.\n",
    "4. График различия среднего чека говорит о том, что результаты группы `A` хуже результатов `B`, но только когда данные не очищены. После удаления выбросов средний чек у групп не различается."
   ]
  },
  {
   "cell_type": "markdown",
   "metadata": {},
   "source": [
    "## Вывод"
   ]
  },
  {
   "cell_type": "markdown",
   "metadata": {},
   "source": [
    "После анализа и имеющихся фактов, хочу поздравить всю команду с успешно проведенем тестом. Мы молодцы! Ведь мы провели удачный эксперимент и успешно смогли поднять монетиз. метрики нашего проекта :)\n",
    "<br> <br> А теперь по тесту: советую остановить тест и признать его успешным. Победили изменения сделанные в `группе B`.\n",
    "1. Конверсия у группы `B` выше примерно на 15%, чем у группы `A`. (как с выбросами так и без)\n",
    "2. По неочищен. данным средний чек у группы `B` тоже заметно выше `A`, но если убрать выбросы - средний чек у групп не отличается.\n",
    "\n",
    "Советую раскатить изменения `B` на 100% и начать прорабатывать новую гипотезу."
   ]
  }
 ],
 "metadata": {
  "ExecuteTimeLog": [
   {
    "duration": 1151,
    "start_time": "2022-02-09T09:53:52.085Z"
   },
   {
    "duration": 43,
    "start_time": "2022-02-09T09:58:45.619Z"
   },
   {
    "duration": 11,
    "start_time": "2022-02-09T09:59:06.473Z"
   },
   {
    "duration": 9,
    "start_time": "2022-02-09T10:01:15.160Z"
   },
   {
    "duration": 9,
    "start_time": "2022-02-09T10:06:16.106Z"
   },
   {
    "duration": 7,
    "start_time": "2022-02-09T10:06:27.715Z"
   },
   {
    "duration": 8,
    "start_time": "2022-02-09T10:08:18.209Z"
   },
   {
    "duration": 3,
    "start_time": "2022-02-09T10:09:03.628Z"
   },
   {
    "duration": 8,
    "start_time": "2022-02-09T10:09:05.486Z"
   },
   {
    "duration": 15,
    "start_time": "2022-02-09T10:11:49.473Z"
   },
   {
    "duration": 8,
    "start_time": "2022-02-09T10:11:56.487Z"
   },
   {
    "duration": 5,
    "start_time": "2022-02-09T10:12:13.407Z"
   },
   {
    "duration": 9,
    "start_time": "2022-02-09T10:12:15.672Z"
   },
   {
    "duration": 10,
    "start_time": "2022-02-09T10:12:55.582Z"
   },
   {
    "duration": 40,
    "start_time": "2022-02-09T10:13:32.520Z"
   },
   {
    "duration": 4,
    "start_time": "2022-02-09T10:13:33.753Z"
   },
   {
    "duration": 8,
    "start_time": "2022-02-09T10:13:34.932Z"
   },
   {
    "duration": 8,
    "start_time": "2022-02-09T10:13:36.558Z"
   },
   {
    "duration": 9,
    "start_time": "2022-02-09T10:13:39.066Z"
   },
   {
    "duration": 8,
    "start_time": "2022-02-09T10:13:41.127Z"
   },
   {
    "duration": 7,
    "start_time": "2022-02-09T10:13:51.804Z"
   },
   {
    "duration": 7,
    "start_time": "2022-02-09T10:14:04.943Z"
   },
   {
    "duration": 7,
    "start_time": "2022-02-09T10:14:19.242Z"
   },
   {
    "duration": 10,
    "start_time": "2022-02-09T10:14:20.501Z"
   },
   {
    "duration": 8,
    "start_time": "2022-02-09T10:17:39.093Z"
   },
   {
    "duration": 8,
    "start_time": "2022-02-09T10:17:40.623Z"
   },
   {
    "duration": 7,
    "start_time": "2022-02-09T10:17:58.154Z"
   },
   {
    "duration": 8,
    "start_time": "2022-02-09T10:18:00.821Z"
   },
   {
    "duration": 7,
    "start_time": "2022-02-09T10:18:50.651Z"
   },
   {
    "duration": 7,
    "start_time": "2022-02-09T10:18:52.272Z"
   },
   {
    "duration": 9,
    "start_time": "2022-02-09T10:27:23.643Z"
   },
   {
    "duration": 27,
    "start_time": "2022-02-09T10:27:46.203Z"
   },
   {
    "duration": 9,
    "start_time": "2022-02-09T10:29:22.826Z"
   },
   {
    "duration": 8,
    "start_time": "2022-02-09T10:35:22.003Z"
   },
   {
    "duration": 14,
    "start_time": "2022-02-09T10:36:27.869Z"
   },
   {
    "duration": 10,
    "start_time": "2022-02-09T10:40:41.718Z"
   },
   {
    "duration": 11,
    "start_time": "2022-02-09T10:44:31.502Z"
   },
   {
    "duration": 10,
    "start_time": "2022-02-09T10:44:36.254Z"
   },
   {
    "duration": 13,
    "start_time": "2022-02-09T10:45:34.489Z"
   },
   {
    "duration": 8,
    "start_time": "2022-02-09T10:45:39.084Z"
   },
   {
    "duration": 16,
    "start_time": "2022-02-09T10:48:26.017Z"
   },
   {
    "duration": 14,
    "start_time": "2022-02-09T10:50:47.202Z"
   },
   {
    "duration": 10,
    "start_time": "2022-02-09T11:06:07.506Z"
   },
   {
    "duration": 12,
    "start_time": "2022-02-09T11:10:09.285Z"
   },
   {
    "duration": 5,
    "start_time": "2022-02-09T11:10:30.075Z"
   },
   {
    "duration": 8,
    "start_time": "2022-02-09T11:13:15.882Z"
   },
   {
    "duration": 14,
    "start_time": "2022-02-09T11:13:44.389Z"
   },
   {
    "duration": 15,
    "start_time": "2022-02-09T11:13:48.453Z"
   },
   {
    "duration": 16,
    "start_time": "2022-02-09T11:13:52.013Z"
   },
   {
    "duration": 9,
    "start_time": "2022-02-09T11:14:34.064Z"
   },
   {
    "duration": 342,
    "start_time": "2022-02-09T11:17:04.661Z"
   },
   {
    "duration": 8,
    "start_time": "2022-02-09T11:20:29.578Z"
   },
   {
    "duration": 358,
    "start_time": "2022-02-09T11:41:37.755Z"
   },
   {
    "duration": 282,
    "start_time": "2022-02-09T11:42:21.352Z"
   },
   {
    "duration": 6,
    "start_time": "2022-02-09T11:42:25.218Z"
   },
   {
    "duration": 6330,
    "start_time": "2022-02-09T11:42:26.809Z"
   },
   {
    "duration": 9,
    "start_time": "2022-02-09T11:42:55.677Z"
   },
   {
    "duration": 204,
    "start_time": "2022-02-09T11:43:31.830Z"
   },
   {
    "duration": 153,
    "start_time": "2022-02-09T11:44:58.396Z"
   },
   {
    "duration": 157,
    "start_time": "2022-02-09T11:45:39.173Z"
   },
   {
    "duration": 186,
    "start_time": "2022-02-09T11:46:18.834Z"
   },
   {
    "duration": 199,
    "start_time": "2022-02-09T11:46:55.366Z"
   },
   {
    "duration": 158,
    "start_time": "2022-02-09T11:46:56.709Z"
   },
   {
    "duration": 11,
    "start_time": "2022-02-09T11:47:54.083Z"
   },
   {
    "duration": 318,
    "start_time": "2022-02-09T11:48:58.636Z"
   },
   {
    "duration": 323,
    "start_time": "2022-02-09T11:49:11.261Z"
   },
   {
    "duration": 296,
    "start_time": "2022-02-09T11:49:40.578Z"
   },
   {
    "duration": 560,
    "start_time": "2022-02-09T11:50:32.055Z"
   },
   {
    "duration": 442,
    "start_time": "2022-02-09T11:51:03.408Z"
   },
   {
    "duration": 825,
    "start_time": "2022-02-09T11:51:15.580Z"
   },
   {
    "duration": 276,
    "start_time": "2022-02-09T11:51:22.264Z"
   },
   {
    "duration": 9,
    "start_time": "2022-02-09T11:53:43.605Z"
   },
   {
    "duration": 363,
    "start_time": "2022-02-09T11:54:11.383Z"
   },
   {
    "duration": 565,
    "start_time": "2022-02-09T11:54:21.421Z"
   },
   {
    "duration": 618,
    "start_time": "2022-02-09T11:54:41.257Z"
   },
   {
    "duration": 590,
    "start_time": "2022-02-09T11:54:47.711Z"
   },
   {
    "duration": 654,
    "start_time": "2022-02-09T11:54:52.026Z"
   },
   {
    "duration": 489,
    "start_time": "2022-02-09T11:55:08.029Z"
   },
   {
    "duration": 575,
    "start_time": "2022-02-09T11:55:13.713Z"
   },
   {
    "duration": 581,
    "start_time": "2022-02-09T11:57:26.589Z"
   },
   {
    "duration": 7,
    "start_time": "2022-02-09T11:57:38.730Z"
   },
   {
    "duration": 629,
    "start_time": "2022-02-09T11:57:41.373Z"
   },
   {
    "duration": 611,
    "start_time": "2022-02-09T11:57:53.807Z"
   },
   {
    "duration": 679,
    "start_time": "2022-02-09T11:58:21.667Z"
   },
   {
    "duration": 7,
    "start_time": "2022-02-09T11:58:40.741Z"
   },
   {
    "duration": 41,
    "start_time": "2022-02-09T11:58:40.750Z"
   },
   {
    "duration": 10,
    "start_time": "2022-02-09T11:58:40.794Z"
   },
   {
    "duration": 6,
    "start_time": "2022-02-09T11:58:40.806Z"
   },
   {
    "duration": 10,
    "start_time": "2022-02-09T11:58:40.814Z"
   },
   {
    "duration": 9,
    "start_time": "2022-02-09T11:58:40.826Z"
   },
   {
    "duration": 7,
    "start_time": "2022-02-09T11:58:40.837Z"
   },
   {
    "duration": 10,
    "start_time": "2022-02-09T11:58:40.846Z"
   },
   {
    "duration": 11,
    "start_time": "2022-02-09T11:58:40.859Z"
   },
   {
    "duration": 52,
    "start_time": "2022-02-09T11:58:40.872Z"
   },
   {
    "duration": 8,
    "start_time": "2022-02-09T11:58:40.925Z"
   },
   {
    "duration": 216,
    "start_time": "2022-02-09T11:58:40.935Z"
   },
   {
    "duration": 172,
    "start_time": "2022-02-09T11:58:41.152Z"
   },
   {
    "duration": 12,
    "start_time": "2022-02-09T11:58:41.326Z"
   },
   {
    "duration": 14,
    "start_time": "2022-02-09T11:58:41.340Z"
   },
   {
    "duration": 614,
    "start_time": "2022-02-09T11:58:41.356Z"
   },
   {
    "duration": 10,
    "start_time": "2022-02-09T11:58:41.972Z"
   },
   {
    "duration": 35,
    "start_time": "2022-02-09T11:58:41.984Z"
   },
   {
    "duration": 633,
    "start_time": "2022-02-09T11:58:48.890Z"
   },
   {
    "duration": 587,
    "start_time": "2022-02-09T11:59:13.561Z"
   },
   {
    "duration": 294,
    "start_time": "2022-02-09T12:03:59.717Z"
   },
   {
    "duration": 582,
    "start_time": "2022-02-09T12:06:26.279Z"
   },
   {
    "duration": 392,
    "start_time": "2022-02-09T12:10:56.343Z"
   },
   {
    "duration": 389,
    "start_time": "2022-02-09T12:11:07.440Z"
   },
   {
    "duration": 764,
    "start_time": "2022-02-09T12:11:19.000Z"
   },
   {
    "duration": 879,
    "start_time": "2022-02-09T12:11:28.714Z"
   },
   {
    "duration": 745,
    "start_time": "2022-02-09T12:11:35.590Z"
   },
   {
    "duration": 279,
    "start_time": "2022-02-09T12:24:32.780Z"
   },
   {
    "duration": 314,
    "start_time": "2022-02-09T12:24:48.091Z"
   },
   {
    "duration": 563,
    "start_time": "2022-02-09T12:25:17.629Z"
   },
   {
    "duration": 791,
    "start_time": "2022-02-09T12:25:34.238Z"
   },
   {
    "duration": 764,
    "start_time": "2022-02-09T12:26:17.045Z"
   },
   {
    "duration": 583,
    "start_time": "2022-02-09T12:26:35.052Z"
   },
   {
    "duration": 447,
    "start_time": "2022-02-09T12:29:05.305Z"
   },
   {
    "duration": 728,
    "start_time": "2022-02-09T12:29:40.492Z"
   },
   {
    "duration": 449,
    "start_time": "2022-02-09T12:29:52.429Z"
   },
   {
    "duration": 421,
    "start_time": "2022-02-09T12:30:18.028Z"
   },
   {
    "duration": 411,
    "start_time": "2022-02-09T12:30:31.894Z"
   },
   {
    "duration": 365,
    "start_time": "2022-02-09T12:30:36.640Z"
   },
   {
    "duration": 735,
    "start_time": "2022-02-09T12:30:49.900Z"
   },
   {
    "duration": 695,
    "start_time": "2022-02-09T12:31:07.823Z"
   },
   {
    "duration": 418,
    "start_time": "2022-02-09T12:44:30.017Z"
   },
   {
    "duration": 9,
    "start_time": "2022-02-09T12:51:27.006Z"
   },
   {
    "duration": 9,
    "start_time": "2022-02-09T12:51:31.948Z"
   },
   {
    "duration": 395,
    "start_time": "2022-02-09T12:51:38.848Z"
   },
   {
    "duration": 354,
    "start_time": "2022-02-09T12:51:48.734Z"
   },
   {
    "duration": 396,
    "start_time": "2022-02-09T12:52:15.618Z"
   },
   {
    "duration": 5,
    "start_time": "2022-02-09T13:00:41.441Z"
   },
   {
    "duration": 6,
    "start_time": "2022-02-09T13:01:06.574Z"
   },
   {
    "duration": 5,
    "start_time": "2022-02-09T13:01:17.114Z"
   },
   {
    "duration": 5,
    "start_time": "2022-02-09T13:01:22.466Z"
   },
   {
    "duration": 5,
    "start_time": "2022-02-09T13:01:26.611Z"
   },
   {
    "duration": 358,
    "start_time": "2022-02-09T13:15:13.768Z"
   },
   {
    "duration": 487,
    "start_time": "2022-02-09T13:18:18.146Z"
   },
   {
    "duration": 356,
    "start_time": "2022-02-09T13:19:01.353Z"
   },
   {
    "duration": 4,
    "start_time": "2022-02-09T13:19:53.135Z"
   },
   {
    "duration": 4,
    "start_time": "2022-02-09T13:19:58.704Z"
   },
   {
    "duration": 4,
    "start_time": "2022-02-09T13:20:01.866Z"
   },
   {
    "duration": 4,
    "start_time": "2022-02-09T13:20:13.259Z"
   },
   {
    "duration": 20,
    "start_time": "2022-02-09T14:02:45.957Z"
   },
   {
    "duration": 45,
    "start_time": "2022-02-09T14:02:45.980Z"
   },
   {
    "duration": 16,
    "start_time": "2022-02-09T14:02:46.028Z"
   },
   {
    "duration": 9,
    "start_time": "2022-02-09T14:02:46.047Z"
   },
   {
    "duration": 23,
    "start_time": "2022-02-09T14:02:46.058Z"
   },
   {
    "duration": 17,
    "start_time": "2022-02-09T14:02:46.083Z"
   },
   {
    "duration": 11,
    "start_time": "2022-02-09T14:02:46.119Z"
   },
   {
    "duration": 14,
    "start_time": "2022-02-09T14:02:46.133Z"
   },
   {
    "duration": 19,
    "start_time": "2022-02-09T14:02:46.150Z"
   },
   {
    "duration": 17,
    "start_time": "2022-02-09T14:02:46.171Z"
   },
   {
    "duration": 33,
    "start_time": "2022-02-09T14:02:46.190Z"
   },
   {
    "duration": 216,
    "start_time": "2022-02-09T14:02:46.225Z"
   },
   {
    "duration": 175,
    "start_time": "2022-02-09T14:02:46.443Z"
   },
   {
    "duration": 14,
    "start_time": "2022-02-09T14:02:46.620Z"
   },
   {
    "duration": 9,
    "start_time": "2022-02-09T14:02:46.635Z"
   },
   {
    "duration": 620,
    "start_time": "2022-02-09T14:02:46.645Z"
   },
   {
    "duration": 582,
    "start_time": "2022-02-09T14:02:47.267Z"
   },
   {
    "duration": 654,
    "start_time": "2022-02-09T14:02:47.850Z"
   },
   {
    "duration": 632,
    "start_time": "2022-02-09T14:02:48.507Z"
   },
   {
    "duration": 710,
    "start_time": "2022-02-09T14:02:49.141Z"
   },
   {
    "duration": 8,
    "start_time": "2022-02-09T14:02:49.853Z"
   },
   {
    "duration": 398,
    "start_time": "2022-02-09T14:02:49.863Z"
   },
   {
    "duration": 5,
    "start_time": "2022-02-09T14:02:50.264Z"
   },
   {
    "duration": 459,
    "start_time": "2022-02-09T14:02:50.271Z"
   },
   {
    "duration": 423,
    "start_time": "2022-02-09T14:02:50.732Z"
   },
   {
    "duration": 4,
    "start_time": "2022-02-09T14:02:51.157Z"
   },
   {
    "duration": 11,
    "start_time": "2022-02-09T14:12:17.805Z"
   },
   {
    "duration": 447,
    "start_time": "2022-02-09T14:13:52.977Z"
   },
   {
    "duration": 15,
    "start_time": "2022-02-09T14:14:14.920Z"
   },
   {
    "duration": 278,
    "start_time": "2022-02-09T14:15:23.183Z"
   },
   {
    "duration": 451,
    "start_time": "2022-02-09T14:16:18.574Z"
   },
   {
    "duration": 135,
    "start_time": "2022-02-09T14:16:51.182Z"
   },
   {
    "duration": 146,
    "start_time": "2022-02-09T14:19:48.458Z"
   },
   {
    "duration": 12,
    "start_time": "2022-02-09T14:23:23.761Z"
   },
   {
    "duration": 1123,
    "start_time": "2022-02-09T19:07:49.402Z"
   },
   {
    "duration": 99,
    "start_time": "2022-02-09T19:07:50.527Z"
   },
   {
    "duration": 18,
    "start_time": "2022-02-09T19:07:50.629Z"
   },
   {
    "duration": 5,
    "start_time": "2022-02-09T19:07:50.649Z"
   },
   {
    "duration": 11,
    "start_time": "2022-02-09T19:07:50.657Z"
   },
   {
    "duration": 13,
    "start_time": "2022-02-09T19:07:50.670Z"
   },
   {
    "duration": 17,
    "start_time": "2022-02-09T19:07:50.685Z"
   },
   {
    "duration": 13,
    "start_time": "2022-02-09T19:07:50.705Z"
   },
   {
    "duration": 12,
    "start_time": "2022-02-09T19:07:50.720Z"
   },
   {
    "duration": 13,
    "start_time": "2022-02-09T19:07:50.734Z"
   },
   {
    "duration": 8,
    "start_time": "2022-02-09T19:07:50.749Z"
   },
   {
    "duration": 259,
    "start_time": "2022-02-09T19:07:50.759Z"
   },
   {
    "duration": 189,
    "start_time": "2022-02-09T19:07:51.021Z"
   },
   {
    "duration": 12,
    "start_time": "2022-02-09T19:07:51.212Z"
   },
   {
    "duration": 21,
    "start_time": "2022-02-09T19:07:51.226Z"
   },
   {
    "duration": 687,
    "start_time": "2022-02-09T19:07:51.249Z"
   },
   {
    "duration": 657,
    "start_time": "2022-02-09T19:07:51.938Z"
   },
   {
    "duration": 731,
    "start_time": "2022-02-09T19:07:52.597Z"
   },
   {
    "duration": 656,
    "start_time": "2022-02-09T19:07:53.330Z"
   },
   {
    "duration": 734,
    "start_time": "2022-02-09T19:07:53.988Z"
   },
   {
    "duration": 9,
    "start_time": "2022-02-09T19:07:54.725Z"
   },
   {
    "duration": 396,
    "start_time": "2022-02-09T19:07:54.737Z"
   },
   {
    "duration": 4,
    "start_time": "2022-02-09T19:07:55.138Z"
   },
   {
    "duration": 407,
    "start_time": "2022-02-09T19:07:55.145Z"
   },
   {
    "duration": 414,
    "start_time": "2022-02-09T19:07:55.555Z"
   },
   {
    "duration": 4,
    "start_time": "2022-02-09T19:07:55.972Z"
   },
   {
    "duration": 29,
    "start_time": "2022-02-09T19:07:55.979Z"
   },
   {
    "duration": 369,
    "start_time": "2022-02-09T19:07:56.010Z"
   },
   {
    "duration": 178,
    "start_time": "2022-02-09T19:07:56.382Z"
   },
   {
    "duration": 11,
    "start_time": "2022-02-09T19:07:56.562Z"
   },
   {
    "duration": 158,
    "start_time": "2022-02-09T19:08:26.933Z"
   },
   {
    "duration": 1150,
    "start_time": "2022-02-10T15:26:31.097Z"
   },
   {
    "duration": 61,
    "start_time": "2022-02-10T15:26:32.249Z"
   },
   {
    "duration": 15,
    "start_time": "2022-02-10T15:26:32.313Z"
   },
   {
    "duration": 11,
    "start_time": "2022-02-10T15:26:32.330Z"
   },
   {
    "duration": 12,
    "start_time": "2022-02-10T15:26:32.343Z"
   },
   {
    "duration": 11,
    "start_time": "2022-02-10T15:26:32.357Z"
   },
   {
    "duration": 48,
    "start_time": "2022-02-10T15:26:32.370Z"
   },
   {
    "duration": 12,
    "start_time": "2022-02-10T15:26:32.420Z"
   },
   {
    "duration": 12,
    "start_time": "2022-02-10T15:26:32.435Z"
   },
   {
    "duration": 9,
    "start_time": "2022-02-10T15:26:32.450Z"
   },
   {
    "duration": 8,
    "start_time": "2022-02-10T15:26:32.461Z"
   },
   {
    "duration": 263,
    "start_time": "2022-02-10T15:26:32.470Z"
   },
   {
    "duration": 181,
    "start_time": "2022-02-10T15:26:32.735Z"
   },
   {
    "duration": 11,
    "start_time": "2022-02-10T15:26:32.917Z"
   },
   {
    "duration": 9,
    "start_time": "2022-02-10T15:26:32.929Z"
   },
   {
    "duration": 679,
    "start_time": "2022-02-10T15:26:32.940Z"
   },
   {
    "duration": 643,
    "start_time": "2022-02-10T15:26:33.620Z"
   },
   {
    "duration": 784,
    "start_time": "2022-02-10T15:26:34.265Z"
   },
   {
    "duration": 655,
    "start_time": "2022-02-10T15:26:35.051Z"
   },
   {
    "duration": 770,
    "start_time": "2022-02-10T15:26:35.708Z"
   },
   {
    "duration": 9,
    "start_time": "2022-02-10T15:26:36.481Z"
   },
   {
    "duration": 434,
    "start_time": "2022-02-10T15:26:36.493Z"
   },
   {
    "duration": 5,
    "start_time": "2022-02-10T15:26:36.930Z"
   },
   {
    "duration": 421,
    "start_time": "2022-02-10T15:26:36.938Z"
   },
   {
    "duration": 417,
    "start_time": "2022-02-10T15:26:37.361Z"
   },
   {
    "duration": 4,
    "start_time": "2022-02-10T15:26:37.780Z"
   },
   {
    "duration": 31,
    "start_time": "2022-02-10T15:26:37.787Z"
   },
   {
    "duration": 361,
    "start_time": "2022-02-10T15:26:37.820Z"
   },
   {
    "duration": 167,
    "start_time": "2022-02-10T15:26:38.183Z"
   },
   {
    "duration": 9,
    "start_time": "2022-02-10T15:26:38.352Z"
   },
   {
    "duration": 13,
    "start_time": "2022-02-10T15:31:47.392Z"
   },
   {
    "duration": 713,
    "start_time": "2022-02-10T15:40:08.559Z"
   },
   {
    "duration": 10,
    "start_time": "2022-02-10T15:40:10.271Z"
   },
   {
    "duration": 6268,
    "start_time": "2022-02-10T15:40:12.651Z"
   },
   {
    "duration": 5836,
    "start_time": "2022-02-10T15:40:34.796Z"
   },
   {
    "duration": 11,
    "start_time": "2022-02-10T15:40:48.593Z"
   },
   {
    "duration": 8,
    "start_time": "2022-02-10T15:43:06.440Z"
   },
   {
    "duration": 7,
    "start_time": "2022-02-10T15:43:10.996Z"
   },
   {
    "duration": 5571,
    "start_time": "2022-02-10T15:43:54.974Z"
   },
   {
    "duration": 15,
    "start_time": "2022-02-10T15:44:05.515Z"
   },
   {
    "duration": 5,
    "start_time": "2022-02-10T16:18:51.650Z"
   },
   {
    "duration": 5,
    "start_time": "2022-02-10T16:18:57.885Z"
   },
   {
    "duration": 9,
    "start_time": "2022-02-10T16:21:18.045Z"
   },
   {
    "duration": 9,
    "start_time": "2022-02-10T16:21:29.632Z"
   },
   {
    "duration": 9,
    "start_time": "2022-02-10T16:23:08.173Z"
   },
   {
    "duration": 9,
    "start_time": "2022-02-10T16:23:13.904Z"
   },
   {
    "duration": 14,
    "start_time": "2022-02-10T16:34:30.122Z"
   },
   {
    "duration": 81,
    "start_time": "2022-02-10T16:35:57.979Z"
   },
   {
    "duration": 1061,
    "start_time": "2022-02-10T16:36:43.120Z"
   },
   {
    "duration": 39,
    "start_time": "2022-02-10T16:36:44.183Z"
   },
   {
    "duration": 14,
    "start_time": "2022-02-10T16:36:44.226Z"
   },
   {
    "duration": 4,
    "start_time": "2022-02-10T16:36:44.242Z"
   },
   {
    "duration": 11,
    "start_time": "2022-02-10T16:36:44.247Z"
   },
   {
    "duration": 10,
    "start_time": "2022-02-10T16:36:44.260Z"
   },
   {
    "duration": 41,
    "start_time": "2022-02-10T16:36:44.273Z"
   },
   {
    "duration": 16,
    "start_time": "2022-02-10T16:36:44.316Z"
   },
   {
    "duration": 13,
    "start_time": "2022-02-10T16:36:44.334Z"
   },
   {
    "duration": 5,
    "start_time": "2022-02-10T16:36:44.350Z"
   },
   {
    "duration": 230,
    "start_time": "2022-02-10T16:36:44.356Z"
   },
   {
    "duration": 167,
    "start_time": "2022-02-10T16:36:44.587Z"
   },
   {
    "duration": 11,
    "start_time": "2022-02-10T16:36:44.755Z"
   },
   {
    "duration": 8,
    "start_time": "2022-02-10T16:36:44.767Z"
   },
   {
    "duration": 335,
    "start_time": "2022-02-10T16:36:44.777Z"
   },
   {
    "duration": 291,
    "start_time": "2022-02-10T16:36:45.113Z"
   },
   {
    "duration": 417,
    "start_time": "2022-02-10T16:36:45.406Z"
   },
   {
    "duration": 320,
    "start_time": "2022-02-10T16:36:45.825Z"
   },
   {
    "duration": 377,
    "start_time": "2022-02-10T16:36:46.147Z"
   },
   {
    "duration": 11,
    "start_time": "2022-02-10T16:36:46.527Z"
   },
   {
    "duration": 296,
    "start_time": "2022-02-10T16:36:46.540Z"
   },
   {
    "duration": 6,
    "start_time": "2022-02-10T16:36:46.840Z"
   },
   {
    "duration": 298,
    "start_time": "2022-02-10T16:36:46.848Z"
   },
   {
    "duration": 298,
    "start_time": "2022-02-10T16:36:47.148Z"
   },
   {
    "duration": 14,
    "start_time": "2022-02-10T16:36:47.448Z"
   },
   {
    "duration": 5,
    "start_time": "2022-02-10T16:36:47.464Z"
   },
   {
    "duration": 385,
    "start_time": "2022-02-10T16:36:47.471Z"
   },
   {
    "duration": 168,
    "start_time": "2022-02-10T16:36:47.858Z"
   },
   {
    "duration": 10,
    "start_time": "2022-02-10T16:36:48.028Z"
   },
   {
    "duration": 10,
    "start_time": "2022-02-10T16:36:48.040Z"
   },
   {
    "duration": 9,
    "start_time": "2022-02-10T16:36:48.051Z"
   },
   {
    "duration": 7,
    "start_time": "2022-02-10T16:36:48.062Z"
   },
   {
    "duration": 50,
    "start_time": "2022-02-10T16:36:48.071Z"
   },
   {
    "duration": 1289,
    "start_time": "2022-02-11T05:19:02.799Z"
   },
   {
    "duration": 144,
    "start_time": "2022-02-11T05:19:04.091Z"
   },
   {
    "duration": 19,
    "start_time": "2022-02-11T05:19:04.238Z"
   },
   {
    "duration": 6,
    "start_time": "2022-02-11T05:19:04.260Z"
   },
   {
    "duration": 13,
    "start_time": "2022-02-11T05:19:04.268Z"
   },
   {
    "duration": 13,
    "start_time": "2022-02-11T05:19:04.284Z"
   },
   {
    "duration": 10,
    "start_time": "2022-02-11T05:19:04.300Z"
   },
   {
    "duration": 15,
    "start_time": "2022-02-11T05:19:04.313Z"
   },
   {
    "duration": 15,
    "start_time": "2022-02-11T05:19:04.360Z"
   },
   {
    "duration": 7,
    "start_time": "2022-02-11T05:19:04.377Z"
   },
   {
    "duration": 337,
    "start_time": "2022-02-11T05:19:04.387Z"
   },
   {
    "duration": 277,
    "start_time": "2022-02-11T05:19:04.726Z"
   },
   {
    "duration": 15,
    "start_time": "2022-02-11T05:19:05.005Z"
   },
   {
    "duration": 9,
    "start_time": "2022-02-11T05:19:05.023Z"
   },
   {
    "duration": 465,
    "start_time": "2022-02-11T05:19:05.034Z"
   },
   {
    "duration": 435,
    "start_time": "2022-02-11T05:19:05.501Z"
   },
   {
    "duration": 543,
    "start_time": "2022-02-11T05:19:05.938Z"
   },
   {
    "duration": 470,
    "start_time": "2022-02-11T05:19:06.483Z"
   },
   {
    "duration": 524,
    "start_time": "2022-02-11T05:19:06.960Z"
   },
   {
    "duration": 11,
    "start_time": "2022-02-11T05:19:07.487Z"
   },
   {
    "duration": 370,
    "start_time": "2022-02-11T05:19:07.500Z"
   },
   {
    "duration": 6,
    "start_time": "2022-02-11T05:19:07.873Z"
   },
   {
    "duration": 383,
    "start_time": "2022-02-11T05:19:07.883Z"
   },
   {
    "duration": 387,
    "start_time": "2022-02-11T05:19:08.268Z"
   },
   {
    "duration": 19,
    "start_time": "2022-02-11T05:19:08.657Z"
   },
   {
    "duration": 9,
    "start_time": "2022-02-11T05:19:08.679Z"
   },
   {
    "duration": 535,
    "start_time": "2022-02-11T05:19:08.691Z"
   },
   {
    "duration": 267,
    "start_time": "2022-02-11T05:19:09.229Z"
   },
   {
    "duration": 16,
    "start_time": "2022-02-11T05:19:09.499Z"
   },
   {
    "duration": 14,
    "start_time": "2022-02-11T05:19:09.517Z"
   },
   {
    "duration": 15,
    "start_time": "2022-02-11T05:19:09.558Z"
   },
   {
    "duration": 20,
    "start_time": "2022-02-11T05:19:09.576Z"
   },
   {
    "duration": 22,
    "start_time": "2022-02-11T05:19:09.599Z"
   },
   {
    "duration": 1182,
    "start_time": "2022-02-11T15:12:31.520Z"
   },
   {
    "duration": 42,
    "start_time": "2022-02-11T15:12:32.705Z"
   },
   {
    "duration": 65,
    "start_time": "2022-02-11T15:12:32.750Z"
   },
   {
    "duration": 12,
    "start_time": "2022-02-11T15:12:32.817Z"
   },
   {
    "duration": 20,
    "start_time": "2022-02-11T15:12:32.831Z"
   },
   {
    "duration": 8,
    "start_time": "2022-02-11T15:12:32.853Z"
   },
   {
    "duration": 11,
    "start_time": "2022-02-11T15:12:32.863Z"
   },
   {
    "duration": 41,
    "start_time": "2022-02-11T15:12:32.875Z"
   },
   {
    "duration": 12,
    "start_time": "2022-02-11T15:12:32.919Z"
   },
   {
    "duration": 9,
    "start_time": "2022-02-11T15:12:32.934Z"
   },
   {
    "duration": 237,
    "start_time": "2022-02-11T15:12:32.945Z"
   },
   {
    "duration": 177,
    "start_time": "2022-02-11T15:12:33.184Z"
   },
   {
    "duration": 11,
    "start_time": "2022-02-11T15:12:33.363Z"
   },
   {
    "duration": 31,
    "start_time": "2022-02-11T15:12:33.376Z"
   },
   {
    "duration": 317,
    "start_time": "2022-02-11T15:12:33.409Z"
   },
   {
    "duration": 379,
    "start_time": "2022-02-11T15:12:33.728Z"
   },
   {
    "duration": 546,
    "start_time": "2022-02-11T15:12:34.109Z"
   },
   {
    "duration": 316,
    "start_time": "2022-02-11T15:12:34.657Z"
   },
   {
    "duration": 419,
    "start_time": "2022-02-11T15:12:34.975Z"
   },
   {
    "duration": 14,
    "start_time": "2022-02-11T15:12:35.396Z"
   },
   {
    "duration": 296,
    "start_time": "2022-02-11T15:12:35.412Z"
   },
   {
    "duration": 5,
    "start_time": "2022-02-11T15:12:35.710Z"
   },
   {
    "duration": 317,
    "start_time": "2022-02-11T15:12:35.716Z"
   },
   {
    "duration": 295,
    "start_time": "2022-02-11T15:12:36.035Z"
   },
   {
    "duration": 14,
    "start_time": "2022-02-11T15:12:36.332Z"
   },
   {
    "duration": 7,
    "start_time": "2022-02-11T15:12:36.348Z"
   },
   {
    "duration": 384,
    "start_time": "2022-02-11T15:12:36.359Z"
   },
   {
    "duration": 172,
    "start_time": "2022-02-11T15:12:36.745Z"
   },
   {
    "duration": 11,
    "start_time": "2022-02-11T15:12:36.920Z"
   },
   {
    "duration": 36,
    "start_time": "2022-02-11T15:12:36.933Z"
   },
   {
    "duration": 23,
    "start_time": "2022-02-11T15:12:36.971Z"
   },
   {
    "duration": 12,
    "start_time": "2022-02-11T15:12:36.996Z"
   },
   {
    "duration": 19,
    "start_time": "2022-02-11T15:12:37.010Z"
   },
   {
    "duration": 27,
    "start_time": "2022-02-11T15:25:32.554Z"
   },
   {
    "duration": 30,
    "start_time": "2022-02-11T15:25:42.971Z"
   },
   {
    "duration": 31,
    "start_time": "2022-02-11T15:25:55.155Z"
   },
   {
    "duration": 38,
    "start_time": "2022-02-11T15:26:07.577Z"
   },
   {
    "duration": 33,
    "start_time": "2022-02-11T15:28:54.281Z"
   },
   {
    "duration": 12,
    "start_time": "2022-02-11T15:29:15.072Z"
   },
   {
    "duration": 283,
    "start_time": "2022-02-11T15:29:20.268Z"
   },
   {
    "duration": 11,
    "start_time": "2022-02-11T15:29:29.780Z"
   },
   {
    "duration": 13,
    "start_time": "2022-02-11T15:29:34.938Z"
   },
   {
    "duration": 13,
    "start_time": "2022-02-11T15:29:40.513Z"
   },
   {
    "duration": 14,
    "start_time": "2022-02-11T15:29:44.742Z"
   },
   {
    "duration": 192,
    "start_time": "2022-02-11T15:29:49.464Z"
   },
   {
    "duration": 13,
    "start_time": "2022-02-11T15:29:55.136Z"
   },
   {
    "duration": 8,
    "start_time": "2022-02-11T15:30:04.855Z"
   },
   {
    "duration": 13,
    "start_time": "2022-02-11T15:31:39.889Z"
   },
   {
    "duration": 306,
    "start_time": "2022-02-11T15:38:27.496Z"
   },
   {
    "duration": 68,
    "start_time": "2022-02-11T15:39:33.632Z"
   },
   {
    "duration": 62,
    "start_time": "2022-02-11T15:48:35.843Z"
   },
   {
    "duration": 8,
    "start_time": "2022-02-11T16:06:26.851Z"
   },
   {
    "duration": 8,
    "start_time": "2022-02-11T16:06:32.790Z"
   },
   {
    "duration": 8,
    "start_time": "2022-02-11T16:06:39.190Z"
   },
   {
    "duration": 8,
    "start_time": "2022-02-11T16:06:48.709Z"
   },
   {
    "duration": 8,
    "start_time": "2022-02-11T16:06:50.773Z"
   },
   {
    "duration": 9,
    "start_time": "2022-02-11T16:06:56.243Z"
   },
   {
    "duration": 252,
    "start_time": "2022-02-11T16:16:21.256Z"
   },
   {
    "duration": 8,
    "start_time": "2022-02-11T16:16:28.518Z"
   },
   {
    "duration": 7,
    "start_time": "2022-02-11T16:16:46.249Z"
   },
   {
    "duration": 7,
    "start_time": "2022-02-11T16:17:03.216Z"
   },
   {
    "duration": 8,
    "start_time": "2022-02-11T16:17:07.512Z"
   },
   {
    "duration": 1060,
    "start_time": "2022-02-11T16:20:34.651Z"
   },
   {
    "duration": 44,
    "start_time": "2022-02-11T16:20:35.714Z"
   },
   {
    "duration": 17,
    "start_time": "2022-02-11T16:20:35.763Z"
   },
   {
    "duration": 15,
    "start_time": "2022-02-11T16:20:35.782Z"
   },
   {
    "duration": 24,
    "start_time": "2022-02-11T16:20:35.799Z"
   },
   {
    "duration": 16,
    "start_time": "2022-02-11T16:20:35.826Z"
   },
   {
    "duration": 19,
    "start_time": "2022-02-11T16:20:35.845Z"
   },
   {
    "duration": 36,
    "start_time": "2022-02-11T16:20:35.866Z"
   },
   {
    "duration": 8,
    "start_time": "2022-02-11T16:20:35.904Z"
   },
   {
    "duration": 20,
    "start_time": "2022-02-11T16:20:35.915Z"
   },
   {
    "duration": 14,
    "start_time": "2022-02-11T16:20:35.938Z"
   },
   {
    "duration": 11,
    "start_time": "2022-02-11T16:20:35.954Z"
   },
   {
    "duration": 252,
    "start_time": "2022-02-11T16:20:35.968Z"
   },
   {
    "duration": 190,
    "start_time": "2022-02-11T16:20:36.222Z"
   },
   {
    "duration": 12,
    "start_time": "2022-02-11T16:20:36.414Z"
   },
   {
    "duration": 17,
    "start_time": "2022-02-11T16:20:36.428Z"
   },
   {
    "duration": 339,
    "start_time": "2022-02-11T16:20:36.447Z"
   },
   {
    "duration": 308,
    "start_time": "2022-02-11T16:20:36.788Z"
   },
   {
    "duration": 415,
    "start_time": "2022-02-11T16:20:37.098Z"
   },
   {
    "duration": 319,
    "start_time": "2022-02-11T16:20:37.515Z"
   },
   {
    "duration": 394,
    "start_time": "2022-02-11T16:20:37.836Z"
   },
   {
    "duration": 11,
    "start_time": "2022-02-11T16:20:38.234Z"
   },
   {
    "duration": 292,
    "start_time": "2022-02-11T16:20:38.247Z"
   },
   {
    "duration": 6,
    "start_time": "2022-02-11T16:20:38.541Z"
   },
   {
    "duration": 287,
    "start_time": "2022-02-11T16:20:38.549Z"
   },
   {
    "duration": 311,
    "start_time": "2022-02-11T16:20:38.838Z"
   },
   {
    "duration": 14,
    "start_time": "2022-02-11T16:20:39.152Z"
   },
   {
    "duration": 4,
    "start_time": "2022-02-11T16:20:39.168Z"
   },
   {
    "duration": 405,
    "start_time": "2022-02-11T16:20:39.174Z"
   },
   {
    "duration": 166,
    "start_time": "2022-02-11T16:20:39.581Z"
   },
   {
    "duration": 12,
    "start_time": "2022-02-11T16:20:39.749Z"
   },
   {
    "duration": 15,
    "start_time": "2022-02-11T16:20:39.763Z"
   },
   {
    "duration": 33,
    "start_time": "2022-02-11T16:20:39.780Z"
   },
   {
    "duration": 9,
    "start_time": "2022-02-11T16:20:39.815Z"
   },
   {
    "duration": 18,
    "start_time": "2022-02-11T16:20:39.826Z"
   },
   {
    "duration": 1681,
    "start_time": "2022-02-12T05:20:23.293Z"
   },
   {
    "duration": 41,
    "start_time": "2022-02-12T05:20:24.976Z"
   },
   {
    "duration": 19,
    "start_time": "2022-02-12T05:20:25.020Z"
   },
   {
    "duration": 5,
    "start_time": "2022-02-12T05:20:25.042Z"
   },
   {
    "duration": 17,
    "start_time": "2022-02-12T05:20:25.050Z"
   },
   {
    "duration": 12,
    "start_time": "2022-02-12T05:20:25.069Z"
   },
   {
    "duration": 11,
    "start_time": "2022-02-12T05:20:25.083Z"
   },
   {
    "duration": 53,
    "start_time": "2022-02-12T05:20:25.134Z"
   },
   {
    "duration": 12,
    "start_time": "2022-02-12T05:20:25.190Z"
   },
   {
    "duration": 42,
    "start_time": "2022-02-12T05:20:25.204Z"
   },
   {
    "duration": 15,
    "start_time": "2022-02-12T05:20:25.248Z"
   },
   {
    "duration": 11,
    "start_time": "2022-02-12T05:20:25.265Z"
   },
   {
    "duration": 354,
    "start_time": "2022-02-12T05:20:25.278Z"
   },
   {
    "duration": 272,
    "start_time": "2022-02-12T05:20:25.634Z"
   },
   {
    "duration": 30,
    "start_time": "2022-02-12T05:20:25.908Z"
   },
   {
    "duration": 29,
    "start_time": "2022-02-12T05:20:25.940Z"
   },
   {
    "duration": 445,
    "start_time": "2022-02-12T05:20:25.972Z"
   },
   {
    "duration": 445,
    "start_time": "2022-02-12T05:20:26.419Z"
   },
   {
    "duration": 526,
    "start_time": "2022-02-12T05:20:26.867Z"
   },
   {
    "duration": 455,
    "start_time": "2022-02-12T05:20:27.395Z"
   },
   {
    "duration": 519,
    "start_time": "2022-02-12T05:20:27.853Z"
   },
   {
    "duration": 10,
    "start_time": "2022-02-12T05:20:28.374Z"
   },
   {
    "duration": 410,
    "start_time": "2022-02-12T05:20:28.389Z"
   },
   {
    "duration": 6,
    "start_time": "2022-02-12T05:20:28.802Z"
   },
   {
    "duration": 407,
    "start_time": "2022-02-12T05:20:28.810Z"
   },
   {
    "duration": 397,
    "start_time": "2022-02-12T05:20:29.219Z"
   },
   {
    "duration": 23,
    "start_time": "2022-02-12T05:20:29.619Z"
   },
   {
    "duration": 7,
    "start_time": "2022-02-12T05:20:29.645Z"
   },
   {
    "duration": 552,
    "start_time": "2022-02-12T05:20:29.655Z"
   },
   {
    "duration": 269,
    "start_time": "2022-02-12T05:20:30.210Z"
   },
   {
    "duration": 17,
    "start_time": "2022-02-12T05:20:30.482Z"
   },
   {
    "duration": 42,
    "start_time": "2022-02-12T05:20:30.501Z"
   },
   {
    "duration": 26,
    "start_time": "2022-02-12T05:20:30.546Z"
   },
   {
    "duration": 13,
    "start_time": "2022-02-12T05:20:30.575Z"
   },
   {
    "duration": 20,
    "start_time": "2022-02-12T05:20:30.591Z"
   },
   {
    "duration": 1170,
    "start_time": "2022-05-01T05:24:52.826Z"
   },
   {
    "duration": 98,
    "start_time": "2022-05-01T05:24:53.998Z"
   },
   {
    "duration": 21,
    "start_time": "2022-05-01T05:24:54.097Z"
   },
   {
    "duration": 4,
    "start_time": "2022-05-01T05:24:54.120Z"
   },
   {
    "duration": 11,
    "start_time": "2022-05-01T05:24:54.125Z"
   },
   {
    "duration": 9,
    "start_time": "2022-05-01T05:24:54.138Z"
   },
   {
    "duration": 8,
    "start_time": "2022-05-01T05:24:54.148Z"
   },
   {
    "duration": 53,
    "start_time": "2022-05-01T05:24:54.158Z"
   },
   {
    "duration": 10,
    "start_time": "2022-05-01T05:24:54.213Z"
   },
   {
    "duration": 10,
    "start_time": "2022-05-01T05:24:54.226Z"
   },
   {
    "duration": 24,
    "start_time": "2022-05-01T05:24:54.238Z"
   },
   {
    "duration": 167,
    "start_time": "2022-05-01T05:24:54.264Z"
   },
   {
    "duration": 126,
    "start_time": "2022-05-01T05:24:54.433Z"
   },
   {
    "duration": 9,
    "start_time": "2022-05-01T05:24:54.561Z"
   },
   {
    "duration": 26,
    "start_time": "2022-05-01T05:24:54.572Z"
   },
   {
    "duration": 274,
    "start_time": "2022-05-01T05:24:54.600Z"
   },
   {
    "duration": 198,
    "start_time": "2022-05-01T05:24:54.876Z"
   },
   {
    "duration": 368,
    "start_time": "2022-05-01T05:24:55.075Z"
   },
   {
    "duration": 213,
    "start_time": "2022-05-01T05:24:55.445Z"
   },
   {
    "duration": 344,
    "start_time": "2022-05-01T05:24:55.660Z"
   },
   {
    "duration": 8,
    "start_time": "2022-05-01T05:24:56.006Z"
   },
   {
    "duration": 119,
    "start_time": "2022-05-01T05:24:56.015Z"
   },
   {
    "duration": 4,
    "start_time": "2022-05-01T05:24:56.135Z"
   },
   {
    "duration": 130,
    "start_time": "2022-05-01T05:24:56.140Z"
   },
   {
    "duration": 134,
    "start_time": "2022-05-01T05:24:56.271Z"
   },
   {
    "duration": 13,
    "start_time": "2022-05-01T05:24:56.406Z"
   },
   {
    "duration": 8,
    "start_time": "2022-05-01T05:24:56.421Z"
   },
   {
    "duration": 220,
    "start_time": "2022-05-01T05:24:56.432Z"
   },
   {
    "duration": 177,
    "start_time": "2022-05-01T05:24:56.654Z"
   },
   {
    "duration": 9,
    "start_time": "2022-05-01T05:24:56.833Z"
   },
   {
    "duration": 8,
    "start_time": "2022-05-01T05:24:56.844Z"
   },
   {
    "duration": 9,
    "start_time": "2022-05-01T05:24:56.854Z"
   },
   {
    "duration": 41,
    "start_time": "2022-05-01T05:24:56.865Z"
   },
   {
    "duration": 13,
    "start_time": "2022-05-01T05:24:56.908Z"
   },
   {
    "duration": 35,
    "start_time": "2022-05-01T05:33:08.600Z"
   },
   {
    "duration": 10,
    "start_time": "2022-05-01T05:33:18.843Z"
   },
   {
    "duration": 10,
    "start_time": "2022-05-01T05:33:23.925Z"
   },
   {
    "duration": 4,
    "start_time": "2022-05-01T05:34:41.616Z"
   },
   {
    "duration": 85,
    "start_time": "2022-05-01T05:34:46.507Z"
   },
   {
    "duration": 4,
    "start_time": "2022-05-01T05:35:32.691Z"
   },
   {
    "duration": 36,
    "start_time": "2022-05-01T05:35:33.287Z"
   },
   {
    "duration": 51,
    "start_time": "2022-05-01T05:35:33.950Z"
   },
   {
    "duration": 7,
    "start_time": "2022-05-01T05:35:36.715Z"
   },
   {
    "duration": 54,
    "start_time": "2022-05-01T05:35:40.960Z"
   },
   {
    "duration": 9,
    "start_time": "2022-05-01T05:36:17.917Z"
   },
   {
    "duration": 9,
    "start_time": "2022-05-01T05:36:25.795Z"
   },
   {
    "duration": 10,
    "start_time": "2022-05-01T05:36:33.756Z"
   },
   {
    "duration": 9,
    "start_time": "2022-05-01T05:36:36.125Z"
   },
   {
    "duration": 9,
    "start_time": "2022-05-01T05:37:29.318Z"
   },
   {
    "duration": 224,
    "start_time": "2022-05-01T05:38:30.324Z"
   },
   {
    "duration": 171,
    "start_time": "2022-05-01T05:38:56.188Z"
   },
   {
    "duration": 10,
    "start_time": "2022-05-01T05:39:00.351Z"
   },
   {
    "duration": 9,
    "start_time": "2022-05-01T05:39:16.288Z"
   },
   {
    "duration": 8,
    "start_time": "2022-05-01T05:39:22.297Z"
   },
   {
    "duration": 23,
    "start_time": "2022-05-01T05:39:27.524Z"
   },
   {
    "duration": 13,
    "start_time": "2022-05-01T05:39:31.667Z"
   },
   {
    "duration": 1283,
    "start_time": "2022-05-08T09:37:58.533Z"
   },
   {
    "duration": 104,
    "start_time": "2022-05-08T09:37:59.818Z"
   },
   {
    "duration": 70,
    "start_time": "2022-05-08T09:37:59.924Z"
   },
   {
    "duration": 8,
    "start_time": "2022-05-08T09:37:59.997Z"
   },
   {
    "duration": 42,
    "start_time": "2022-05-08T09:38:00.007Z"
   },
   {
    "duration": 14,
    "start_time": "2022-05-08T09:38:00.050Z"
   },
   {
    "duration": 8,
    "start_time": "2022-05-08T09:38:00.065Z"
   },
   {
    "duration": 247,
    "start_time": "2022-05-08T09:38:00.075Z"
   },
   {
    "duration": 156,
    "start_time": "2022-05-08T09:38:00.324Z"
   },
   {
    "duration": 11,
    "start_time": "2022-05-08T09:38:00.483Z"
   },
   {
    "duration": 22,
    "start_time": "2022-05-08T09:38:00.496Z"
   },
   {
    "duration": 419,
    "start_time": "2022-05-08T09:38:00.520Z"
   },
   {
    "duration": 286,
    "start_time": "2022-05-08T09:38:00.941Z"
   },
   {
    "duration": 400,
    "start_time": "2022-05-08T09:38:01.229Z"
   },
   {
    "duration": 300,
    "start_time": "2022-05-08T09:38:01.631Z"
   },
   {
    "duration": 323,
    "start_time": "2022-05-08T09:38:01.932Z"
   },
   {
    "duration": 9,
    "start_time": "2022-05-08T09:38:02.256Z"
   },
   {
    "duration": 117,
    "start_time": "2022-05-08T09:38:02.267Z"
   },
   {
    "duration": 3,
    "start_time": "2022-05-08T09:38:02.386Z"
   },
   {
    "duration": 130,
    "start_time": "2022-05-08T09:38:02.391Z"
   },
   {
    "duration": 126,
    "start_time": "2022-05-08T09:38:02.525Z"
   },
   {
    "duration": 4,
    "start_time": "2022-05-08T09:38:02.652Z"
   },
   {
    "duration": 223,
    "start_time": "2022-05-08T09:38:02.658Z"
   },
   {
    "duration": 177,
    "start_time": "2022-05-08T09:38:02.882Z"
   },
   {
    "duration": 10,
    "start_time": "2022-05-08T09:38:03.060Z"
   },
   {
    "duration": 8,
    "start_time": "2022-05-08T09:38:03.071Z"
   },
   {
    "duration": 12,
    "start_time": "2022-05-08T09:38:03.080Z"
   },
   {
    "duration": 24,
    "start_time": "2022-05-08T09:38:03.095Z"
   },
   {
    "duration": 37,
    "start_time": "2022-05-08T09:38:03.120Z"
   }
  ],
  "kernelspec": {
   "display_name": "Python 3 (ipykernel)",
   "language": "python",
   "name": "python3"
  },
  "language_info": {
   "codemirror_mode": {
    "name": "ipython",
    "version": 3
   },
   "file_extension": ".py",
   "mimetype": "text/x-python",
   "name": "python",
   "nbconvert_exporter": "python",
   "pygments_lexer": "ipython3",
   "version": "3.9.5"
  },
  "toc": {
   "base_numbering": 1,
   "nav_menu": {},
   "number_sections": true,
   "sideBar": true,
   "skip_h1_title": true,
   "title_cell": "Table of Contents",
   "title_sidebar": "Contents",
   "toc_cell": false,
   "toc_position": {
    "height": "calc(100% - 180px)",
    "left": "10px",
    "top": "150px",
    "width": "366.391px"
   },
   "toc_section_display": true,
   "toc_window_display": true
  }
 },
 "nbformat": 4,
 "nbformat_minor": 2
}
