{
 "cells": [
  {
   "cell_type": "markdown",
   "metadata": {},
   "source": [
    "# Определение перспективного тарифа для телеком-компании"
   ]
  },
  {
   "cell_type": "markdown",
   "metadata": {},
   "source": [
    "## Предобработка данных"
   ]
  },
  {
   "cell_type": "code",
   "execution_count": 1,
   "metadata": {},
   "outputs": [],
   "source": [
    "# импорт библиотек и читаю таблицы\n",
    "import pandas as pd\n",
    "pd.set_option('display.float_format', '{:,.2f}'.format)\n",
    "from datetime import datetime, timedelta\n",
    "import numpy as np\n",
    "from scipy import stats as st\n",
    "import seaborn as sns\n",
    "import math\n",
    "from matplotlib import pyplot as plt"
   ]
  },
  {
   "cell_type": "code",
   "execution_count": 2,
   "metadata": {},
   "outputs": [],
   "source": [
    "calls, internet, messages, tariffs, users = (\n",
    "        pd.read_csv('/datasets/calls.csv', parse_dates=['call_date']),\n",
    "        pd.read_csv('/datasets/internet.csv', parse_dates=['session_date']),\n",
    "        pd.read_csv('/datasets/messages.csv', parse_dates=['message_date']),\n",
    "        pd.read_csv('/datasets/tariffs.csv'),\n",
    "        pd.read_csv('/datasets/users.csv', parse_dates=['reg_date', 'churn_date']),\n",
    ")"
   ]
  },
  {
   "cell_type": "code",
   "execution_count": 3,
   "metadata": {},
   "outputs": [
    {
     "name": "stdout",
     "output_type": "stream",
     "text": [
      "<class 'pandas.core.frame.DataFrame'>\n",
      "RangeIndex: 202607 entries, 0 to 202606\n",
      "Data columns (total 4 columns):\n",
      " #   Column     Non-Null Count   Dtype         \n",
      "---  ------     --------------   -----         \n",
      " 0   id         202607 non-null  object        \n",
      " 1   call_date  202607 non-null  datetime64[ns]\n",
      " 2   duration   202607 non-null  float64       \n",
      " 3   user_id    202607 non-null  int64         \n",
      "dtypes: datetime64[ns](1), float64(1), int64(1), object(1)\n",
      "memory usage: 6.2+ MB\n"
     ]
    },
    {
     "data": {
      "text/plain": [
       "None"
      ]
     },
     "metadata": {},
     "output_type": "display_data"
    },
    {
     "data": {
      "text/html": [
       "<div>\n",
       "<style scoped>\n",
       "    .dataframe tbody tr th:only-of-type {\n",
       "        vertical-align: middle;\n",
       "    }\n",
       "\n",
       "    .dataframe tbody tr th {\n",
       "        vertical-align: top;\n",
       "    }\n",
       "\n",
       "    .dataframe thead th {\n",
       "        text-align: right;\n",
       "    }\n",
       "</style>\n",
       "<table border=\"1\" class=\"dataframe\">\n",
       "  <thead>\n",
       "    <tr style=\"text-align: right;\">\n",
       "      <th></th>\n",
       "      <th>id</th>\n",
       "      <th>call_date</th>\n",
       "      <th>duration</th>\n",
       "      <th>user_id</th>\n",
       "    </tr>\n",
       "  </thead>\n",
       "  <tbody>\n",
       "    <tr>\n",
       "      <th>0</th>\n",
       "      <td>1000_0</td>\n",
       "      <td>2018-07-25</td>\n",
       "      <td>0.00</td>\n",
       "      <td>1000</td>\n",
       "    </tr>\n",
       "    <tr>\n",
       "      <th>1</th>\n",
       "      <td>1000_1</td>\n",
       "      <td>2018-08-17</td>\n",
       "      <td>0.00</td>\n",
       "      <td>1000</td>\n",
       "    </tr>\n",
       "    <tr>\n",
       "      <th>2</th>\n",
       "      <td>1000_2</td>\n",
       "      <td>2018-06-11</td>\n",
       "      <td>2.85</td>\n",
       "      <td>1000</td>\n",
       "    </tr>\n",
       "  </tbody>\n",
       "</table>\n",
       "</div>"
      ],
      "text/plain": [
       "       id  call_date  duration  user_id\n",
       "0  1000_0 2018-07-25      0.00     1000\n",
       "1  1000_1 2018-08-17      0.00     1000\n",
       "2  1000_2 2018-06-11      2.85     1000"
      ]
     },
     "metadata": {},
     "output_type": "display_data"
    },
    {
     "data": {
      "text/plain": [
       "id           0\n",
       "call_date    0\n",
       "duration     0\n",
       "user_id      0\n",
       "dtype: int64"
      ]
     },
     "metadata": {},
     "output_type": "display_data"
    },
    {
     "data": {
      "text/plain": [
       "0"
      ]
     },
     "metadata": {},
     "output_type": "display_data"
    },
    {
     "name": "stdout",
     "output_type": "stream",
     "text": [
      "<class 'pandas.core.frame.DataFrame'>\n",
      "RangeIndex: 149396 entries, 0 to 149395\n",
      "Data columns (total 5 columns):\n",
      " #   Column        Non-Null Count   Dtype         \n",
      "---  ------        --------------   -----         \n",
      " 0   Unnamed: 0    149396 non-null  int64         \n",
      " 1   id            149396 non-null  object        \n",
      " 2   mb_used       149396 non-null  float64       \n",
      " 3   session_date  149396 non-null  datetime64[ns]\n",
      " 4   user_id       149396 non-null  int64         \n",
      "dtypes: datetime64[ns](1), float64(1), int64(2), object(1)\n",
      "memory usage: 5.7+ MB\n"
     ]
    },
    {
     "data": {
      "text/plain": [
       "None"
      ]
     },
     "metadata": {},
     "output_type": "display_data"
    },
    {
     "data": {
      "text/html": [
       "<div>\n",
       "<style scoped>\n",
       "    .dataframe tbody tr th:only-of-type {\n",
       "        vertical-align: middle;\n",
       "    }\n",
       "\n",
       "    .dataframe tbody tr th {\n",
       "        vertical-align: top;\n",
       "    }\n",
       "\n",
       "    .dataframe thead th {\n",
       "        text-align: right;\n",
       "    }\n",
       "</style>\n",
       "<table border=\"1\" class=\"dataframe\">\n",
       "  <thead>\n",
       "    <tr style=\"text-align: right;\">\n",
       "      <th></th>\n",
       "      <th>Unnamed: 0</th>\n",
       "      <th>id</th>\n",
       "      <th>mb_used</th>\n",
       "      <th>session_date</th>\n",
       "      <th>user_id</th>\n",
       "    </tr>\n",
       "  </thead>\n",
       "  <tbody>\n",
       "    <tr>\n",
       "      <th>0</th>\n",
       "      <td>0</td>\n",
       "      <td>1000_0</td>\n",
       "      <td>112.95</td>\n",
       "      <td>2018-11-25</td>\n",
       "      <td>1000</td>\n",
       "    </tr>\n",
       "    <tr>\n",
       "      <th>1</th>\n",
       "      <td>1</td>\n",
       "      <td>1000_1</td>\n",
       "      <td>1,052.81</td>\n",
       "      <td>2018-09-07</td>\n",
       "      <td>1000</td>\n",
       "    </tr>\n",
       "    <tr>\n",
       "      <th>2</th>\n",
       "      <td>2</td>\n",
       "      <td>1000_2</td>\n",
       "      <td>1,197.26</td>\n",
       "      <td>2018-06-25</td>\n",
       "      <td>1000</td>\n",
       "    </tr>\n",
       "  </tbody>\n",
       "</table>\n",
       "</div>"
      ],
      "text/plain": [
       "   Unnamed: 0      id  mb_used session_date  user_id\n",
       "0           0  1000_0   112.95   2018-11-25     1000\n",
       "1           1  1000_1 1,052.81   2018-09-07     1000\n",
       "2           2  1000_2 1,197.26   2018-06-25     1000"
      ]
     },
     "metadata": {},
     "output_type": "display_data"
    },
    {
     "data": {
      "text/plain": [
       "Unnamed: 0      0\n",
       "id              0\n",
       "mb_used         0\n",
       "session_date    0\n",
       "user_id         0\n",
       "dtype: int64"
      ]
     },
     "metadata": {},
     "output_type": "display_data"
    },
    {
     "data": {
      "text/plain": [
       "0"
      ]
     },
     "metadata": {},
     "output_type": "display_data"
    },
    {
     "name": "stdout",
     "output_type": "stream",
     "text": [
      "<class 'pandas.core.frame.DataFrame'>\n",
      "RangeIndex: 123036 entries, 0 to 123035\n",
      "Data columns (total 3 columns):\n",
      " #   Column        Non-Null Count   Dtype         \n",
      "---  ------        --------------   -----         \n",
      " 0   id            123036 non-null  object        \n",
      " 1   message_date  123036 non-null  datetime64[ns]\n",
      " 2   user_id       123036 non-null  int64         \n",
      "dtypes: datetime64[ns](1), int64(1), object(1)\n",
      "memory usage: 2.8+ MB\n"
     ]
    },
    {
     "data": {
      "text/plain": [
       "None"
      ]
     },
     "metadata": {},
     "output_type": "display_data"
    },
    {
     "data": {
      "text/html": [
       "<div>\n",
       "<style scoped>\n",
       "    .dataframe tbody tr th:only-of-type {\n",
       "        vertical-align: middle;\n",
       "    }\n",
       "\n",
       "    .dataframe tbody tr th {\n",
       "        vertical-align: top;\n",
       "    }\n",
       "\n",
       "    .dataframe thead th {\n",
       "        text-align: right;\n",
       "    }\n",
       "</style>\n",
       "<table border=\"1\" class=\"dataframe\">\n",
       "  <thead>\n",
       "    <tr style=\"text-align: right;\">\n",
       "      <th></th>\n",
       "      <th>id</th>\n",
       "      <th>message_date</th>\n",
       "      <th>user_id</th>\n",
       "    </tr>\n",
       "  </thead>\n",
       "  <tbody>\n",
       "    <tr>\n",
       "      <th>0</th>\n",
       "      <td>1000_0</td>\n",
       "      <td>2018-06-27</td>\n",
       "      <td>1000</td>\n",
       "    </tr>\n",
       "    <tr>\n",
       "      <th>1</th>\n",
       "      <td>1000_1</td>\n",
       "      <td>2018-10-08</td>\n",
       "      <td>1000</td>\n",
       "    </tr>\n",
       "    <tr>\n",
       "      <th>2</th>\n",
       "      <td>1000_2</td>\n",
       "      <td>2018-08-04</td>\n",
       "      <td>1000</td>\n",
       "    </tr>\n",
       "  </tbody>\n",
       "</table>\n",
       "</div>"
      ],
      "text/plain": [
       "       id message_date  user_id\n",
       "0  1000_0   2018-06-27     1000\n",
       "1  1000_1   2018-10-08     1000\n",
       "2  1000_2   2018-08-04     1000"
      ]
     },
     "metadata": {},
     "output_type": "display_data"
    },
    {
     "data": {
      "text/plain": [
       "id              0\n",
       "message_date    0\n",
       "user_id         0\n",
       "dtype: int64"
      ]
     },
     "metadata": {},
     "output_type": "display_data"
    },
    {
     "data": {
      "text/plain": [
       "0"
      ]
     },
     "metadata": {},
     "output_type": "display_data"
    },
    {
     "name": "stdout",
     "output_type": "stream",
     "text": [
      "<class 'pandas.core.frame.DataFrame'>\n",
      "RangeIndex: 500 entries, 0 to 499\n",
      "Data columns (total 8 columns):\n",
      " #   Column      Non-Null Count  Dtype         \n",
      "---  ------      --------------  -----         \n",
      " 0   user_id     500 non-null    int64         \n",
      " 1   age         500 non-null    int64         \n",
      " 2   churn_date  38 non-null     datetime64[ns]\n",
      " 3   city        500 non-null    object        \n",
      " 4   first_name  500 non-null    object        \n",
      " 5   last_name   500 non-null    object        \n",
      " 6   reg_date    500 non-null    datetime64[ns]\n",
      " 7   tariff      500 non-null    object        \n",
      "dtypes: datetime64[ns](2), int64(2), object(4)\n",
      "memory usage: 31.4+ KB\n"
     ]
    },
    {
     "data": {
      "text/plain": [
       "None"
      ]
     },
     "metadata": {},
     "output_type": "display_data"
    },
    {
     "data": {
      "text/html": [
       "<div>\n",
       "<style scoped>\n",
       "    .dataframe tbody tr th:only-of-type {\n",
       "        vertical-align: middle;\n",
       "    }\n",
       "\n",
       "    .dataframe tbody tr th {\n",
       "        vertical-align: top;\n",
       "    }\n",
       "\n",
       "    .dataframe thead th {\n",
       "        text-align: right;\n",
       "    }\n",
       "</style>\n",
       "<table border=\"1\" class=\"dataframe\">\n",
       "  <thead>\n",
       "    <tr style=\"text-align: right;\">\n",
       "      <th></th>\n",
       "      <th>user_id</th>\n",
       "      <th>age</th>\n",
       "      <th>churn_date</th>\n",
       "      <th>city</th>\n",
       "      <th>first_name</th>\n",
       "      <th>last_name</th>\n",
       "      <th>reg_date</th>\n",
       "      <th>tariff</th>\n",
       "    </tr>\n",
       "  </thead>\n",
       "  <tbody>\n",
       "    <tr>\n",
       "      <th>0</th>\n",
       "      <td>1000</td>\n",
       "      <td>52</td>\n",
       "      <td>NaT</td>\n",
       "      <td>Краснодар</td>\n",
       "      <td>Рафаил</td>\n",
       "      <td>Верещагин</td>\n",
       "      <td>2018-05-25</td>\n",
       "      <td>ultra</td>\n",
       "    </tr>\n",
       "    <tr>\n",
       "      <th>1</th>\n",
       "      <td>1001</td>\n",
       "      <td>41</td>\n",
       "      <td>NaT</td>\n",
       "      <td>Москва</td>\n",
       "      <td>Иван</td>\n",
       "      <td>Ежов</td>\n",
       "      <td>2018-11-01</td>\n",
       "      <td>smart</td>\n",
       "    </tr>\n",
       "    <tr>\n",
       "      <th>2</th>\n",
       "      <td>1002</td>\n",
       "      <td>59</td>\n",
       "      <td>NaT</td>\n",
       "      <td>Стерлитамак</td>\n",
       "      <td>Евгений</td>\n",
       "      <td>Абрамович</td>\n",
       "      <td>2018-06-17</td>\n",
       "      <td>smart</td>\n",
       "    </tr>\n",
       "  </tbody>\n",
       "</table>\n",
       "</div>"
      ],
      "text/plain": [
       "   user_id  age churn_date         city first_name  last_name   reg_date  \\\n",
       "0     1000   52        NaT    Краснодар     Рафаил  Верещагин 2018-05-25   \n",
       "1     1001   41        NaT       Москва       Иван       Ежов 2018-11-01   \n",
       "2     1002   59        NaT  Стерлитамак    Евгений  Абрамович 2018-06-17   \n",
       "\n",
       "  tariff  \n",
       "0  ultra  \n",
       "1  smart  \n",
       "2  smart  "
      ]
     },
     "metadata": {},
     "output_type": "display_data"
    },
    {
     "data": {
      "text/plain": [
       "user_id         0\n",
       "age             0\n",
       "churn_date    462\n",
       "city            0\n",
       "first_name      0\n",
       "last_name       0\n",
       "reg_date        0\n",
       "tariff          0\n",
       "dtype: int64"
      ]
     },
     "metadata": {},
     "output_type": "display_data"
    },
    {
     "data": {
      "text/plain": [
       "0"
      ]
     },
     "metadata": {},
     "output_type": "display_data"
    }
   ],
   "source": [
    "def get_info(df):\n",
    "    display(df.info(), df.head(3), df.isnull().sum(), df.duplicated().sum())\n",
    "\n",
    "df_list = [calls, internet, messages, users, ]\n",
    "for i in df_list: \n",
    "    get_info(i)"
   ]
  },
  {
   "cell_type": "markdown",
   "metadata": {},
   "source": [
    "По тарифному плану Мегалайн у нас всегда округляет секунды до минут, а мегабайты — до гигабайт. Каждый звонок округляется отдельно: даже если он длился всего 1 секунду, будет засчитан как 1 минута.\n",
    "\n",
    "Так что с минутами на звонки поступлю так:\n",
    "1. Округлю все секунды до минут\n",
    "2. Добавлю отдельно столбец со звонками. каждая строка в calls = один звонок\n",
    "3. Сгруппирую и посчитаю сумму duration и кол-во звонков за месяц\n",
    "4. Прибавлю звонки к минутам"
   ]
  },
  {
   "cell_type": "code",
   "execution_count": 4,
   "metadata": {},
   "outputs": [],
   "source": [
    "# считаю количество сделанных звонков и израсходованных минут разговора по месяцам\n",
    "calls['duration'] = np.ceil(calls['duration'])\n",
    "calls['month'] = pd.DatetimeIndex(calls['call_date']).month\n",
    "calls['calls_per_month'] = 1\n",
    "calls = calls.groupby(['user_id', 'month']).agg({'duration': 'sum', 'calls_per_month': 'sum'}).reset_index()"
   ]
  },
  {
   "cell_type": "code",
   "execution_count": 5,
   "metadata": {},
   "outputs": [],
   "source": [
    "# считаю количество отправленных сообщений по месяцам\n",
    "messages['month'] = pd.DatetimeIndex(messages['message_date']).month\n",
    "messages['messages_per_month'] = 1\n",
    "messages = messages.groupby(['user_id', 'month']).agg({'messages_per_month': 'sum'}).reset_index()\n",
    "\n",
    "# считаю объем израсходованного интернет-трафика по месяцам\n",
    "internet['month'] = pd.DatetimeIndex(internet['session_date']).month\n",
    "internet = internet.groupby(['user_id', 'month']).agg({'mb_used': 'sum'}).reset_index()"
   ]
  },
  {
   "cell_type": "code",
   "execution_count": 6,
   "metadata": {},
   "outputs": [
    {
     "data": {
      "text/html": [
       "<div>\n",
       "<style scoped>\n",
       "    .dataframe tbody tr th:only-of-type {\n",
       "        vertical-align: middle;\n",
       "    }\n",
       "\n",
       "    .dataframe tbody tr th {\n",
       "        vertical-align: top;\n",
       "    }\n",
       "\n",
       "    .dataframe thead th {\n",
       "        text-align: right;\n",
       "    }\n",
       "</style>\n",
       "<table border=\"1\" class=\"dataframe\">\n",
       "  <thead>\n",
       "    <tr style=\"text-align: right;\">\n",
       "      <th></th>\n",
       "      <th>user_id</th>\n",
       "      <th>month</th>\n",
       "      <th>gb_used</th>\n",
       "    </tr>\n",
       "  </thead>\n",
       "  <tbody>\n",
       "    <tr>\n",
       "      <th>0</th>\n",
       "      <td>1000</td>\n",
       "      <td>5</td>\n",
       "      <td>3</td>\n",
       "    </tr>\n",
       "    <tr>\n",
       "      <th>1</th>\n",
       "      <td>1000</td>\n",
       "      <td>6</td>\n",
       "      <td>23</td>\n",
       "    </tr>\n",
       "    <tr>\n",
       "      <th>2</th>\n",
       "      <td>1000</td>\n",
       "      <td>7</td>\n",
       "      <td>14</td>\n",
       "    </tr>\n",
       "    <tr>\n",
       "      <th>3</th>\n",
       "      <td>1000</td>\n",
       "      <td>8</td>\n",
       "      <td>14</td>\n",
       "    </tr>\n",
       "    <tr>\n",
       "      <th>4</th>\n",
       "      <td>1000</td>\n",
       "      <td>9</td>\n",
       "      <td>15</td>\n",
       "    </tr>\n",
       "  </tbody>\n",
       "</table>\n",
       "</div>"
      ],
      "text/plain": [
       "   user_id  month  gb_used\n",
       "0     1000      5        3\n",
       "1     1000      6       23\n",
       "2     1000      7       14\n",
       "3     1000      8       14\n",
       "4     1000      9       15"
      ]
     },
     "execution_count": 6,
     "metadata": {},
     "output_type": "execute_result"
    }
   ],
   "source": [
    "# округляю мегабайты до 1000\n",
    "def roundup(row_values):\n",
    "    return int(math.ceil(row_values / 1024))\n",
    "internet = internet.rename(columns={'mb_used': 'gb_used'})\n",
    "internet['gb_used'] = internet['gb_used'].apply(roundup)\n",
    "internet.head()"
   ]
  },
  {
   "cell_type": "markdown",
   "metadata": {},
   "source": [
    "### Обьеденение таблиц и подсчет месячной выручки тарифов"
   ]
  },
  {
   "cell_type": "code",
   "execution_count": 7,
   "metadata": {},
   "outputs": [],
   "source": [
    "# обьеденяю обновленные таблицы с помощью `merge`\n",
    "df = calls.merge(messages, on=['user_id','month'], how = 'outer')\n",
    "df = df.merge(internet, on=['user_id','month'], how = 'outer')\n",
    "df = df.merge(users, on=['user_id'], how = 'outer')\n",
    "\n",
    "# переименовываю столбец tariff, а то не смерджить таблицы\n",
    "df = df.rename(columns = {'tariff' : 'tariff_name'})\n",
    "df = df.merge(tariffs, on=['tariff_name'])\n",
    "\n",
    "# удаляем тех пользователей, которые прекратили пользоваться тарифом\n",
    "df = df.query('churn_date == \"NaN\"')"
   ]
  },
  {
   "cell_type": "code",
   "execution_count": 8,
   "metadata": {},
   "outputs": [],
   "source": [
    "# считаем овердрафты тарифов\n",
    "df['minutes_over'] = (df['duration'] - df['minutes_included']) *  df['rub_per_minute']\n",
    "df['messages_over'] = (df['messages_per_month'] - df['messages_included']) *  df['rub_per_message']\n",
    "df['gb_used_over'] = ((df['gb_used'] - df['mb_per_month_included']/1024)) *  df['rub_per_gb']\n",
    "\n",
    "# убираем отрицательные овердрафты\n",
    "df.loc[df['minutes_over'] < 0, 'minutes_over'] = 0\n",
    "df.loc[df['messages_over'] < 0, 'messages_over'] = 0\n",
    "df.loc[df['gb_used_over'] < 0, 'gb_used_over'] = 0\n",
    "\n",
    "# уберем NaN значения, а то они мешают считать итоговую выручку\n",
    "df['minutes_over'] = df['minutes_over'].replace(np.nan, 0)\n",
    "df['messages_over'] = df['messages_over'].replace(np.nan, 0)\n",
    "df['gb_used_over'] = df['gb_used_over'].replace(np.nan, 0)\n",
    "\n",
    "# считаем месячную выручку с каждого пользователя\n",
    "df['total_bill'] = (df['minutes_over'] + df['messages_over'] + df['gb_used_over'] + df['rub_monthly_fee'])"
   ]
  },
  {
   "cell_type": "markdown",
   "metadata": {},
   "source": [
    "## Анализ и описание данных"
   ]
  },
  {
   "cell_type": "markdown",
   "metadata": {},
   "source": [
    "### Анализ тарифов"
   ]
  },
  {
   "cell_type": "code",
   "execution_count": 9,
   "metadata": {},
   "outputs": [
    {
     "data": {
      "image/png": "[encoded data removed]",
      "text/plain": [
       "<Figure size 1440x720 with 4 Axes>"
      ]
     },
     "metadata": {},
     "output_type": "display_data"
    }
   ],
   "source": [
    "# анализ тарифов\n",
    "sns.set_theme(style=\"whitegrid\")\n",
    "fig, axes = plt.subplots(2, 2, figsize=(20, 10))\n",
    "sns.lineplot(ax=axes[0, 0], data=df, x=\"month\", y=\"total_bill\", hue=\"tariff_name\").set_title(\"Помесячная выручка с тарифов\")\n",
    "sns.lineplot(ax=axes[1, 0], data=df, x=\"month\", y=\"duration\", hue=\"tariff_name\").set_title(\"Количество звонком по месяцам\")\n",
    "sns.lineplot(ax=axes[0, 1], data=df, x=\"month\", y=\"messages_per_month\", hue=\"tariff_name\").set_title(\"Количество сообщений по месяцам\")\n",
    "sns.lineplot(ax=axes[1, 1], data=df, x=\"month\", y=\"gb_used\", hue=\"tariff_name\").set_title(\"Количество интернет-трафика по месяцам\")\n",
    "plt.show()"
   ]
  },
  {
   "cell_type": "markdown",
   "metadata": {},
   "source": [
    "### Анализ выручки"
   ]
  },
  {
   "cell_type": "code",
   "execution_count": 10,
   "metadata": {},
   "outputs": [
    {
     "data": {
      "image/png": "[encoded data removed]",
      "text/plain": [
       "<Figure size 1440x720 with 4 Axes>"
      ]
     },
     "metadata": {},
     "output_type": "display_data"
    }
   ],
   "source": [
    "# анализ тарифов\n",
    "fig, axes = plt.subplots(2, 2, figsize=(20, 10))\n",
    "sns.barplot(ax=axes[0, 0], data = df, x=\"month\", y=\"minutes_over\", hue=\"tariff_name\").set_title(\"Месячная выручка со звонков по тарифам\")\n",
    "sns.barplot(ax=axes[1, 0], data = df, x=\"month\", y=\"messages_over\", hue=\"tariff_name\").set_title(\"Месячная выручка с сообщений по тарифам\")\n",
    "sns.barplot(ax=axes[0, 1], data = df, x=\"month\", y=\"gb_used_over\", hue=\"tariff_name\").set_title(\"Месячная выручка с интернет-трафика по тарифам\")\n",
    "sns.barplot(ax=axes[1, 1], data = df, x=\"month\", y=\"total_bill\", hue=\"tariff_name\").set_title(\"Общая месячная выручка по тарифам\")\n",
    "plt.show()"
   ]
  },
  {
   "cell_type": "code",
   "execution_count": 11,
   "metadata": {},
   "outputs": [
    {
     "data": {
      "text/plain": [
       "messages_per_month     1,255.06\n",
       "duration              56,870.48\n",
       "gb_used                   52.72\n",
       "total_bill           637,319.47\n",
       "dtype: float64"
      ]
     },
     "execution_count": 11,
     "metadata": {},
     "output_type": "execute_result"
    }
   ],
   "source": [
    "# считаю дисперсию\n",
    "np.var(df[['messages_per_month', 'duration', 'gb_used', 'total_bill']], ddof=1)"
   ]
  },
  {
   "cell_type": "code",
   "execution_count": 12,
   "metadata": {},
   "outputs": [
    {
     "data": {
      "text/html": [
       "<div>\n",
       "<style scoped>\n",
       "    .dataframe tbody tr th:only-of-type {\n",
       "        vertical-align: middle;\n",
       "    }\n",
       "\n",
       "    .dataframe tbody tr th {\n",
       "        vertical-align: top;\n",
       "    }\n",
       "\n",
       "    .dataframe thead th {\n",
       "        text-align: right;\n",
       "    }\n",
       "</style>\n",
       "<table border=\"1\" class=\"dataframe\">\n",
       "  <thead>\n",
       "    <tr style=\"text-align: right;\">\n",
       "      <th></th>\n",
       "      <th>messages_per_month</th>\n",
       "      <th>duration</th>\n",
       "      <th>gb_used</th>\n",
       "    </tr>\n",
       "    <tr>\n",
       "      <th>tariff_name</th>\n",
       "      <th></th>\n",
       "      <th></th>\n",
       "      <th></th>\n",
       "    </tr>\n",
       "  </thead>\n",
       "  <tbody>\n",
       "    <tr>\n",
       "      <th>smart</th>\n",
       "      <td>39.00</td>\n",
       "      <td>423.97</td>\n",
       "      <td>16.40</td>\n",
       "    </tr>\n",
       "    <tr>\n",
       "      <th>ultra</th>\n",
       "      <td>61.83</td>\n",
       "      <td>552.60</td>\n",
       "      <td>19.81</td>\n",
       "    </tr>\n",
       "  </tbody>\n",
       "</table>\n",
       "</div>"
      ],
      "text/plain": [
       "             messages_per_month  duration  gb_used\n",
       "tariff_name                                       \n",
       "smart                     39.00    423.97    16.40\n",
       "ultra                     61.83    552.60    19.81"
      ]
     },
     "execution_count": 12,
     "metadata": {},
     "output_type": "execute_result"
    }
   ],
   "source": [
    "# узнаю среднее количество сообщений, минут разговора и обьем интернет трафика по разным тарифам\n",
    "df.groupby('tariff_name').agg({'messages_per_month':'mean', 'duration': 'mean', 'gb_used': 'mean'})"
   ]
  },
  {
   "cell_type": "code",
   "execution_count": 13,
   "metadata": {},
   "outputs": [
    {
     "data": {
      "text/plain": [
       "messages_per_month    35.43\n",
       "duration             238.48\n",
       "gb_used                7.26\n",
       "total_bill           798.32\n",
       "dtype: float64"
      ]
     },
     "execution_count": 13,
     "metadata": {},
     "output_type": "execute_result"
    }
   ],
   "source": [
    "# считаю стандратное отклонение\n",
    "np.sqrt(np.var(df[['messages_per_month', 'duration', 'gb_used', 'total_bill']], ddof=1))"
   ]
  },
  {
   "cell_type": "code",
   "execution_count": 14,
   "metadata": {},
   "outputs": [
    {
     "data": {
      "text/html": [
       "<div>\n",
       "<style scoped>\n",
       "    .dataframe tbody tr th:only-of-type {\n",
       "        vertical-align: middle;\n",
       "    }\n",
       "\n",
       "    .dataframe tbody tr th {\n",
       "        vertical-align: top;\n",
       "    }\n",
       "\n",
       "    .dataframe thead th {\n",
       "        text-align: right;\n",
       "    }\n",
       "</style>\n",
       "<table border=\"1\" class=\"dataframe\">\n",
       "  <thead>\n",
       "    <tr style=\"text-align: right;\">\n",
       "      <th></th>\n",
       "      <th>tariff_name</th>\n",
       "      <th>messages_per_month</th>\n",
       "      <th>duration</th>\n",
       "      <th>gb_used</th>\n",
       "    </tr>\n",
       "  </thead>\n",
       "  <tbody>\n",
       "    <tr>\n",
       "      <th>0</th>\n",
       "      <td>smart</td>\n",
       "      <td>26.98</td>\n",
       "      <td>190.14</td>\n",
       "      <td>5.70</td>\n",
       "    </tr>\n",
       "    <tr>\n",
       "      <th>1</th>\n",
       "      <td>ultra</td>\n",
       "      <td>46.53</td>\n",
       "      <td>308.65</td>\n",
       "      <td>9.60</td>\n",
       "    </tr>\n",
       "  </tbody>\n",
       "</table>\n",
       "</div>"
      ],
      "text/plain": [
       "  tariff_name  messages_per_month  duration  gb_used\n",
       "0       smart               26.98    190.14     5.70\n",
       "1       ultra               46.53    308.65     9.60"
      ]
     },
     "execution_count": 14,
     "metadata": {},
     "output_type": "execute_result"
    }
   ],
   "source": [
    "# считаю стандартное отклонение по тарифам\n",
    "df.groupby('tariff_name').agg({'messages_per_month':'std', 'duration': 'std', 'gb_used': 'std'}).reset_index()"
   ]
  },
  {
   "cell_type": "markdown",
   "metadata": {},
   "source": [
    "### Вывод"
   ]
  },
  {
   "cell_type": "markdown",
   "metadata": {},
   "source": [
    "По графикам видно:\n",
    "1. Кол-во сообщений/звонков/интернет-трафика в тарифе `ultra` используется больше, чем в тарифе `smart`. \n",
    "2. Месячная выручка c сообщений/звонков/интернет-трафика в тарифе `smart` выше. Видимо в ультре всем хватает лимитов и никто не переплачивает (только по интернет-трафику пользователеям ультры все же чуть не хватает..).\n",
    "3. Общая месячная выручка у тарифа `ultra` выше. Видимо за счет ежемесячной абонентской платы."
   ]
  },
  {
   "cell_type": "markdown",
   "metadata": {},
   "source": [
    "## Проверка гипотез и пояснения"
   ]
  },
  {
   "cell_type": "markdown",
   "metadata": {},
   "source": [
    "### Проверка гипотезы: средняя выручка пользователей тарифов «Ультра» и «Смарт» различается"
   ]
  },
  {
   "cell_type": "code",
   "execution_count": 15,
   "metadata": {},
   "outputs": [],
   "source": [
    "# создаю два списка с месячными платежами по тарифам\n",
    "smart_bills = df[df['tariff_name'] == 'smart']['total_bill']\n",
    "ultra_bills = df[df['tariff_name'] == 'ultra']['total_bill']"
   ]
  },
  {
   "cell_type": "code",
   "execution_count": 16,
   "metadata": {},
   "outputs": [
    {
     "name": "stdout",
     "output_type": "stream",
     "text": [
      "p-значение: 4.21341783798234e-144\n",
      "Отвергаем нулевую гипотезу\n"
     ]
    }
   ],
   "source": [
    "# проверяю гипотезу через t-test\n",
    "alpha = 0.05  # критический уровень статистической значимости\n",
    "# если p-value окажется меньше него - отвергнем гипотезу\n",
    "\n",
    "results = st.ttest_ind(smart_bills, ultra_bills)\n",
    "\n",
    "print('p-значение:', results.pvalue)\n",
    "\n",
    "if results.pvalue < alpha:\n",
    "    print('Отвергаем нулевую гипотезу')\n",
    "else:\n",
    "    print('Не получилось отвергнуть нулевую гипотезу')"
   ]
  },
  {
   "cell_type": "markdown",
   "metadata": {},
   "source": [
    "Средняя выручка пользователей тарифов «Ультра» и «Смарт» различается."
   ]
  },
  {
   "cell_type": "code",
   "execution_count": 17,
   "metadata": {},
   "outputs": [
    {
     "name": "stdout",
     "output_type": "stream",
     "text": [
      "Средняя выручка тарифа Смарт: 1299\n",
      "Средняя выручка тарифа Ультра: 2066\n"
     ]
    }
   ],
   "source": [
    "print('Средняя выручка тарифа Смарт:',int(smart_bills.mean()))\n",
    "print('Средняя выручка тарифа Ультра:',int(ultra_bills.mean()))"
   ]
  },
  {
   "cell_type": "markdown",
   "metadata": {},
   "source": [
    "### Проверка гипотезы: средняя выручка пользователей из Москвы отличается от выручки пользователей из других регионов"
   ]
  },
  {
   "cell_type": "code",
   "execution_count": 18,
   "metadata": {},
   "outputs": [],
   "source": [
    "# создаю два списка с месячными платежами по тарифам\n",
    "bills_moscow = df[df['city'] == 'Москва']['total_bill']\n",
    "bills_other = df[df['city'] != 'Москва']['total_bill']"
   ]
  },
  {
   "cell_type": "code",
   "execution_count": 19,
   "metadata": {},
   "outputs": [
    {
     "name": "stdout",
     "output_type": "stream",
     "text": [
      "p-значение: 0.6177577589717255\n",
      "Не получилось отвергнуть нулевую гипотезу\n"
     ]
    }
   ],
   "source": [
    "# проверяю гипотезу через t-test\n",
    "city_results = st.ttest_ind(bills_moscow, bills_other)\n",
    "\n",
    "print('p-значение:', city_results.pvalue)\n",
    "\n",
    "if city_results.pvalue < alpha:\n",
    "    print('Отвергаем нулевую гипотезу')\n",
    "else:\n",
    "    print('Не получилось отвергнуть нулевую гипотезу')"
   ]
  },
  {
   "cell_type": "markdown",
   "metadata": {},
   "source": [
    "Средняя выручка пользователей москвы не отличается от выручки пользоваталей из других регионов."
   ]
  },
  {
   "cell_type": "code",
   "execution_count": 20,
   "metadata": {
    "scrolled": true
   },
   "outputs": [
    {
     "name": "stdout",
     "output_type": "stream",
     "text": [
      "Средняя выручка Москвы: 1545\n",
      "Средняя выручка других регионов: 1526\n"
     ]
    }
   ],
   "source": [
    "print('Средняя выручка Москвы:',int(bills_moscow.mean()))\n",
    "print('Средняя выручка других регионов:',int(bills_other.mean()))"
   ]
  },
  {
   "cell_type": "code",
   "execution_count": 21,
   "metadata": {},
   "outputs": [
    {
     "data": {
      "text/plain": [
       "smart    2118\n",
       "ultra     909\n",
       "Name: tariff_name, dtype: int64"
      ]
     },
     "execution_count": 21,
     "metadata": {},
     "output_type": "execute_result"
    }
   ],
   "source": [
    "# считаю кол-во пользователей по тарифам\n",
    "df['tariff_name'].value_counts()"
   ]
  },
  {
   "cell_type": "code",
   "execution_count": 22,
   "metadata": {},
   "outputs": [
    {
     "data": {
      "text/html": [
       "<div>\n",
       "<style scoped>\n",
       "    .dataframe tbody tr th:only-of-type {\n",
       "        vertical-align: middle;\n",
       "    }\n",
       "\n",
       "    .dataframe tbody tr th {\n",
       "        vertical-align: top;\n",
       "    }\n",
       "\n",
       "    .dataframe thead th {\n",
       "        text-align: right;\n",
       "    }\n",
       "</style>\n",
       "<table border=\"1\" class=\"dataframe\">\n",
       "  <thead>\n",
       "    <tr style=\"text-align: right;\">\n",
       "      <th></th>\n",
       "      <th>tariff_name</th>\n",
       "      <th>minutes_over</th>\n",
       "      <th>messages_over</th>\n",
       "      <th>gb_used_over</th>\n",
       "    </tr>\n",
       "  </thead>\n",
       "  <tbody>\n",
       "    <tr>\n",
       "      <th>0</th>\n",
       "      <td>smart</td>\n",
       "      <td>130.16</td>\n",
       "      <td>17.82</td>\n",
       "      <td>601.51</td>\n",
       "    </tr>\n",
       "    <tr>\n",
       "      <th>1</th>\n",
       "      <td>ultra</td>\n",
       "      <td>0.00</td>\n",
       "      <td>0.00</td>\n",
       "      <td>117.00</td>\n",
       "    </tr>\n",
       "  </tbody>\n",
       "</table>\n",
       "</div>"
      ],
      "text/plain": [
       "  tariff_name  minutes_over  messages_over  gb_used_over\n",
       "0       smart        130.16          17.82        601.51\n",
       "1       ultra          0.00           0.00        117.00"
      ]
     },
     "execution_count": 22,
     "metadata": {},
     "output_type": "execute_result"
    }
   ],
   "source": [
    "# считаю сколько в среднем тратит пользователь каждого тарифа в месяц по каждой из услуг\n",
    "df.groupby('tariff_name').agg({'minutes_over':'mean', 'messages_over': 'mean', 'gb_used_over': 'mean'}).reset_index()"
   ]
  },
  {
   "cell_type": "code",
   "execution_count": 23,
   "metadata": {},
   "outputs": [
    {
     "data": {
      "text/html": [
       "<div>\n",
       "<style scoped>\n",
       "    .dataframe tbody tr th:only-of-type {\n",
       "        vertical-align: middle;\n",
       "    }\n",
       "\n",
       "    .dataframe tbody tr th {\n",
       "        vertical-align: top;\n",
       "    }\n",
       "\n",
       "    .dataframe thead th {\n",
       "        text-align: right;\n",
       "    }\n",
       "</style>\n",
       "<table border=\"1\" class=\"dataframe\">\n",
       "  <thead>\n",
       "    <tr style=\"text-align: right;\">\n",
       "      <th></th>\n",
       "      <th>tariff_name</th>\n",
       "      <th>messages_per_month</th>\n",
       "      <th>duration</th>\n",
       "      <th>gb_used</th>\n",
       "    </tr>\n",
       "  </thead>\n",
       "  <tbody>\n",
       "    <tr>\n",
       "      <th>0</th>\n",
       "      <td>smart</td>\n",
       "      <td>26.98</td>\n",
       "      <td>190.14</td>\n",
       "      <td>5.70</td>\n",
       "    </tr>\n",
       "    <tr>\n",
       "      <th>1</th>\n",
       "      <td>ultra</td>\n",
       "      <td>46.53</td>\n",
       "      <td>308.65</td>\n",
       "      <td>9.60</td>\n",
       "    </tr>\n",
       "  </tbody>\n",
       "</table>\n",
       "</div>"
      ],
      "text/plain": [
       "  tariff_name  messages_per_month  duration  gb_used\n",
       "0       smart               26.98    190.14     5.70\n",
       "1       ultra               46.53    308.65     9.60"
      ]
     },
     "execution_count": 23,
     "metadata": {},
     "output_type": "execute_result"
    }
   ],
   "source": [
    "# считаю стандартное отклонение по тарифам\n",
    "df.groupby('tariff_name').agg({'messages_per_month':'std', 'duration': 'std', 'gb_used': 'std'}).reset_index()"
   ]
  },
  {
   "cell_type": "markdown",
   "metadata": {},
   "source": [
    "### Вывод"
   ]
  },
  {
   "cell_type": "markdown",
   "metadata": {},
   "source": [
    "1. Средняя выручка пользователей тарифов «Ультра» и «Смарт» различается.\n",
    "2. Средняя выручка пользователей москвы не отличается от выручки пользоваталей из других регионов."
   ]
  },
  {
   "cell_type": "markdown",
   "metadata": {},
   "source": [
    "## Общий вывод"
   ]
  },
  {
   "cell_type": "markdown",
   "metadata": {},
   "source": [
    "1. Пользоваталей в тарифе `smart` в 2.3 раза больше , чем в тарифе `ultra.` (т.е. для ультры есть куда еще расти)\n",
    "2. Дисперсия по каждой из услуг тарифа `ultra` выше, чем у тарифа `smart`, это означает, что пользователи ультры более склонны слать больше смс/звонить/пользоваться интернет-трафиком.\n",
    "3. Средняя выручка по месяцам же у тарифа `ultra` выше, чем у `smart`.\n",
    "<br><br>\n",
    "Вывод: тарифа `ultra` приносит больше денег, коммерческому департаменту стоит сфокусироваться на нем."
   ]
  }
 ],
 "metadata": {
  "ExecuteTimeLog": [
   {
    "duration": 719,
    "start_time": "2021-12-05T11:13:16.086Z"
   },
   {
    "duration": 150,
    "start_time": "2021-12-05T11:13:27.306Z"
   },
   {
    "duration": 150,
    "start_time": "2021-12-05T11:13:30.276Z"
   },
   {
    "duration": 146,
    "start_time": "2021-12-05T11:14:33.182Z"
   },
   {
    "duration": 159,
    "start_time": "2021-12-05T11:14:48.465Z"
   },
   {
    "duration": 134,
    "start_time": "2021-12-05T11:15:02.734Z"
   },
   {
    "duration": 150,
    "start_time": "2021-12-05T11:15:06.953Z"
   },
   {
    "duration": 145,
    "start_time": "2021-12-05T11:15:10.579Z"
   },
   {
    "duration": 133,
    "start_time": "2021-12-05T11:15:18.034Z"
   },
   {
    "duration": 404,
    "start_time": "2021-12-05T11:15:43.275Z"
   },
   {
    "duration": 385,
    "start_time": "2021-12-05T11:15:50.330Z"
   },
   {
    "duration": 12,
    "start_time": "2021-12-05T11:15:53.536Z"
   },
   {
    "duration": 85,
    "start_time": "2021-12-05T11:16:10.687Z"
   },
   {
    "duration": 9,
    "start_time": "2021-12-05T11:16:15.807Z"
   },
   {
    "duration": 976,
    "start_time": "2021-12-05T11:16:24.082Z"
   },
   {
    "duration": 10,
    "start_time": "2021-12-05T11:16:25.060Z"
   },
   {
    "duration": 9,
    "start_time": "2021-12-05T11:16:25.072Z"
   },
   {
    "duration": 10,
    "start_time": "2021-12-05T11:16:25.083Z"
   },
   {
    "duration": 14,
    "start_time": "2021-12-05T11:16:25.095Z"
   },
   {
    "duration": 419,
    "start_time": "2021-12-05T11:17:10.542Z"
   },
   {
    "duration": 436,
    "start_time": "2021-12-05T11:17:21.303Z"
   },
   {
    "duration": 414,
    "start_time": "2021-12-05T11:17:26.873Z"
   },
   {
    "duration": 407,
    "start_time": "2021-12-05T11:22:09.476Z"
   },
   {
    "duration": 421,
    "start_time": "2021-12-05T11:22:14.660Z"
   },
   {
    "duration": 403,
    "start_time": "2021-12-05T11:23:11.927Z"
   },
   {
    "duration": 399,
    "start_time": "2021-12-05T11:23:48.587Z"
   },
   {
    "duration": 376,
    "start_time": "2021-12-05T11:24:02.528Z"
   },
   {
    "duration": 26,
    "start_time": "2021-12-05T11:24:04.309Z"
   },
   {
    "duration": 25,
    "start_time": "2021-12-05T11:24:33.604Z"
   },
   {
    "duration": 18,
    "start_time": "2021-12-05T11:25:48.102Z"
   },
   {
    "duration": 16,
    "start_time": "2021-12-05T11:27:58.293Z"
   },
   {
    "duration": 9,
    "start_time": "2021-12-05T11:29:17.044Z"
   },
   {
    "duration": 591,
    "start_time": "2021-12-05T11:29:30.440Z"
   },
   {
    "duration": 18,
    "start_time": "2021-12-05T11:29:51.091Z"
   },
   {
    "duration": 22,
    "start_time": "2021-12-05T11:30:10.462Z"
   },
   {
    "duration": 9,
    "start_time": "2021-12-05T11:31:17.161Z"
   },
   {
    "duration": 28,
    "start_time": "2021-12-05T11:31:37.890Z"
   },
   {
    "duration": 15,
    "start_time": "2021-12-05T11:32:17.856Z"
   },
   {
    "duration": 3,
    "start_time": "2021-12-05T11:40:46.420Z"
   },
   {
    "duration": 311,
    "start_time": "2021-12-05T11:41:34.971Z"
   },
   {
    "duration": 38,
    "start_time": "2021-12-05T11:41:44.362Z"
   },
   {
    "duration": 2,
    "start_time": "2021-12-05T11:44:50.807Z"
   },
   {
    "duration": 41,
    "start_time": "2021-12-05T11:45:19.620Z"
   },
   {
    "duration": 40,
    "start_time": "2021-12-05T11:47:41.541Z"
   },
   {
    "duration": 41,
    "start_time": "2021-12-05T11:47:46.549Z"
   },
   {
    "duration": 6,
    "start_time": "2021-12-05T11:49:28.169Z"
   },
   {
    "duration": 517,
    "start_time": "2021-12-05T11:49:33.784Z"
   },
   {
    "duration": 236,
    "start_time": "2021-12-05T11:50:00.880Z"
   },
   {
    "duration": 10,
    "start_time": "2021-12-05T11:50:04.826Z"
   },
   {
    "duration": 22,
    "start_time": "2021-12-05T11:50:18.052Z"
   },
   {
    "duration": 391,
    "start_time": "2021-12-05T12:04:02.458Z"
   },
   {
    "duration": 77,
    "start_time": "2021-12-05T12:05:12.631Z"
   },
   {
    "duration": 665,
    "start_time": "2021-12-05T12:05:20.328Z"
   },
   {
    "duration": 384,
    "start_time": "2021-12-05T12:05:27.043Z"
   },
   {
    "duration": 584,
    "start_time": "2021-12-05T12:05:37.697Z"
   },
   {
    "duration": 389,
    "start_time": "2021-12-05T12:05:44.657Z"
   },
   {
    "duration": 394,
    "start_time": "2021-12-05T12:06:55.479Z"
   },
   {
    "duration": 35,
    "start_time": "2021-12-05T12:07:12.056Z"
   },
   {
    "duration": 35,
    "start_time": "2021-12-05T12:07:16.583Z"
   },
   {
    "duration": 39,
    "start_time": "2021-12-05T12:07:23.284Z"
   },
   {
    "duration": 16,
    "start_time": "2021-12-05T12:16:43.913Z"
   },
   {
    "duration": 23,
    "start_time": "2021-12-05T12:16:53.902Z"
   },
   {
    "duration": 20,
    "start_time": "2021-12-05T12:19:12.204Z"
   },
   {
    "duration": 396,
    "start_time": "2021-12-05T12:19:28.305Z"
   },
   {
    "duration": 38,
    "start_time": "2021-12-05T12:19:28.702Z"
   },
   {
    "duration": 13,
    "start_time": "2021-12-05T12:19:28.741Z"
   },
   {
    "duration": 36,
    "start_time": "2021-12-05T12:19:28.755Z"
   },
   {
    "duration": 20,
    "start_time": "2021-12-05T12:19:28.793Z"
   },
   {
    "duration": 17,
    "start_time": "2021-12-05T12:19:28.815Z"
   },
   {
    "duration": 6,
    "start_time": "2021-12-05T12:19:28.833Z"
   },
   {
    "duration": 21,
    "start_time": "2021-12-05T12:19:28.841Z"
   },
   {
    "duration": 284,
    "start_time": "2021-12-05T12:20:06.565Z"
   },
   {
    "duration": 222,
    "start_time": "2021-12-05T12:20:19.745Z"
   },
   {
    "duration": 17,
    "start_time": "2021-12-05T12:20:27.375Z"
   },
   {
    "duration": 17,
    "start_time": "2021-12-05T12:20:38.806Z"
   },
   {
    "duration": 14,
    "start_time": "2021-12-05T12:21:41.349Z"
   },
   {
    "duration": 14,
    "start_time": "2021-12-05T12:21:54.784Z"
   },
   {
    "duration": 16,
    "start_time": "2021-12-05T12:22:04.698Z"
   },
   {
    "duration": 19,
    "start_time": "2021-12-05T12:22:14.874Z"
   },
   {
    "duration": 400,
    "start_time": "2021-12-05T12:22:22.733Z"
   },
   {
    "duration": 36,
    "start_time": "2021-12-05T12:22:23.135Z"
   },
   {
    "duration": 24,
    "start_time": "2021-12-05T12:22:23.173Z"
   },
   {
    "duration": 27,
    "start_time": "2021-12-05T12:22:23.199Z"
   },
   {
    "duration": 20,
    "start_time": "2021-12-05T12:22:23.228Z"
   },
   {
    "duration": 42,
    "start_time": "2021-12-05T12:22:23.249Z"
   },
   {
    "duration": 6,
    "start_time": "2021-12-05T12:22:23.293Z"
   },
   {
    "duration": 21,
    "start_time": "2021-12-05T12:22:23.301Z"
   },
   {
    "duration": 17,
    "start_time": "2021-12-05T12:22:30.950Z"
   },
   {
    "duration": 15,
    "start_time": "2021-12-05T12:22:44.585Z"
   },
   {
    "duration": 15,
    "start_time": "2021-12-05T12:22:57.981Z"
   },
   {
    "duration": 15,
    "start_time": "2021-12-05T12:23:01.595Z"
   },
   {
    "duration": 340,
    "start_time": "2021-12-05T12:24:32.299Z"
   },
   {
    "duration": 397,
    "start_time": "2021-12-05T12:25:02.260Z"
   },
   {
    "duration": 37,
    "start_time": "2021-12-05T12:25:02.659Z"
   },
   {
    "duration": 6,
    "start_time": "2021-12-05T12:25:02.697Z"
   },
   {
    "duration": 27,
    "start_time": "2021-12-05T12:25:02.704Z"
   },
   {
    "duration": 21,
    "start_time": "2021-12-05T12:25:02.733Z"
   },
   {
    "duration": 32,
    "start_time": "2021-12-05T12:25:02.756Z"
   },
   {
    "duration": 11,
    "start_time": "2021-12-05T12:25:02.790Z"
   },
   {
    "duration": 19,
    "start_time": "2021-12-05T12:25:02.802Z"
   },
   {
    "duration": 309,
    "start_time": "2021-12-05T12:25:02.824Z"
   },
   {
    "duration": 10,
    "start_time": "2021-12-05T12:25:23.695Z"
   },
   {
    "duration": 11,
    "start_time": "2021-12-05T12:25:34.198Z"
   },
   {
    "duration": 9,
    "start_time": "2021-12-05T12:25:57.258Z"
   },
   {
    "duration": 7,
    "start_time": "2021-12-05T12:26:06.722Z"
   },
   {
    "duration": 11,
    "start_time": "2021-12-05T12:26:13.230Z"
   },
   {
    "duration": 17,
    "start_time": "2021-12-05T12:29:44.307Z"
   },
   {
    "duration": 5868,
    "start_time": "2021-12-05T12:29:50.800Z"
   },
   {
    "duration": 406,
    "start_time": "2021-12-05T12:29:57.512Z"
   },
   {
    "duration": 38,
    "start_time": "2021-12-05T12:29:57.920Z"
   },
   {
    "duration": 7,
    "start_time": "2021-12-05T12:29:57.960Z"
   },
   {
    "duration": 45,
    "start_time": "2021-12-05T12:29:57.968Z"
   },
   {
    "duration": 22,
    "start_time": "2021-12-05T12:29:58.014Z"
   },
   {
    "duration": 17,
    "start_time": "2021-12-05T12:29:58.037Z"
   },
   {
    "duration": 35,
    "start_time": "2021-12-05T12:29:58.056Z"
   },
   {
    "duration": 15,
    "start_time": "2021-12-05T12:29:58.093Z"
   },
   {
    "duration": 68,
    "start_time": "2021-12-05T12:30:29.096Z"
   },
   {
    "duration": 17,
    "start_time": "2021-12-05T12:30:40.522Z"
   },
   {
    "duration": 17,
    "start_time": "2021-12-05T12:31:06.542Z"
   },
   {
    "duration": 398,
    "start_time": "2021-12-05T12:31:09.927Z"
   },
   {
    "duration": 40,
    "start_time": "2021-12-05T12:31:10.327Z"
   },
   {
    "duration": 19,
    "start_time": "2021-12-05T12:31:10.370Z"
   },
   {
    "duration": 26,
    "start_time": "2021-12-05T12:31:10.391Z"
   },
   {
    "duration": 24,
    "start_time": "2021-12-05T12:31:10.419Z"
   },
   {
    "duration": 50,
    "start_time": "2021-12-05T12:31:10.445Z"
   },
   {
    "duration": 6,
    "start_time": "2021-12-05T12:31:10.497Z"
   },
   {
    "duration": 16,
    "start_time": "2021-12-05T12:31:10.504Z"
   },
   {
    "duration": 6002,
    "start_time": "2021-12-05T12:31:10.522Z"
   },
   {
    "duration": 1600,
    "start_time": "2021-12-05T12:32:20.257Z"
   },
   {
    "duration": 31,
    "start_time": "2021-12-05T12:32:46.781Z"
   },
   {
    "duration": 409,
    "start_time": "2021-12-05T12:33:50.114Z"
   },
   {
    "duration": 39,
    "start_time": "2021-12-05T12:33:50.524Z"
   },
   {
    "duration": 6,
    "start_time": "2021-12-05T12:33:50.565Z"
   },
   {
    "duration": 73,
    "start_time": "2021-12-05T12:33:50.572Z"
   },
   {
    "duration": 39,
    "start_time": "2021-12-05T12:34:03.856Z"
   },
   {
    "duration": 10,
    "start_time": "2021-12-05T12:34:55.759Z"
   },
   {
    "duration": 11,
    "start_time": "2021-12-05T12:35:08.123Z"
   },
   {
    "duration": 409,
    "start_time": "2021-12-05T12:35:21.628Z"
   },
   {
    "duration": 38,
    "start_time": "2021-12-05T12:35:22.039Z"
   },
   {
    "duration": 6,
    "start_time": "2021-12-05T12:35:22.088Z"
   },
   {
    "duration": 60,
    "start_time": "2021-12-05T12:35:22.095Z"
   },
   {
    "duration": 57,
    "start_time": "2021-12-05T12:35:22.156Z"
   },
   {
    "duration": 11,
    "start_time": "2021-12-05T12:35:37.585Z"
   },
   {
    "duration": 2,
    "start_time": "2021-12-05T12:39:59.001Z"
   },
   {
    "duration": 25,
    "start_time": "2021-12-05T12:40:04.941Z"
   },
   {
    "duration": 46,
    "start_time": "2021-12-05T12:40:18.765Z"
   },
   {
    "duration": 41,
    "start_time": "2021-12-05T12:40:24.362Z"
   },
   {
    "duration": 15,
    "start_time": "2021-12-05T12:41:02.848Z"
   },
   {
    "duration": 16,
    "start_time": "2021-12-05T12:41:17.427Z"
   },
   {
    "duration": 43,
    "start_time": "2021-12-05T12:41:19.288Z"
   },
   {
    "duration": 451,
    "start_time": "2021-12-05T12:41:28.812Z"
   },
   {
    "duration": 38,
    "start_time": "2021-12-05T12:41:29.265Z"
   },
   {
    "duration": 6,
    "start_time": "2021-12-05T12:41:29.305Z"
   },
   {
    "duration": 58,
    "start_time": "2021-12-05T12:41:29.313Z"
   },
   {
    "duration": 53,
    "start_time": "2021-12-05T12:41:29.373Z"
   },
   {
    "duration": 15,
    "start_time": "2021-12-05T12:41:29.428Z"
   },
   {
    "duration": 24,
    "start_time": "2021-12-05T12:41:39.008Z"
   },
   {
    "duration": 22,
    "start_time": "2021-12-05T12:41:43.204Z"
   },
   {
    "duration": 17,
    "start_time": "2021-12-05T12:41:57.994Z"
   },
   {
    "duration": 266,
    "start_time": "2021-12-05T12:42:02.325Z"
   },
   {
    "duration": 16,
    "start_time": "2021-12-05T12:42:11.689Z"
   },
   {
    "duration": 963,
    "start_time": "2021-12-05T12:42:30.833Z"
   },
   {
    "duration": 41,
    "start_time": "2021-12-05T12:42:31.798Z"
   },
   {
    "duration": 8,
    "start_time": "2021-12-05T12:42:31.841Z"
   },
   {
    "duration": 37,
    "start_time": "2021-12-05T12:42:31.851Z"
   },
   {
    "duration": 68,
    "start_time": "2021-12-05T12:42:31.889Z"
   },
   {
    "duration": 37,
    "start_time": "2021-12-05T12:42:31.959Z"
   },
   {
    "duration": 44,
    "start_time": "2021-12-05T12:42:31.998Z"
   },
   {
    "duration": 15,
    "start_time": "2021-12-05T12:42:32.044Z"
   },
   {
    "duration": 363,
    "start_time": "2021-12-05T12:43:08.545Z"
   },
   {
    "duration": 12,
    "start_time": "2021-12-05T12:43:18.971Z"
   },
   {
    "duration": 365,
    "start_time": "2021-12-05T12:43:28.651Z"
   },
   {
    "duration": 12,
    "start_time": "2021-12-05T12:43:30.744Z"
   },
   {
    "duration": 5,
    "start_time": "2021-12-05T12:43:34.681Z"
   },
   {
    "duration": 11,
    "start_time": "2021-12-05T12:43:43.782Z"
   },
   {
    "duration": 386,
    "start_time": "2021-12-05T12:43:56.175Z"
   },
   {
    "duration": 54,
    "start_time": "2021-12-05T12:43:56.563Z"
   },
   {
    "duration": 40,
    "start_time": "2021-12-05T12:43:56.619Z"
   },
   {
    "duration": 6,
    "start_time": "2021-12-05T12:43:56.661Z"
   },
   {
    "duration": 26,
    "start_time": "2021-12-05T12:43:56.668Z"
   },
   {
    "duration": 61,
    "start_time": "2021-12-05T12:43:56.696Z"
   },
   {
    "duration": 15,
    "start_time": "2021-12-05T12:43:56.759Z"
   },
   {
    "duration": 39,
    "start_time": "2021-12-05T12:43:56.788Z"
   },
   {
    "duration": 14,
    "start_time": "2021-12-05T12:43:56.829Z"
   },
   {
    "duration": 41,
    "start_time": "2021-12-05T12:44:10.937Z"
   },
   {
    "duration": 133,
    "start_time": "2021-12-05T12:45:13.970Z"
   },
   {
    "duration": 40,
    "start_time": "2021-12-05T12:45:49.908Z"
   },
   {
    "duration": 344,
    "start_time": "2021-12-05T12:45:57.977Z"
   },
   {
    "duration": 42,
    "start_time": "2021-12-05T12:46:02.217Z"
   },
   {
    "duration": 11,
    "start_time": "2021-12-05T12:46:11.730Z"
   },
   {
    "duration": 11,
    "start_time": "2021-12-05T12:46:21.437Z"
   },
   {
    "duration": 39,
    "start_time": "2021-12-05T12:46:26.548Z"
   },
   {
    "duration": 13,
    "start_time": "2021-12-05T12:46:31.869Z"
   },
   {
    "duration": 42,
    "start_time": "2021-12-05T12:47:36.560Z"
   },
   {
    "duration": 40,
    "start_time": "2021-12-05T12:47:45.677Z"
   },
   {
    "duration": 32,
    "start_time": "2021-12-05T12:47:50.955Z"
   },
   {
    "duration": 39,
    "start_time": "2021-12-05T12:47:55.951Z"
   },
   {
    "duration": 33,
    "start_time": "2021-12-05T12:48:07.188Z"
   },
   {
    "duration": 57,
    "start_time": "2021-12-05T12:48:14.982Z"
   },
   {
    "duration": 30,
    "start_time": "2021-12-05T12:48:56.109Z"
   },
   {
    "duration": 48,
    "start_time": "2021-12-05T12:49:48.896Z"
   },
   {
    "duration": 131,
    "start_time": "2021-12-05T12:49:59.396Z"
   },
   {
    "duration": 353,
    "start_time": "2021-12-05T13:04:08.319Z"
   },
   {
    "duration": 60,
    "start_time": "2021-12-05T13:04:08.674Z"
   },
   {
    "duration": 169,
    "start_time": "2021-12-05T13:04:08.736Z"
   },
   {
    "duration": 41,
    "start_time": "2021-12-05T13:04:08.907Z"
   },
   {
    "duration": 6,
    "start_time": "2021-12-05T13:04:08.950Z"
   },
   {
    "duration": 82,
    "start_time": "2021-12-05T13:04:08.958Z"
   },
   {
    "duration": 111,
    "start_time": "2021-12-05T13:04:09.041Z"
   },
   {
    "duration": 39,
    "start_time": "2021-12-05T13:04:15.686Z"
   },
   {
    "duration": 156,
    "start_time": "2021-12-05T13:04:39.548Z"
   },
   {
    "duration": 33,
    "start_time": "2021-12-05T13:04:48.233Z"
   },
   {
    "duration": 2,
    "start_time": "2021-12-05T13:36:59.410Z"
   },
   {
    "duration": 79,
    "start_time": "2021-12-05T13:37:33.516Z"
   },
   {
    "duration": 35,
    "start_time": "2021-12-05T13:37:55.078Z"
   },
   {
    "duration": 38,
    "start_time": "2021-12-05T13:45:16.201Z"
   },
   {
    "duration": 133,
    "start_time": "2021-12-05T13:46:04.641Z"
   },
   {
    "duration": 31,
    "start_time": "2021-12-05T13:46:17.651Z"
   },
   {
    "duration": 10,
    "start_time": "2021-12-05T14:20:51.857Z"
   },
   {
    "duration": 12,
    "start_time": "2021-12-05T14:28:17.859Z"
   },
   {
    "duration": 16,
    "start_time": "2021-12-05T14:28:26.144Z"
   },
   {
    "duration": 11,
    "start_time": "2021-12-05T14:28:29.571Z"
   },
   {
    "duration": 15,
    "start_time": "2021-12-05T14:28:33.116Z"
   },
   {
    "duration": 10,
    "start_time": "2021-12-05T14:28:34.901Z"
   },
   {
    "duration": 347,
    "start_time": "2021-12-05T14:28:41.921Z"
   },
   {
    "duration": 55,
    "start_time": "2021-12-05T14:28:42.270Z"
   },
   {
    "duration": 142,
    "start_time": "2021-12-05T14:28:42.327Z"
   },
   {
    "duration": 56,
    "start_time": "2021-12-05T14:28:42.471Z"
   },
   {
    "duration": 5,
    "start_time": "2021-12-05T14:28:42.528Z"
   },
   {
    "duration": 75,
    "start_time": "2021-12-05T14:28:42.535Z"
   },
   {
    "duration": 10,
    "start_time": "2021-12-05T14:28:42.611Z"
   },
   {
    "duration": 81,
    "start_time": "2021-12-05T14:28:42.623Z"
   },
   {
    "duration": 15,
    "start_time": "2021-12-05T14:28:47.447Z"
   },
   {
    "duration": 14,
    "start_time": "2021-12-05T14:28:49.461Z"
   },
   {
    "duration": 356,
    "start_time": "2021-12-05T14:29:05.166Z"
   },
   {
    "duration": 53,
    "start_time": "2021-12-05T14:29:05.524Z"
   },
   {
    "duration": 158,
    "start_time": "2021-12-05T14:29:05.579Z"
   },
   {
    "duration": 54,
    "start_time": "2021-12-05T14:29:05.738Z"
   },
   {
    "duration": 5,
    "start_time": "2021-12-05T14:29:05.794Z"
   },
   {
    "duration": 61,
    "start_time": "2021-12-05T14:29:05.801Z"
   },
   {
    "duration": 27,
    "start_time": "2021-12-05T14:29:05.864Z"
   },
   {
    "duration": 75,
    "start_time": "2021-12-05T14:29:05.893Z"
   },
   {
    "duration": 73,
    "start_time": "2021-12-05T14:29:18.927Z"
   },
   {
    "duration": 15,
    "start_time": "2021-12-05T14:29:22.137Z"
   },
   {
    "duration": 10,
    "start_time": "2021-12-05T14:29:24.518Z"
   },
   {
    "duration": 16,
    "start_time": "2021-12-05T14:29:32.587Z"
   },
   {
    "duration": 11,
    "start_time": "2021-12-05T14:29:46.088Z"
   },
   {
    "duration": 7,
    "start_time": "2021-12-05T14:30:37.138Z"
   },
   {
    "duration": 11,
    "start_time": "2021-12-05T14:30:53.415Z"
   },
   {
    "duration": 10,
    "start_time": "2021-12-05T14:32:27.734Z"
   },
   {
    "duration": 23,
    "start_time": "2021-12-05T14:32:40.850Z"
   },
   {
    "duration": 11,
    "start_time": "2021-12-05T14:33:05.166Z"
   },
   {
    "duration": 226,
    "start_time": "2021-12-05T14:33:27.907Z"
   },
   {
    "duration": 23,
    "start_time": "2021-12-05T14:34:05.868Z"
   },
   {
    "duration": 11,
    "start_time": "2021-12-05T14:34:19.478Z"
   },
   {
    "duration": 8,
    "start_time": "2021-12-05T14:34:49.685Z"
   },
   {
    "duration": 8,
    "start_time": "2021-12-05T14:34:53.520Z"
   },
   {
    "duration": 6,
    "start_time": "2021-12-05T14:35:01.269Z"
   },
   {
    "duration": 7,
    "start_time": "2021-12-05T14:35:12.365Z"
   },
   {
    "duration": 12,
    "start_time": "2021-12-05T14:35:16.381Z"
   },
   {
    "duration": 10,
    "start_time": "2021-12-05T14:37:07.015Z"
   },
   {
    "duration": 928,
    "start_time": "2021-12-05T14:39:11.667Z"
   },
   {
    "duration": 59,
    "start_time": "2021-12-05T14:39:12.596Z"
   },
   {
    "duration": 182,
    "start_time": "2021-12-05T14:39:12.657Z"
   },
   {
    "duration": 53,
    "start_time": "2021-12-05T14:39:12.841Z"
   },
   {
    "duration": 269,
    "start_time": "2021-12-05T14:39:12.895Z"
   },
   {
    "duration": 104,
    "start_time": "2021-12-05T14:39:13.062Z"
   },
   {
    "duration": 103,
    "start_time": "2021-12-05T14:39:13.064Z"
   },
   {
    "duration": 7,
    "start_time": "2021-12-05T14:39:25.272Z"
   },
   {
    "duration": 62,
    "start_time": "2021-12-05T14:39:28.007Z"
   },
   {
    "duration": 12,
    "start_time": "2021-12-05T14:40:00.319Z"
   },
   {
    "duration": 233,
    "start_time": "2021-12-05T14:40:10.755Z"
   },
   {
    "duration": 237,
    "start_time": "2021-12-05T14:41:18.878Z"
   },
   {
    "duration": 16,
    "start_time": "2021-12-05T14:41:31.040Z"
   },
   {
    "duration": 20,
    "start_time": "2021-12-05T14:41:42.344Z"
   },
   {
    "duration": 29,
    "start_time": "2021-12-05T14:41:48.529Z"
   },
   {
    "duration": 1367,
    "start_time": "2021-12-05T17:37:20.326Z"
   },
   {
    "duration": 89,
    "start_time": "2021-12-05T17:37:21.696Z"
   },
   {
    "duration": 337,
    "start_time": "2021-12-05T17:37:21.788Z"
   },
   {
    "duration": 87,
    "start_time": "2021-12-05T17:37:22.127Z"
   },
   {
    "duration": 10,
    "start_time": "2021-12-05T17:37:22.216Z"
   },
   {
    "duration": 126,
    "start_time": "2021-12-05T17:37:22.229Z"
   },
   {
    "duration": 18,
    "start_time": "2021-12-05T17:37:22.358Z"
   },
   {
    "duration": 51,
    "start_time": "2021-12-05T17:37:22.379Z"
   },
   {
    "duration": 67,
    "start_time": "2021-12-05T17:49:32.198Z"
   },
   {
    "duration": 6897,
    "start_time": "2021-12-05T17:51:33.241Z"
   },
   {
    "duration": 554,
    "start_time": "2021-12-05T17:51:41.755Z"
   },
   {
    "duration": 97,
    "start_time": "2021-12-05T17:51:42.311Z"
   },
   {
    "duration": 315,
    "start_time": "2021-12-05T17:51:42.411Z"
   },
   {
    "duration": 87,
    "start_time": "2021-12-05T17:51:42.730Z"
   },
   {
    "duration": 9,
    "start_time": "2021-12-05T17:51:42.819Z"
   },
   {
    "duration": 120,
    "start_time": "2021-12-05T17:51:42.830Z"
   },
   {
    "duration": 73,
    "start_time": "2021-12-05T17:51:42.952Z"
   },
   {
    "duration": 6413,
    "start_time": "2021-12-05T17:53:25.404Z"
   },
   {
    "duration": 536,
    "start_time": "2021-12-05T17:53:54.340Z"
   },
   {
    "duration": 109,
    "start_time": "2021-12-05T17:53:54.879Z"
   },
   {
    "duration": 301,
    "start_time": "2021-12-05T17:53:54.991Z"
   },
   {
    "duration": 82,
    "start_time": "2021-12-05T17:53:55.295Z"
   },
   {
    "duration": 8,
    "start_time": "2021-12-05T17:53:55.380Z"
   },
   {
    "duration": 122,
    "start_time": "2021-12-05T17:53:55.391Z"
   },
   {
    "duration": 61,
    "start_time": "2021-12-05T17:54:11.786Z"
   },
   {
    "duration": 6670,
    "start_time": "2021-12-05T17:54:15.856Z"
   },
   {
    "duration": 7302,
    "start_time": "2021-12-05T17:54:23.076Z"
   },
   {
    "duration": 16,
    "start_time": "2021-12-05T17:54:43.582Z"
   },
   {
    "duration": 1296,
    "start_time": "2021-12-05T17:55:07.733Z"
   },
   {
    "duration": 87,
    "start_time": "2021-12-05T17:55:09.032Z"
   },
   {
    "duration": 361,
    "start_time": "2021-12-05T17:55:09.122Z"
   },
   {
    "duration": 91,
    "start_time": "2021-12-05T17:55:09.486Z"
   },
   {
    "duration": 9,
    "start_time": "2021-12-05T17:55:09.579Z"
   },
   {
    "duration": 120,
    "start_time": "2021-12-05T17:55:09.591Z"
   },
   {
    "duration": 412,
    "start_time": "2021-12-05T17:55:09.714Z"
   },
   {
    "duration": 550,
    "start_time": "2021-12-05T17:56:18.116Z"
   },
   {
    "duration": 98,
    "start_time": "2021-12-05T17:56:20.126Z"
   },
   {
    "duration": 258,
    "start_time": "2021-12-05T17:56:23.600Z"
   },
   {
    "duration": 65,
    "start_time": "2021-12-05T17:56:24.724Z"
   },
   {
    "duration": 9,
    "start_time": "2021-12-05T17:56:29.026Z"
   },
   {
    "duration": 97,
    "start_time": "2021-12-05T17:56:31.484Z"
   },
   {
    "duration": 66,
    "start_time": "2021-12-05T17:56:36.974Z"
   },
   {
    "duration": 16,
    "start_time": "2021-12-05T17:57:05.302Z"
   },
   {
    "duration": 277,
    "start_time": "2021-12-05T17:58:21.227Z"
   },
   {
    "duration": 266,
    "start_time": "2021-12-05T17:58:26.515Z"
   },
   {
    "duration": 22,
    "start_time": "2021-12-05T17:58:31.065Z"
   },
   {
    "duration": 33,
    "start_time": "2021-12-05T17:58:34.624Z"
   },
   {
    "duration": 6623,
    "start_time": "2021-12-05T17:59:43.846Z"
   },
   {
    "duration": 33,
    "start_time": "2021-12-05T18:01:06.841Z"
   },
   {
    "duration": 69,
    "start_time": "2021-12-05T18:03:08.141Z"
   },
   {
    "duration": 35,
    "start_time": "2021-12-05T18:03:25.914Z"
   },
   {
    "duration": 7245,
    "start_time": "2021-12-05T18:03:33.076Z"
   },
   {
    "duration": 6931,
    "start_time": "2021-12-05T18:04:03.585Z"
   },
   {
    "duration": 22,
    "start_time": "2021-12-05T18:04:10.721Z"
   },
   {
    "duration": 35,
    "start_time": "2021-12-05T18:04:15.205Z"
   },
   {
    "duration": 40,
    "start_time": "2021-12-05T18:04:24.621Z"
   },
   {
    "duration": 55,
    "start_time": "2021-12-05T18:04:27.341Z"
   },
   {
    "duration": 563,
    "start_time": "2021-12-05T18:06:01.778Z"
   },
   {
    "duration": 729,
    "start_time": "2021-12-05T18:06:05.846Z"
   },
   {
    "duration": 7203,
    "start_time": "2021-12-05T18:06:42.488Z"
   },
   {
    "duration": 80,
    "start_time": "2021-12-05T18:06:54.468Z"
   },
   {
    "duration": 527,
    "start_time": "2021-12-05T18:07:22.817Z"
   },
   {
    "duration": 91,
    "start_time": "2021-12-05T18:07:23.347Z"
   },
   {
    "duration": 303,
    "start_time": "2021-12-05T18:07:23.441Z"
   },
   {
    "duration": 76,
    "start_time": "2021-12-05T18:07:23.747Z"
   },
   {
    "duration": 8,
    "start_time": "2021-12-05T18:07:23.825Z"
   },
   {
    "duration": 131,
    "start_time": "2021-12-05T18:07:23.836Z"
   },
   {
    "duration": 59,
    "start_time": "2021-12-05T18:07:23.969Z"
   },
   {
    "duration": 70,
    "start_time": "2021-12-05T18:07:24.031Z"
   },
   {
    "duration": 527,
    "start_time": "2021-12-05T18:10:17.935Z"
   },
   {
    "duration": 152,
    "start_time": "2021-12-05T18:10:18.465Z"
   },
   {
    "duration": 324,
    "start_time": "2021-12-05T18:10:18.620Z"
   },
   {
    "duration": 77,
    "start_time": "2021-12-05T18:10:18.946Z"
   },
   {
    "duration": 9,
    "start_time": "2021-12-05T18:10:19.025Z"
   },
   {
    "duration": 133,
    "start_time": "2021-12-05T18:10:19.037Z"
   },
   {
    "duration": 61,
    "start_time": "2021-12-05T18:10:19.172Z"
   },
   {
    "duration": 42,
    "start_time": "2021-12-05T18:10:19.238Z"
   },
   {
    "duration": 1408,
    "start_time": "2021-12-05T18:11:03.516Z"
   },
   {
    "duration": 633,
    "start_time": "2021-12-05T18:13:04.548Z"
   },
   {
    "duration": 102,
    "start_time": "2021-12-05T18:13:05.184Z"
   },
   {
    "duration": 318,
    "start_time": "2021-12-05T18:13:05.289Z"
   },
   {
    "duration": 85,
    "start_time": "2021-12-05T18:13:05.609Z"
   },
   {
    "duration": 10,
    "start_time": "2021-12-05T18:13:05.696Z"
   },
   {
    "duration": 65,
    "start_time": "2021-12-05T18:13:05.708Z"
   },
   {
    "duration": 64,
    "start_time": "2021-12-05T18:13:05.775Z"
   },
   {
    "duration": 1188,
    "start_time": "2021-12-05T18:13:05.842Z"
   },
   {
    "duration": 21,
    "start_time": "2021-12-05T18:13:12.780Z"
   },
   {
    "duration": 17,
    "start_time": "2021-12-05T18:13:20.430Z"
   },
   {
    "duration": 24,
    "start_time": "2021-12-05T18:13:24.711Z"
   },
   {
    "duration": 37,
    "start_time": "2021-12-05T18:13:41.137Z"
   },
   {
    "duration": 88,
    "start_time": "2021-12-05T18:13:53.282Z"
   },
   {
    "duration": 7599,
    "start_time": "2021-12-05T18:13:57.546Z"
   },
   {
    "duration": 72,
    "start_time": "2021-12-05T18:14:05.077Z"
   },
   {
    "duration": 30,
    "start_time": "2021-12-05T18:14:13.720Z"
   },
   {
    "duration": 29,
    "start_time": "2021-12-05T18:14:15.807Z"
   },
   {
    "duration": 16,
    "start_time": "2021-12-05T18:15:02.295Z"
   },
   {
    "duration": 4,
    "start_time": "2021-12-05T18:16:47.157Z"
   },
   {
    "duration": 21,
    "start_time": "2021-12-05T18:16:47.163Z"
   },
   {
    "duration": 8073,
    "start_time": "2021-12-05T18:16:47.187Z"
   },
   {
    "duration": 71,
    "start_time": "2021-12-05T18:16:55.191Z"
   },
   {
    "duration": 16,
    "start_time": "2021-12-05T18:16:58.501Z"
   },
   {
    "duration": 684,
    "start_time": "2021-12-05T18:17:03.820Z"
   },
   {
    "duration": 120,
    "start_time": "2021-12-05T18:17:05.247Z"
   },
   {
    "duration": 305,
    "start_time": "2021-12-05T18:17:06.469Z"
   },
   {
    "duration": 67,
    "start_time": "2021-12-05T18:17:07.576Z"
   },
   {
    "duration": 10,
    "start_time": "2021-12-05T18:17:10.936Z"
   },
   {
    "duration": 4,
    "start_time": "2021-12-05T18:17:16.567Z"
   },
   {
    "duration": 23,
    "start_time": "2021-12-05T18:17:17.044Z"
   },
   {
    "duration": 34,
    "start_time": "2021-12-05T18:17:40.085Z"
   },
   {
    "duration": 23,
    "start_time": "2021-12-05T18:17:42.475Z"
   },
   {
    "duration": 24,
    "start_time": "2021-12-05T18:17:46.779Z"
   },
   {
    "duration": 22,
    "start_time": "2021-12-05T18:17:47.260Z"
   },
   {
    "duration": 22,
    "start_time": "2021-12-05T18:17:47.606Z"
   },
   {
    "duration": 21,
    "start_time": "2021-12-05T18:17:47.776Z"
   },
   {
    "duration": 27,
    "start_time": "2021-12-05T18:17:58.900Z"
   },
   {
    "duration": 26,
    "start_time": "2021-12-05T18:17:59.366Z"
   },
   {
    "duration": 26,
    "start_time": "2021-12-05T18:17:59.566Z"
   },
   {
    "duration": 28,
    "start_time": "2021-12-05T18:17:59.726Z"
   },
   {
    "duration": 27,
    "start_time": "2021-12-05T18:17:59.881Z"
   },
   {
    "duration": 29,
    "start_time": "2021-12-05T18:18:00.026Z"
   },
   {
    "duration": 23,
    "start_time": "2021-12-05T18:18:01.687Z"
   },
   {
    "duration": 36,
    "start_time": "2021-12-05T18:18:05.736Z"
   },
   {
    "duration": 18,
    "start_time": "2021-12-05T18:18:12.213Z"
   },
   {
    "duration": 22,
    "start_time": "2021-12-05T18:18:15.267Z"
   },
   {
    "duration": 26,
    "start_time": "2021-12-05T18:18:17.712Z"
   },
   {
    "duration": 30,
    "start_time": "2021-12-05T18:18:29.497Z"
   },
   {
    "duration": 26,
    "start_time": "2021-12-05T18:18:34.189Z"
   },
   {
    "duration": 22,
    "start_time": "2021-12-05T18:18:35.878Z"
   },
   {
    "duration": 90,
    "start_time": "2021-12-05T18:18:53.343Z"
   },
   {
    "duration": 22,
    "start_time": "2021-12-05T18:18:57.829Z"
   },
   {
    "duration": 60,
    "start_time": "2021-12-05T18:19:25.692Z"
   },
   {
    "duration": 1570,
    "start_time": "2021-12-05T18:19:31.664Z"
   },
   {
    "duration": 1107,
    "start_time": "2021-12-05T18:19:37.165Z"
   },
   {
    "duration": 16,
    "start_time": "2021-12-05T18:21:16.064Z"
   },
   {
    "duration": 10,
    "start_time": "2021-12-05T18:22:38.083Z"
   },
   {
    "duration": 17,
    "start_time": "2021-12-05T18:23:25.089Z"
   },
   {
    "duration": 20,
    "start_time": "2021-12-05T18:24:01.012Z"
   },
   {
    "duration": 71,
    "start_time": "2021-12-05T18:24:22.727Z"
   },
   {
    "duration": 7106,
    "start_time": "2021-12-05T18:24:54.572Z"
   },
   {
    "duration": 6508,
    "start_time": "2021-12-05T18:25:33.520Z"
   },
   {
    "duration": 16,
    "start_time": "2021-12-05T18:26:00.925Z"
   },
   {
    "duration": 8443,
    "start_time": "2021-12-05T18:26:36.397Z"
   },
   {
    "duration": 35,
    "start_time": "2021-12-05T18:30:52.306Z"
   },
   {
    "duration": 7121,
    "start_time": "2021-12-05T18:31:08.156Z"
   },
   {
    "duration": 7512,
    "start_time": "2021-12-05T18:31:19.063Z"
   },
   {
    "duration": 543,
    "start_time": "2021-12-05T18:31:50.691Z"
   },
   {
    "duration": 538,
    "start_time": "2021-12-05T18:31:52.765Z"
   },
   {
    "duration": 86,
    "start_time": "2021-12-05T18:31:53.306Z"
   },
   {
    "duration": 268,
    "start_time": "2021-12-05T18:31:54.134Z"
   },
   {
    "duration": 64,
    "start_time": "2021-12-05T18:31:55.040Z"
   },
   {
    "duration": 10,
    "start_time": "2021-12-05T18:31:57.509Z"
   },
   {
    "duration": 96,
    "start_time": "2021-12-05T18:31:59.983Z"
   },
   {
    "duration": 59,
    "start_time": "2021-12-05T18:32:04.412Z"
   },
   {
    "duration": 7053,
    "start_time": "2021-12-05T18:32:06.789Z"
   },
   {
    "duration": 43,
    "start_time": "2021-12-05T18:34:24.144Z"
   },
   {
    "duration": 523,
    "start_time": "2021-12-05T18:34:56.621Z"
   },
   {
    "duration": 88,
    "start_time": "2021-12-05T18:34:57.147Z"
   },
   {
    "duration": 309,
    "start_time": "2021-12-05T18:34:57.238Z"
   },
   {
    "duration": 79,
    "start_time": "2021-12-05T18:34:57.549Z"
   },
   {
    "duration": 8,
    "start_time": "2021-12-05T18:34:57.631Z"
   },
   {
    "duration": 93,
    "start_time": "2021-12-05T18:34:57.666Z"
   },
   {
    "duration": 58,
    "start_time": "2021-12-05T18:34:57.768Z"
   },
   {
    "duration": 68,
    "start_time": "2021-12-05T18:34:57.829Z"
   },
   {
    "duration": 16,
    "start_time": "2021-12-05T18:37:20.545Z"
   },
   {
    "duration": 38,
    "start_time": "2021-12-05T18:37:47.138Z"
   },
   {
    "duration": 49,
    "start_time": "2021-12-05T18:38:39.785Z"
   },
   {
    "duration": 24,
    "start_time": "2021-12-05T18:41:17.694Z"
   },
   {
    "duration": 3126,
    "start_time": "2021-12-06T15:29:13.345Z"
   },
   {
    "duration": 60,
    "start_time": "2021-12-06T15:29:16.473Z"
   },
   {
    "duration": 211,
    "start_time": "2021-12-06T15:29:16.535Z"
   },
   {
    "duration": 65,
    "start_time": "2021-12-06T15:29:16.748Z"
   },
   {
    "duration": 6,
    "start_time": "2021-12-06T15:29:16.814Z"
   },
   {
    "duration": 86,
    "start_time": "2021-12-06T15:29:16.822Z"
   },
   {
    "duration": 46,
    "start_time": "2021-12-06T15:29:16.910Z"
   },
   {
    "duration": 25,
    "start_time": "2021-12-06T15:29:16.958Z"
   },
   {
    "duration": 42,
    "start_time": "2021-12-06T15:29:16.985Z"
   },
   {
    "duration": 15,
    "start_time": "2021-12-06T15:29:17.028Z"
   },
   {
    "duration": 215,
    "start_time": "2021-12-06T15:34:53.777Z"
   },
   {
    "duration": 1064,
    "start_time": "2021-12-06T15:35:20.833Z"
   },
   {
    "duration": 67,
    "start_time": "2021-12-06T15:35:21.898Z"
   },
   {
    "duration": 219,
    "start_time": "2021-12-06T15:35:21.967Z"
   },
   {
    "duration": 61,
    "start_time": "2021-12-06T15:35:22.188Z"
   },
   {
    "duration": 6,
    "start_time": "2021-12-06T15:35:22.250Z"
   },
   {
    "duration": 86,
    "start_time": "2021-12-06T15:35:22.258Z"
   },
   {
    "duration": 46,
    "start_time": "2021-12-06T15:35:22.346Z"
   },
   {
    "duration": 39,
    "start_time": "2021-12-06T15:35:22.395Z"
   },
   {
    "duration": 32,
    "start_time": "2021-12-06T15:35:22.435Z"
   },
   {
    "duration": 16,
    "start_time": "2021-12-06T15:35:22.469Z"
   },
   {
    "duration": 10,
    "start_time": "2021-12-06T15:52:37.874Z"
   },
   {
    "duration": 11,
    "start_time": "2021-12-06T16:02:11.851Z"
   },
   {
    "duration": 10,
    "start_time": "2021-12-06T16:02:20.440Z"
   },
   {
    "duration": 10,
    "start_time": "2021-12-06T16:02:25.333Z"
   },
   {
    "duration": 16,
    "start_time": "2021-12-06T16:04:37.777Z"
   },
   {
    "duration": 21,
    "start_time": "2021-12-06T16:05:19.978Z"
   },
   {
    "duration": 25,
    "start_time": "2021-12-06T16:05:23.438Z"
   },
   {
    "duration": 17,
    "start_time": "2021-12-06T16:06:40.802Z"
   },
   {
    "duration": 36,
    "start_time": "2021-12-06T16:07:22.703Z"
   },
   {
    "duration": 7,
    "start_time": "2021-12-06T16:07:54.114Z"
   },
   {
    "duration": 460,
    "start_time": "2021-12-06T16:09:02.526Z"
   },
   {
    "duration": 367,
    "start_time": "2021-12-06T16:09:20.367Z"
   },
   {
    "duration": 370,
    "start_time": "2021-12-06T16:09:24.402Z"
   },
   {
    "duration": 36,
    "start_time": "2021-12-06T16:09:27.850Z"
   },
   {
    "duration": 245,
    "start_time": "2021-12-06T16:10:46.518Z"
   },
   {
    "duration": 36,
    "start_time": "2021-12-06T16:10:49.094Z"
   },
   {
    "duration": 38,
    "start_time": "2021-12-06T16:12:08.563Z"
   },
   {
    "duration": 46,
    "start_time": "2021-12-06T16:12:18.112Z"
   },
   {
    "duration": 25,
    "start_time": "2021-12-06T16:13:17.754Z"
   },
   {
    "duration": 339,
    "start_time": "2021-12-06T16:13:23.486Z"
   },
   {
    "duration": 8,
    "start_time": "2021-12-06T16:13:32.595Z"
   },
   {
    "duration": 395,
    "start_time": "2021-12-06T16:22:06.532Z"
   },
   {
    "duration": 68,
    "start_time": "2021-12-06T16:22:07.186Z"
   },
   {
    "duration": 182,
    "start_time": "2021-12-06T16:22:08.007Z"
   },
   {
    "duration": 52,
    "start_time": "2021-12-06T16:22:08.849Z"
   },
   {
    "duration": 7,
    "start_time": "2021-12-06T16:22:11.961Z"
   },
   {
    "duration": 86,
    "start_time": "2021-12-06T16:22:13.619Z"
   },
   {
    "duration": 9602,
    "start_time": "2021-12-06T16:22:18.911Z"
   },
   {
    "duration": 1043,
    "start_time": "2021-12-06T16:22:44.195Z"
   },
   {
    "duration": 65,
    "start_time": "2021-12-06T16:22:45.240Z"
   },
   {
    "duration": 218,
    "start_time": "2021-12-06T16:22:45.310Z"
   },
   {
    "duration": 50,
    "start_time": "2021-12-06T16:22:45.530Z"
   },
   {
    "duration": 29,
    "start_time": "2021-12-06T16:22:45.582Z"
   },
   {
    "duration": 69,
    "start_time": "2021-12-06T16:22:45.613Z"
   },
   {
    "duration": 10207,
    "start_time": "2021-12-06T16:22:45.685Z"
   },
   {
    "duration": 202,
    "start_time": "2021-12-06T16:22:55.693Z"
   },
   {
    "duration": 201,
    "start_time": "2021-12-06T16:22:55.695Z"
   },
   {
    "duration": 201,
    "start_time": "2021-12-06T16:22:55.696Z"
   },
   {
    "duration": 200,
    "start_time": "2021-12-06T16:22:55.698Z"
   },
   {
    "duration": 199,
    "start_time": "2021-12-06T16:22:55.700Z"
   },
   {
    "duration": 9480,
    "start_time": "2021-12-06T16:23:15.403Z"
   },
   {
    "duration": 379,
    "start_time": "2021-12-06T16:23:26.408Z"
   },
   {
    "duration": 66,
    "start_time": "2021-12-06T16:23:26.789Z"
   },
   {
    "duration": 162,
    "start_time": "2021-12-06T16:23:27.089Z"
   },
   {
    "duration": 52,
    "start_time": "2021-12-06T16:23:27.451Z"
   },
   {
    "duration": 8,
    "start_time": "2021-12-06T16:23:29.200Z"
   },
   {
    "duration": 69,
    "start_time": "2021-12-06T16:23:29.949Z"
   },
   {
    "duration": 47,
    "start_time": "2021-12-06T16:27:09.780Z"
   },
   {
    "duration": 232,
    "start_time": "2021-12-06T16:27:28.374Z"
   },
   {
    "duration": 1001,
    "start_time": "2021-12-06T16:27:41.966Z"
   },
   {
    "duration": 67,
    "start_time": "2021-12-06T16:27:42.970Z"
   },
   {
    "duration": 217,
    "start_time": "2021-12-06T16:27:43.040Z"
   },
   {
    "duration": 70,
    "start_time": "2021-12-06T16:27:43.259Z"
   },
   {
    "duration": 7,
    "start_time": "2021-12-06T16:27:43.331Z"
   },
   {
    "duration": 87,
    "start_time": "2021-12-06T16:27:43.340Z"
   },
   {
    "duration": 49,
    "start_time": "2021-12-06T16:27:43.429Z"
   },
   {
    "duration": 46,
    "start_time": "2021-12-06T16:27:43.481Z"
   },
   {
    "duration": 30,
    "start_time": "2021-12-06T16:27:43.530Z"
   },
   {
    "duration": 27,
    "start_time": "2021-12-06T16:27:43.562Z"
   },
   {
    "duration": 38,
    "start_time": "2021-12-06T16:27:43.607Z"
   },
   {
    "duration": 8,
    "start_time": "2021-12-06T16:27:43.647Z"
   },
   {
    "duration": 381,
    "start_time": "2021-12-06T16:28:31.310Z"
   },
   {
    "duration": 68,
    "start_time": "2021-12-06T16:28:31.693Z"
   },
   {
    "duration": 184,
    "start_time": "2021-12-06T16:28:31.764Z"
   },
   {
    "duration": 65,
    "start_time": "2021-12-06T16:28:31.950Z"
   },
   {
    "duration": 6,
    "start_time": "2021-12-06T16:28:32.016Z"
   },
   {
    "duration": 71,
    "start_time": "2021-12-06T16:28:32.023Z"
   },
   {
    "duration": 30,
    "start_time": "2021-12-06T16:28:32.096Z"
   },
   {
    "duration": 32,
    "start_time": "2021-12-06T16:28:32.128Z"
   },
   {
    "duration": 45,
    "start_time": "2021-12-06T16:28:32.161Z"
   },
   {
    "duration": 284,
    "start_time": "2021-12-06T16:28:32.208Z"
   },
   {
    "duration": 156,
    "start_time": "2021-12-06T16:28:32.494Z"
   },
   {
    "duration": 7,
    "start_time": "2021-12-06T16:28:32.652Z"
   },
   {
    "duration": 48,
    "start_time": "2021-12-06T16:42:59.682Z"
   },
   {
    "duration": 18,
    "start_time": "2021-12-06T16:43:06.142Z"
   },
   {
    "duration": 1049,
    "start_time": "2021-12-06T16:43:47.029Z"
   },
   {
    "duration": 67,
    "start_time": "2021-12-06T16:43:48.080Z"
   },
   {
    "duration": 255,
    "start_time": "2021-12-06T16:43:48.153Z"
   },
   {
    "duration": 54,
    "start_time": "2021-12-06T16:43:48.410Z"
   },
   {
    "duration": 6,
    "start_time": "2021-12-06T16:43:48.466Z"
   },
   {
    "duration": 118,
    "start_time": "2021-12-06T16:43:48.474Z"
   },
   {
    "duration": 52,
    "start_time": "2021-12-06T16:43:48.594Z"
   },
   {
    "duration": 29,
    "start_time": "2021-12-06T16:43:48.648Z"
   },
   {
    "duration": 43,
    "start_time": "2021-12-06T16:43:48.679Z"
   },
   {
    "duration": 28,
    "start_time": "2021-12-06T16:43:48.724Z"
   },
   {
    "duration": 27,
    "start_time": "2021-12-06T16:43:48.754Z"
   },
   {
    "duration": 28,
    "start_time": "2021-12-06T16:43:48.783Z"
   },
   {
    "duration": 437,
    "start_time": "2021-12-06T17:06:19.064Z"
   },
   {
    "duration": 35,
    "start_time": "2021-12-06T17:06:29.499Z"
   },
   {
    "duration": 34,
    "start_time": "2021-12-06T17:06:43.270Z"
   },
   {
    "duration": 8,
    "start_time": "2021-12-06T17:07:27.013Z"
   },
   {
    "duration": 30,
    "start_time": "2021-12-06T17:09:50.991Z"
   },
   {
    "duration": 12,
    "start_time": "2021-12-06T17:26:01.324Z"
   },
   {
    "duration": 13,
    "start_time": "2021-12-06T17:26:21.648Z"
   },
   {
    "duration": 29,
    "start_time": "2021-12-06T17:26:24.534Z"
   },
   {
    "duration": 20,
    "start_time": "2021-12-06T17:33:44.735Z"
   },
   {
    "duration": 3,
    "start_time": "2021-12-06T17:34:22.931Z"
   },
   {
    "duration": 13,
    "start_time": "2021-12-06T17:34:26.803Z"
   },
   {
    "duration": 407,
    "start_time": "2021-12-06T17:35:20.310Z"
   },
   {
    "duration": 81,
    "start_time": "2021-12-06T17:35:21.385Z"
   },
   {
    "duration": 155,
    "start_time": "2021-12-06T17:35:22.135Z"
   },
   {
    "duration": 47,
    "start_time": "2021-12-06T17:35:22.959Z"
   },
   {
    "duration": 7,
    "start_time": "2021-12-06T17:35:24.996Z"
   },
   {
    "duration": 65,
    "start_time": "2021-12-06T17:35:25.631Z"
   },
   {
    "duration": 45,
    "start_time": "2021-12-06T17:35:31.009Z"
   },
   {
    "duration": 3,
    "start_time": "2021-12-06T17:35:35.196Z"
   },
   {
    "duration": 13,
    "start_time": "2021-12-06T17:35:42.170Z"
   },
   {
    "duration": 14,
    "start_time": "2021-12-06T17:36:22.326Z"
   },
   {
    "duration": 371,
    "start_time": "2021-12-06T17:36:50.087Z"
   },
   {
    "duration": 12,
    "start_time": "2021-12-06T17:44:37.859Z"
   },
   {
    "duration": 11,
    "start_time": "2021-12-06T17:47:59.857Z"
   },
   {
    "duration": 581,
    "start_time": "2021-12-06T17:49:55.144Z"
   },
   {
    "duration": 11,
    "start_time": "2021-12-06T17:50:12.611Z"
   },
   {
    "duration": 220,
    "start_time": "2021-12-06T17:51:40.828Z"
   },
   {
    "duration": 220,
    "start_time": "2021-12-06T17:51:40.830Z"
   },
   {
    "duration": 220,
    "start_time": "2021-12-06T17:51:40.831Z"
   },
   {
    "duration": 220,
    "start_time": "2021-12-06T17:51:40.832Z"
   },
   {
    "duration": 220,
    "start_time": "2021-12-06T17:51:40.833Z"
   },
   {
    "duration": 220,
    "start_time": "2021-12-06T17:51:40.834Z"
   },
   {
    "duration": 219,
    "start_time": "2021-12-06T17:51:40.835Z"
   },
   {
    "duration": 219,
    "start_time": "2021-12-06T17:51:40.836Z"
   },
   {
    "duration": 218,
    "start_time": "2021-12-06T17:51:40.838Z"
   },
   {
    "duration": 218,
    "start_time": "2021-12-06T17:51:40.839Z"
   },
   {
    "duration": 217,
    "start_time": "2021-12-06T17:51:40.840Z"
   },
   {
    "duration": 217,
    "start_time": "2021-12-06T17:51:40.841Z"
   },
   {
    "duration": 1042,
    "start_time": "2021-12-06T17:51:49.063Z"
   },
   {
    "duration": 69,
    "start_time": "2021-12-06T17:51:50.106Z"
   },
   {
    "duration": 222,
    "start_time": "2021-12-06T17:51:50.177Z"
   },
   {
    "duration": 48,
    "start_time": "2021-12-06T17:51:50.407Z"
   },
   {
    "duration": 6,
    "start_time": "2021-12-06T17:51:50.457Z"
   },
   {
    "duration": 90,
    "start_time": "2021-12-06T17:51:50.465Z"
   },
   {
    "duration": 55,
    "start_time": "2021-12-06T17:51:50.557Z"
   },
   {
    "duration": 28,
    "start_time": "2021-12-06T17:51:50.614Z"
   },
   {
    "duration": 28,
    "start_time": "2021-12-06T17:51:50.644Z"
   },
   {
    "duration": 12,
    "start_time": "2021-12-06T17:51:50.673Z"
   },
   {
    "duration": 27,
    "start_time": "2021-12-06T17:51:50.707Z"
   },
   {
    "duration": 14,
    "start_time": "2021-12-06T17:51:50.736Z"
   },
   {
    "duration": 32,
    "start_time": "2021-12-06T17:51:50.752Z"
   },
   {
    "duration": 11,
    "start_time": "2021-12-06T19:04:11.893Z"
   },
   {
    "duration": 966,
    "start_time": "2021-12-06T19:04:25.160Z"
   },
   {
    "duration": 78,
    "start_time": "2021-12-06T19:04:26.128Z"
   },
   {
    "duration": 212,
    "start_time": "2021-12-06T19:04:26.208Z"
   },
   {
    "duration": 48,
    "start_time": "2021-12-06T19:04:26.422Z"
   },
   {
    "duration": 6,
    "start_time": "2021-12-06T19:04:26.471Z"
   },
   {
    "duration": 93,
    "start_time": "2021-12-06T19:04:26.479Z"
   },
   {
    "duration": 60,
    "start_time": "2021-12-06T19:04:26.573Z"
   },
   {
    "duration": 12,
    "start_time": "2021-12-06T19:04:26.635Z"
   },
   {
    "duration": 25,
    "start_time": "2021-12-06T19:04:26.649Z"
   },
   {
    "duration": 42,
    "start_time": "2021-12-06T19:04:26.676Z"
   },
   {
    "duration": 11,
    "start_time": "2021-12-06T19:04:26.719Z"
   },
   {
    "duration": 24,
    "start_time": "2021-12-06T19:04:26.731Z"
   },
   {
    "duration": 13,
    "start_time": "2021-12-06T19:04:26.757Z"
   },
   {
    "duration": 55,
    "start_time": "2021-12-06T19:04:26.771Z"
   },
   {
    "duration": 1095,
    "start_time": "2021-12-06T19:04:55.234Z"
   },
   {
    "duration": 65,
    "start_time": "2021-12-06T19:04:56.332Z"
   },
   {
    "duration": 229,
    "start_time": "2021-12-06T19:04:56.399Z"
   },
   {
    "duration": 48,
    "start_time": "2021-12-06T19:04:56.630Z"
   },
   {
    "duration": 28,
    "start_time": "2021-12-06T19:04:56.679Z"
   },
   {
    "duration": 69,
    "start_time": "2021-12-06T19:04:56.709Z"
   },
   {
    "duration": 68,
    "start_time": "2021-12-06T19:04:56.779Z"
   },
   {
    "duration": 28,
    "start_time": "2021-12-06T19:04:56.849Z"
   },
   {
    "duration": 43,
    "start_time": "2021-12-06T19:04:56.880Z"
   },
   {
    "duration": 14,
    "start_time": "2021-12-06T19:04:56.925Z"
   },
   {
    "duration": 27,
    "start_time": "2021-12-06T19:04:56.941Z"
   },
   {
    "duration": 39,
    "start_time": "2021-12-06T19:04:56.969Z"
   },
   {
    "duration": 26,
    "start_time": "2021-12-06T19:04:57.010Z"
   },
   {
    "duration": 13,
    "start_time": "2021-12-06T19:05:01.461Z"
   },
   {
    "duration": 4,
    "start_time": "2021-12-06T19:05:11.786Z"
   },
   {
    "duration": 14,
    "start_time": "2021-12-06T19:05:13.816Z"
   },
   {
    "duration": 11,
    "start_time": "2021-12-06T21:08:28.607Z"
   },
   {
    "duration": 4,
    "start_time": "2021-12-06T21:09:02.068Z"
   },
   {
    "duration": 9,
    "start_time": "2021-12-06T21:09:04.319Z"
   },
   {
    "duration": 3,
    "start_time": "2021-12-06T21:10:30.042Z"
   },
   {
    "duration": 10,
    "start_time": "2021-12-06T21:10:32.226Z"
   },
   {
    "duration": 4,
    "start_time": "2021-12-06T21:10:43.756Z"
   },
   {
    "duration": 9,
    "start_time": "2021-12-06T21:10:45.866Z"
   },
   {
    "duration": 3,
    "start_time": "2021-12-06T21:11:01.566Z"
   },
   {
    "duration": 9,
    "start_time": "2021-12-06T21:11:03.003Z"
   },
   {
    "duration": 9,
    "start_time": "2021-12-07T12:45:19.249Z"
   },
   {
    "duration": 4,
    "start_time": "2021-12-07T12:52:38.703Z"
   },
   {
    "duration": 4,
    "start_time": "2021-12-07T12:52:45.491Z"
   },
   {
    "duration": 3,
    "start_time": "2021-12-07T12:53:24.837Z"
   },
   {
    "duration": 5,
    "start_time": "2021-12-07T12:53:28.727Z"
   },
   {
    "duration": 5,
    "start_time": "2021-12-07T12:53:55.324Z"
   },
   {
    "duration": 5,
    "start_time": "2021-12-07T12:53:59.923Z"
   },
   {
    "duration": 556,
    "start_time": "2021-12-07T12:56:02.048Z"
   },
   {
    "duration": 480,
    "start_time": "2021-12-07T12:56:17.639Z"
   },
   {
    "duration": 893,
    "start_time": "2021-12-07T12:56:35.996Z"
   },
   {
    "duration": 55,
    "start_time": "2021-12-07T12:56:36.891Z"
   },
   {
    "duration": 198,
    "start_time": "2021-12-07T12:56:36.947Z"
   },
   {
    "duration": 43,
    "start_time": "2021-12-07T12:56:37.147Z"
   },
   {
    "duration": 6,
    "start_time": "2021-12-07T12:56:37.192Z"
   },
   {
    "duration": 86,
    "start_time": "2021-12-07T12:56:37.199Z"
   },
   {
    "duration": 48,
    "start_time": "2021-12-07T12:56:37.287Z"
   },
   {
    "duration": 28,
    "start_time": "2021-12-07T12:56:37.337Z"
   },
   {
    "duration": 28,
    "start_time": "2021-12-07T12:56:37.367Z"
   },
   {
    "duration": 12,
    "start_time": "2021-12-07T12:56:37.396Z"
   },
   {
    "duration": 5,
    "start_time": "2021-12-07T12:56:37.409Z"
   },
   {
    "duration": 29,
    "start_time": "2021-12-07T12:56:37.416Z"
   },
   {
    "duration": 12,
    "start_time": "2021-12-07T12:56:37.447Z"
   },
   {
    "duration": 31,
    "start_time": "2021-12-07T12:56:37.460Z"
   },
   {
    "duration": 13,
    "start_time": "2021-12-07T12:56:37.493Z"
   },
   {
    "duration": 47,
    "start_time": "2021-12-07T12:56:37.507Z"
   },
   {
    "duration": 6,
    "start_time": "2021-12-07T12:56:53.579Z"
   },
   {
    "duration": 5,
    "start_time": "2021-12-07T12:56:58.470Z"
   },
   {
    "duration": 5,
    "start_time": "2021-12-07T12:57:03.201Z"
   },
   {
    "duration": 4,
    "start_time": "2021-12-07T12:57:06.235Z"
   },
   {
    "duration": 12,
    "start_time": "2021-12-07T12:58:34.519Z"
   },
   {
    "duration": 10,
    "start_time": "2021-12-07T12:59:49.450Z"
   },
   {
    "duration": 543,
    "start_time": "2021-12-07T12:59:53.151Z"
   },
   {
    "duration": 450,
    "start_time": "2021-12-07T13:00:03.462Z"
   },
   {
    "duration": 3,
    "start_time": "2021-12-07T13:01:01.089Z"
   },
   {
    "duration": 4,
    "start_time": "2021-12-07T13:01:04.669Z"
   },
   {
    "duration": 1538,
    "start_time": "2021-12-07T13:02:43.568Z"
   },
   {
    "duration": 6,
    "start_time": "2021-12-07T13:02:51.158Z"
   },
   {
    "duration": 9,
    "start_time": "2021-12-07T13:02:52.935Z"
   },
   {
    "duration": 374,
    "start_time": "2021-12-07T13:03:05.916Z"
   },
   {
    "duration": 65,
    "start_time": "2021-12-07T13:03:06.291Z"
   },
   {
    "duration": 187,
    "start_time": "2021-12-07T13:03:06.358Z"
   },
   {
    "duration": 45,
    "start_time": "2021-12-07T13:03:06.547Z"
   },
   {
    "duration": 6,
    "start_time": "2021-12-07T13:03:08.013Z"
   },
   {
    "duration": 61,
    "start_time": "2021-12-07T13:03:08.404Z"
   },
   {
    "duration": 41,
    "start_time": "2021-12-07T13:03:10.857Z"
   },
   {
    "duration": 25,
    "start_time": "2021-12-07T13:03:12.624Z"
   },
   {
    "duration": 30,
    "start_time": "2021-12-07T13:03:16.908Z"
   },
   {
    "duration": 10,
    "start_time": "2021-12-07T13:03:21.918Z"
   },
   {
    "duration": 5,
    "start_time": "2021-12-07T13:03:32.864Z"
   },
   {
    "duration": 11,
    "start_time": "2021-12-07T13:03:34.945Z"
   },
   {
    "duration": 25,
    "start_time": "2021-12-07T13:07:10.102Z"
   },
   {
    "duration": 14,
    "start_time": "2021-12-07T13:07:10.572Z"
   },
   {
    "duration": 27,
    "start_time": "2021-12-07T13:07:13.914Z"
   },
   {
    "duration": 871,
    "start_time": "2021-12-07T13:12:14.597Z"
   },
   {
    "duration": 871,
    "start_time": "2021-12-07T13:12:14.598Z"
   },
   {
    "duration": 27,
    "start_time": "2021-12-07T13:12:20.377Z"
   },
   {
    "duration": 5,
    "start_time": "2021-12-07T13:12:29.782Z"
   },
   {
    "duration": 5,
    "start_time": "2021-12-07T13:12:31.928Z"
   },
   {
    "duration": 30,
    "start_time": "2021-12-07T13:12:34.471Z"
   },
   {
    "duration": 81,
    "start_time": "2021-12-07T13:13:32.936Z"
   },
   {
    "duration": 398,
    "start_time": "2021-12-07T13:14:21.255Z"
   },
   {
    "duration": 98,
    "start_time": "2021-12-07T13:14:21.654Z"
   },
   {
    "duration": 195,
    "start_time": "2021-12-07T13:14:21.754Z"
   },
   {
    "duration": 51,
    "start_time": "2021-12-07T13:14:21.951Z"
   },
   {
    "duration": 6,
    "start_time": "2021-12-07T13:14:22.003Z"
   },
   {
    "duration": 102,
    "start_time": "2021-12-07T13:14:22.011Z"
   },
   {
    "duration": 52,
    "start_time": "2021-12-07T13:14:22.115Z"
   },
   {
    "duration": 33,
    "start_time": "2021-12-07T13:14:22.169Z"
   },
   {
    "duration": 43,
    "start_time": "2021-12-07T13:14:22.205Z"
   },
   {
    "duration": 26,
    "start_time": "2021-12-07T13:14:22.250Z"
   },
   {
    "duration": 7,
    "start_time": "2021-12-07T13:14:22.277Z"
   },
   {
    "duration": 11,
    "start_time": "2021-12-07T13:14:22.285Z"
   },
   {
    "duration": 87,
    "start_time": "2021-12-07T13:14:22.298Z"
   },
   {
    "duration": 894,
    "start_time": "2021-12-07T13:14:21.493Z"
   },
   {
    "duration": 893,
    "start_time": "2021-12-07T13:14:21.495Z"
   },
   {
    "duration": 31,
    "start_time": "2021-12-07T13:14:38.238Z"
   },
   {
    "duration": 4,
    "start_time": "2021-12-07T13:14:52.073Z"
   },
   {
    "duration": 5,
    "start_time": "2021-12-07T13:14:54.092Z"
   },
   {
    "duration": 29,
    "start_time": "2021-12-07T13:14:56.828Z"
   },
   {
    "duration": 29,
    "start_time": "2021-12-07T13:15:27.559Z"
   },
   {
    "duration": 298,
    "start_time": "2021-12-07T13:17:47.452Z"
   },
   {
    "duration": 29,
    "start_time": "2021-12-07T13:20:21.544Z"
   },
   {
    "duration": 5,
    "start_time": "2021-12-07T13:20:27.727Z"
   },
   {
    "duration": 5,
    "start_time": "2021-12-07T13:20:33.909Z"
   },
   {
    "duration": 5,
    "start_time": "2021-12-07T13:20:36.219Z"
   },
   {
    "duration": 6,
    "start_time": "2021-12-07T13:20:45.221Z"
   },
   {
    "duration": 6,
    "start_time": "2021-12-07T13:20:49.721Z"
   },
   {
    "duration": 287,
    "start_time": "2021-12-07T13:23:13.506Z"
   },
   {
    "duration": 7,
    "start_time": "2021-12-07T13:23:47.712Z"
   },
   {
    "duration": 6,
    "start_time": "2021-12-07T13:23:57.037Z"
   },
   {
    "duration": 6,
    "start_time": "2021-12-07T13:24:06.132Z"
   },
   {
    "duration": 947,
    "start_time": "2021-12-07T13:24:39.691Z"
   },
   {
    "duration": 68,
    "start_time": "2021-12-07T13:24:40.640Z"
   },
   {
    "duration": 240,
    "start_time": "2021-12-07T13:24:40.710Z"
   },
   {
    "duration": 51,
    "start_time": "2021-12-07T13:24:40.953Z"
   },
   {
    "duration": 6,
    "start_time": "2021-12-07T13:24:41.006Z"
   },
   {
    "duration": 98,
    "start_time": "2021-12-07T13:24:41.014Z"
   },
   {
    "duration": 65,
    "start_time": "2021-12-07T13:24:41.114Z"
   },
   {
    "duration": 25,
    "start_time": "2021-12-07T13:24:41.182Z"
   },
   {
    "duration": 36,
    "start_time": "2021-12-07T13:24:41.209Z"
   },
   {
    "duration": 24,
    "start_time": "2021-12-07T13:24:41.246Z"
   },
   {
    "duration": 7,
    "start_time": "2021-12-07T13:24:41.271Z"
   },
   {
    "duration": 12,
    "start_time": "2021-12-07T13:24:41.279Z"
   },
   {
    "duration": 5,
    "start_time": "2021-12-07T13:24:41.293Z"
   },
   {
    "duration": 7,
    "start_time": "2021-12-07T13:24:41.299Z"
   },
   {
    "duration": 37,
    "start_time": "2021-12-07T13:24:41.308Z"
   },
   {
    "duration": 5,
    "start_time": "2021-12-07T13:24:41.347Z"
   },
   {
    "duration": 30,
    "start_time": "2021-12-07T13:24:41.353Z"
   },
   {
    "duration": 25,
    "start_time": "2021-12-07T13:24:41.384Z"
   },
   {
    "duration": 248,
    "start_time": "2021-12-07T13:25:51.515Z"
   },
   {
    "duration": 170,
    "start_time": "2021-12-07T13:26:03.400Z"
   },
   {
    "duration": 140,
    "start_time": "2021-12-07T13:26:09.937Z"
   },
   {
    "duration": 250,
    "start_time": "2021-12-07T13:26:22.667Z"
   },
   {
    "duration": 8052,
    "start_time": "2021-12-07T13:26:39.663Z"
   },
   {
    "duration": 263,
    "start_time": "2021-12-07T13:26:49.168Z"
   },
   {
    "duration": 175,
    "start_time": "2021-12-07T13:26:59.493Z"
   },
   {
    "duration": 573,
    "start_time": "2021-12-07T13:27:47.125Z"
   },
   {
    "duration": 230,
    "start_time": "2021-12-07T13:27:58.406Z"
   },
   {
    "duration": 208,
    "start_time": "2021-12-07T13:28:04.580Z"
   },
   {
    "duration": 266,
    "start_time": "2021-12-07T13:28:14.425Z"
   },
   {
    "duration": 204,
    "start_time": "2021-12-07T13:28:19.501Z"
   },
   {
    "duration": 181,
    "start_time": "2021-12-07T13:28:27.696Z"
   },
   {
    "duration": 314,
    "start_time": "2021-12-07T13:30:52.696Z"
   },
   {
    "duration": 190,
    "start_time": "2021-12-07T13:30:57.081Z"
   },
   {
    "duration": 210,
    "start_time": "2021-12-07T13:30:59.991Z"
   },
   {
    "duration": 477,
    "start_time": "2021-12-07T13:31:04.892Z"
   },
   {
    "duration": 176,
    "start_time": "2021-12-07T13:31:08.871Z"
   },
   {
    "duration": 27,
    "start_time": "2021-12-07T13:31:59.524Z"
   },
   {
    "duration": 29,
    "start_time": "2021-12-07T13:34:08.383Z"
   },
   {
    "duration": 88,
    "start_time": "2021-12-07T13:37:38.186Z"
   },
   {
    "duration": 278,
    "start_time": "2021-12-07T13:37:46.903Z"
   },
   {
    "duration": 310,
    "start_time": "2021-12-07T13:37:58.943Z"
   },
   {
    "duration": 264,
    "start_time": "2021-12-07T13:40:01.487Z"
   },
   {
    "duration": 310,
    "start_time": "2021-12-07T13:40:50.745Z"
   },
   {
    "duration": 1806,
    "start_time": "2021-12-07T13:40:56.269Z"
   },
   {
    "duration": 6,
    "start_time": "2021-12-07T13:48:09.274Z"
   },
   {
    "duration": 6,
    "start_time": "2021-12-07T13:48:13.598Z"
   },
   {
    "duration": 5,
    "start_time": "2021-12-07T13:48:18.945Z"
   },
   {
    "duration": 2,
    "start_time": "2021-12-07T13:48:49.866Z"
   },
   {
    "duration": 373,
    "start_time": "2021-12-07T13:49:14.996Z"
   },
   {
    "duration": 11,
    "start_time": "2021-12-07T13:49:20.461Z"
   },
   {
    "duration": 14,
    "start_time": "2021-12-07T13:49:33.369Z"
   },
   {
    "duration": 30,
    "start_time": "2021-12-07T13:51:14.651Z"
   },
   {
    "duration": 31,
    "start_time": "2021-12-07T13:51:48.103Z"
   },
   {
    "duration": 124,
    "start_time": "2021-12-07T13:53:17.151Z"
   },
   {
    "duration": 126,
    "start_time": "2021-12-07T13:53:30.185Z"
   },
   {
    "duration": 128,
    "start_time": "2021-12-07T13:54:22.927Z"
   },
   {
    "duration": 136,
    "start_time": "2021-12-07T13:54:27.597Z"
   },
   {
    "duration": 136,
    "start_time": "2021-12-07T13:54:35.813Z"
   },
   {
    "duration": 126,
    "start_time": "2021-12-07T13:54:54.374Z"
   },
   {
    "duration": 134,
    "start_time": "2021-12-07T13:55:58.946Z"
   },
   {
    "duration": 139,
    "start_time": "2021-12-07T13:56:30.852Z"
   },
   {
    "duration": 135,
    "start_time": "2021-12-07T13:58:03.476Z"
   },
   {
    "duration": 154,
    "start_time": "2021-12-07T13:58:48.911Z"
   },
   {
    "duration": 988,
    "start_time": "2021-12-07T14:01:35.086Z"
   },
   {
    "duration": 61,
    "start_time": "2021-12-07T14:01:36.076Z"
   },
   {
    "duration": 192,
    "start_time": "2021-12-07T14:01:36.140Z"
   },
   {
    "duration": 45,
    "start_time": "2021-12-07T14:01:36.345Z"
   },
   {
    "duration": 6,
    "start_time": "2021-12-07T14:01:36.391Z"
   },
   {
    "duration": 88,
    "start_time": "2021-12-07T14:01:36.399Z"
   },
   {
    "duration": 50,
    "start_time": "2021-12-07T14:01:36.489Z"
   },
   {
    "duration": 25,
    "start_time": "2021-12-07T14:01:36.541Z"
   },
   {
    "duration": 31,
    "start_time": "2021-12-07T14:01:36.569Z"
   },
   {
    "duration": 43,
    "start_time": "2021-12-07T14:01:36.601Z"
   },
   {
    "duration": 27,
    "start_time": "2021-12-07T14:01:36.646Z"
   },
   {
    "duration": 6,
    "start_time": "2021-12-07T14:01:36.675Z"
   },
   {
    "duration": 15,
    "start_time": "2021-12-07T14:01:36.682Z"
   },
   {
    "duration": 5,
    "start_time": "2021-12-07T14:01:36.699Z"
   },
   {
    "duration": 7,
    "start_time": "2021-12-07T14:01:36.705Z"
   },
   {
    "duration": 226,
    "start_time": "2021-12-07T14:01:36.713Z"
   },
   {
    "duration": 5,
    "start_time": "2021-12-07T14:02:09.644Z"
   },
   {
    "duration": 173,
    "start_time": "2021-12-07T14:13:47.068Z"
   },
   {
    "duration": 29,
    "start_time": "2021-12-07T15:53:12.756Z"
   },
   {
    "duration": 321,
    "start_time": "2021-12-07T15:53:53.004Z"
   },
   {
    "duration": 8,
    "start_time": "2021-12-07T15:54:06.480Z"
   },
   {
    "duration": 7,
    "start_time": "2021-12-07T15:54:40.583Z"
   },
   {
    "duration": 961,
    "start_time": "2021-12-07T15:54:48.167Z"
   },
   {
    "duration": 57,
    "start_time": "2021-12-07T15:54:49.130Z"
   },
   {
    "duration": 205,
    "start_time": "2021-12-07T15:54:49.189Z"
   },
   {
    "duration": 71,
    "start_time": "2021-12-07T15:54:49.396Z"
   },
   {
    "duration": 8,
    "start_time": "2021-12-07T15:54:49.469Z"
   },
   {
    "duration": 117,
    "start_time": "2021-12-07T15:54:49.479Z"
   },
   {
    "duration": 72,
    "start_time": "2021-12-07T15:54:49.598Z"
   },
   {
    "duration": 34,
    "start_time": "2021-12-07T15:54:49.672Z"
   },
   {
    "duration": 55,
    "start_time": "2021-12-07T15:54:49.710Z"
   },
   {
    "duration": 37,
    "start_time": "2021-12-07T15:54:49.767Z"
   },
   {
    "duration": 9,
    "start_time": "2021-12-07T15:54:49.806Z"
   },
   {
    "duration": 28,
    "start_time": "2021-12-07T15:54:49.817Z"
   },
   {
    "duration": 12,
    "start_time": "2021-12-07T15:54:49.848Z"
   },
   {
    "duration": 7,
    "start_time": "2021-12-07T15:54:49.862Z"
   },
   {
    "duration": 5,
    "start_time": "2021-12-07T15:54:49.871Z"
   },
   {
    "duration": 413,
    "start_time": "2021-12-07T15:54:49.878Z"
   },
   {
    "duration": 59,
    "start_time": "2021-12-07T15:54:50.293Z"
   },
   {
    "duration": 14,
    "start_time": "2021-12-07T15:54:50.354Z"
   },
   {
    "duration": 39,
    "start_time": "2021-12-07T15:55:05.955Z"
   },
   {
    "duration": 6,
    "start_time": "2021-12-07T16:05:55.859Z"
   },
   {
    "duration": 29,
    "start_time": "2021-12-07T16:05:58.959Z"
   },
   {
    "duration": 29,
    "start_time": "2021-12-07T16:06:23.039Z"
   },
   {
    "duration": 13,
    "start_time": "2021-12-07T16:10:48.972Z"
   },
   {
    "duration": 732,
    "start_time": "2021-12-07T16:12:09.229Z"
   },
   {
    "duration": 14,
    "start_time": "2021-12-07T16:12:24.211Z"
   },
   {
    "duration": 15,
    "start_time": "2021-12-07T16:12:43.856Z"
   },
   {
    "duration": 15,
    "start_time": "2021-12-07T16:14:20.436Z"
   },
   {
    "duration": 5,
    "start_time": "2021-12-07T16:34:12.308Z"
   },
   {
    "duration": 6696,
    "start_time": "2021-12-07T16:34:38.798Z"
   },
   {
    "duration": 10,
    "start_time": "2021-12-07T16:34:55.381Z"
   },
   {
    "duration": 10,
    "start_time": "2021-12-07T17:02:24.019Z"
   },
   {
    "duration": 13,
    "start_time": "2021-12-07T17:02:54.512Z"
   },
   {
    "duration": 6,
    "start_time": "2021-12-07T17:19:31.495Z"
   },
   {
    "duration": 7,
    "start_time": "2021-12-07T17:19:33.066Z"
   },
   {
    "duration": 9,
    "start_time": "2021-12-07T17:20:01.401Z"
   },
   {
    "duration": 7,
    "start_time": "2021-12-07T17:20:17.375Z"
   },
   {
    "duration": 7,
    "start_time": "2021-12-07T17:20:19.458Z"
   },
   {
    "duration": 7,
    "start_time": "2021-12-07T17:22:08.658Z"
   },
   {
    "duration": 8,
    "start_time": "2021-12-07T17:22:14.529Z"
   },
   {
    "duration": 1472,
    "start_time": "2021-12-07T17:33:08.592Z"
   },
   {
    "duration": 59,
    "start_time": "2021-12-07T17:33:10.065Z"
   },
   {
    "duration": 218,
    "start_time": "2021-12-07T17:33:10.126Z"
   },
   {
    "duration": 50,
    "start_time": "2021-12-07T17:33:10.346Z"
   },
   {
    "duration": 8,
    "start_time": "2021-12-07T17:33:10.397Z"
   },
   {
    "duration": 92,
    "start_time": "2021-12-07T17:33:10.406Z"
   },
   {
    "duration": 62,
    "start_time": "2021-12-07T17:33:10.500Z"
   },
   {
    "duration": 26,
    "start_time": "2021-12-07T17:33:10.564Z"
   },
   {
    "duration": 34,
    "start_time": "2021-12-07T17:33:10.593Z"
   },
   {
    "duration": 39,
    "start_time": "2021-12-07T17:33:10.629Z"
   },
   {
    "duration": 7,
    "start_time": "2021-12-07T17:33:10.670Z"
   },
   {
    "duration": 7,
    "start_time": "2021-12-07T17:33:10.679Z"
   },
   {
    "duration": 12,
    "start_time": "2021-12-07T17:33:10.687Z"
   },
   {
    "duration": 7,
    "start_time": "2021-12-07T17:33:10.700Z"
   },
   {
    "duration": 4,
    "start_time": "2021-12-07T17:33:10.709Z"
   },
   {
    "duration": 223,
    "start_time": "2021-12-07T17:33:10.715Z"
   },
   {
    "duration": 13,
    "start_time": "2021-12-07T17:33:10.941Z"
   },
   {
    "duration": 11,
    "start_time": "2021-12-07T17:33:10.956Z"
   },
   {
    "duration": 7885,
    "start_time": "2021-12-07T17:33:10.968Z"
   },
   {
    "duration": 261,
    "start_time": "2021-12-07T17:33:44.931Z"
   },
   {
    "duration": 253,
    "start_time": "2021-12-07T17:33:47.605Z"
   },
   {
    "duration": 215,
    "start_time": "2021-12-07T17:33:57.081Z"
   },
   {
    "duration": 254,
    "start_time": "2021-12-07T17:37:57.210Z"
   },
   {
    "duration": 690,
    "start_time": "2021-12-07T17:41:11.280Z"
   },
   {
    "duration": 362,
    "start_time": "2021-12-07T17:41:31.238Z"
   },
   {
    "duration": 698,
    "start_time": "2021-12-07T17:42:33.111Z"
   },
   {
    "duration": 426,
    "start_time": "2021-12-07T17:42:59.512Z"
   },
   {
    "duration": 1028,
    "start_time": "2021-12-07T17:43:59.641Z"
   },
   {
    "duration": 785,
    "start_time": "2021-12-07T17:44:15.412Z"
   },
   {
    "duration": 729,
    "start_time": "2021-12-07T17:44:27.299Z"
   },
   {
    "duration": 720,
    "start_time": "2021-12-07T17:46:33.208Z"
   },
   {
    "duration": 30,
    "start_time": "2021-12-07T17:47:07.251Z"
   },
   {
    "duration": 672,
    "start_time": "2021-12-07T17:47:58.572Z"
   },
   {
    "duration": 731,
    "start_time": "2021-12-07T17:49:13.129Z"
   },
   {
    "duration": 714,
    "start_time": "2021-12-07T17:51:19.135Z"
   },
   {
    "duration": 670,
    "start_time": "2021-12-07T17:52:52.622Z"
   },
   {
    "duration": 1221,
    "start_time": "2021-12-07T18:01:02.197Z"
   },
   {
    "duration": 905,
    "start_time": "2021-12-07T18:01:46.000Z"
   },
   {
    "duration": 917,
    "start_time": "2021-12-07T18:01:52.189Z"
   },
   {
    "duration": 1434,
    "start_time": "2021-12-07T18:02:05.803Z"
   },
   {
    "duration": 60,
    "start_time": "2021-12-07T18:02:07.239Z"
   },
   {
    "duration": 229,
    "start_time": "2021-12-07T18:02:07.304Z"
   },
   {
    "duration": 57,
    "start_time": "2021-12-07T18:02:07.534Z"
   },
   {
    "duration": 8,
    "start_time": "2021-12-07T18:02:07.592Z"
   },
   {
    "duration": 94,
    "start_time": "2021-12-07T18:02:07.601Z"
   },
   {
    "duration": 53,
    "start_time": "2021-12-07T18:02:07.698Z"
   },
   {
    "duration": 27,
    "start_time": "2021-12-07T18:02:07.753Z"
   },
   {
    "duration": 61,
    "start_time": "2021-12-07T18:02:07.782Z"
   },
   {
    "duration": 29,
    "start_time": "2021-12-07T18:02:07.845Z"
   },
   {
    "duration": 40,
    "start_time": "2021-12-07T18:02:07.875Z"
   },
   {
    "duration": 59,
    "start_time": "2021-12-07T18:02:07.917Z"
   },
   {
    "duration": 80,
    "start_time": "2021-12-07T18:02:07.977Z"
   },
   {
    "duration": 51,
    "start_time": "2021-12-07T18:02:08.058Z"
   },
   {
    "duration": 21,
    "start_time": "2021-12-07T18:02:08.111Z"
   },
   {
    "duration": 749,
    "start_time": "2021-12-07T18:02:08.134Z"
   },
   {
    "duration": 12,
    "start_time": "2021-12-07T18:02:08.885Z"
   },
   {
    "duration": 55,
    "start_time": "2021-12-07T18:02:08.898Z"
   },
   {
    "duration": 728,
    "start_time": "2021-12-07T18:02:08.955Z"
   },
   {
    "duration": 687,
    "start_time": "2021-12-07T18:02:09.685Z"
   },
   {
    "duration": 736,
    "start_time": "2021-12-07T18:02:10.374Z"
   },
   {
    "duration": 39,
    "start_time": "2021-12-07T18:41:16.733Z"
   },
   {
    "duration": 10,
    "start_time": "2021-12-07T18:41:44.113Z"
   },
   {
    "duration": 8,
    "start_time": "2021-12-07T18:47:21.132Z"
   },
   {
    "duration": 678,
    "start_time": "2021-12-07T18:47:39.170Z"
   },
   {
    "duration": 4,
    "start_time": "2021-12-07T18:49:41.329Z"
   },
   {
    "duration": 10,
    "start_time": "2021-12-07T18:49:46.500Z"
   },
   {
    "duration": 684,
    "start_time": "2021-12-07T18:50:02.305Z"
   },
   {
    "duration": 584,
    "start_time": "2021-12-07T18:53:20.366Z"
   },
   {
    "duration": 32,
    "start_time": "2021-12-07T19:03:25.927Z"
   },
   {
    "duration": 272,
    "start_time": "2021-12-08T11:04:11.896Z"
   },
   {
    "duration": 1467,
    "start_time": "2021-12-08T11:04:22.576Z"
   },
   {
    "duration": 54,
    "start_time": "2021-12-08T11:04:24.045Z"
   },
   {
    "duration": 193,
    "start_time": "2021-12-08T11:04:24.101Z"
   },
   {
    "duration": 47,
    "start_time": "2021-12-08T11:04:24.296Z"
   },
   {
    "duration": 7,
    "start_time": "2021-12-08T11:04:24.345Z"
   },
   {
    "duration": 91,
    "start_time": "2021-12-08T11:04:24.354Z"
   },
   {
    "duration": 51,
    "start_time": "2021-12-08T11:04:24.446Z"
   },
   {
    "duration": 23,
    "start_time": "2021-12-08T11:04:24.499Z"
   },
   {
    "duration": 29,
    "start_time": "2021-12-08T11:04:24.524Z"
   },
   {
    "duration": 38,
    "start_time": "2021-12-08T11:04:24.555Z"
   },
   {
    "duration": 6,
    "start_time": "2021-12-08T11:04:24.595Z"
   },
   {
    "duration": 7,
    "start_time": "2021-12-08T11:04:24.602Z"
   },
   {
    "duration": 10,
    "start_time": "2021-12-08T11:04:24.610Z"
   },
   {
    "duration": 5,
    "start_time": "2021-12-08T11:04:24.621Z"
   },
   {
    "duration": 9,
    "start_time": "2021-12-08T11:04:24.627Z"
   },
   {
    "duration": 628,
    "start_time": "2021-12-08T11:04:24.637Z"
   },
   {
    "duration": 11,
    "start_time": "2021-12-08T11:04:25.266Z"
   },
   {
    "duration": 10,
    "start_time": "2021-12-08T11:04:25.287Z"
   },
   {
    "duration": 629,
    "start_time": "2021-12-08T11:04:25.299Z"
   },
   {
    "duration": 631,
    "start_time": "2021-12-08T11:04:25.930Z"
   },
   {
    "duration": 650,
    "start_time": "2021-12-08T11:04:26.563Z"
   },
   {
    "duration": 26,
    "start_time": "2021-12-08T11:04:27.214Z"
   },
   {
    "duration": 320,
    "start_time": "2021-12-08T11:04:27.243Z"
   },
   {
    "duration": 761,
    "start_time": "2021-12-08T11:04:26.804Z"
   },
   {
    "duration": 8,
    "start_time": "2021-12-08T11:04:42.432Z"
   },
   {
    "duration": 3,
    "start_time": "2021-12-08T11:11:07.673Z"
   },
   {
    "duration": 4,
    "start_time": "2021-12-08T11:11:11.592Z"
   },
   {
    "duration": 385,
    "start_time": "2021-12-08T11:17:16.780Z"
   },
   {
    "duration": 124,
    "start_time": "2021-12-08T11:26:59.077Z"
   },
   {
    "duration": 6566,
    "start_time": "2021-12-08T11:27:06.592Z"
   },
   {
    "duration": 768,
    "start_time": "2021-12-08T11:27:12.392Z"
   },
   {
    "duration": 27,
    "start_time": "2021-12-08T11:27:23.091Z"
   },
   {
    "duration": 1792,
    "start_time": "2021-12-08T11:27:33.428Z"
   },
   {
    "duration": 81,
    "start_time": "2021-12-08T13:13:56.893Z"
   },
   {
    "duration": 7,
    "start_time": "2021-12-08T13:14:16.644Z"
   },
   {
    "duration": 5,
    "start_time": "2021-12-08T13:14:31.816Z"
   },
   {
    "duration": 6,
    "start_time": "2021-12-08T13:14:36.001Z"
   },
   {
    "duration": 8,
    "start_time": "2021-12-08T13:14:55.442Z"
   },
   {
    "duration": 5,
    "start_time": "2021-12-08T13:14:59.044Z"
   },
   {
    "duration": 231,
    "start_time": "2021-12-08T13:16:38.960Z"
   },
   {
    "duration": 345,
    "start_time": "2021-12-08T13:17:15.593Z"
   },
   {
    "duration": 77,
    "start_time": "2021-12-08T13:17:15.940Z"
   },
   {
    "duration": 165,
    "start_time": "2021-12-08T13:17:16.018Z"
   },
   {
    "duration": 42,
    "start_time": "2021-12-08T13:17:16.185Z"
   },
   {
    "duration": 5,
    "start_time": "2021-12-08T13:17:16.229Z"
   },
   {
    "duration": 81,
    "start_time": "2021-12-08T13:17:16.236Z"
   },
   {
    "duration": 39,
    "start_time": "2021-12-08T13:17:16.318Z"
   },
   {
    "duration": 35,
    "start_time": "2021-12-08T13:17:16.359Z"
   },
   {
    "duration": 28,
    "start_time": "2021-12-08T13:17:16.396Z"
   },
   {
    "duration": 21,
    "start_time": "2021-12-08T13:17:16.426Z"
   },
   {
    "duration": 7,
    "start_time": "2021-12-08T13:17:16.449Z"
   },
   {
    "duration": 16,
    "start_time": "2021-12-08T13:17:16.457Z"
   },
   {
    "duration": 25,
    "start_time": "2021-12-08T13:17:16.474Z"
   },
   {
    "duration": 19,
    "start_time": "2021-12-08T13:17:16.500Z"
   },
   {
    "duration": 15,
    "start_time": "2021-12-08T13:17:16.521Z"
   },
   {
    "duration": 624,
    "start_time": "2021-12-08T13:17:16.537Z"
   },
   {
    "duration": 9,
    "start_time": "2021-12-08T13:17:17.163Z"
   },
   {
    "duration": 19,
    "start_time": "2021-12-08T13:17:17.174Z"
   },
   {
    "duration": 629,
    "start_time": "2021-12-08T13:17:17.194Z"
   },
   {
    "duration": 683,
    "start_time": "2021-12-08T13:17:17.824Z"
   },
   {
    "duration": 644,
    "start_time": "2021-12-08T13:17:18.509Z"
   },
   {
    "duration": 35,
    "start_time": "2021-12-08T13:17:19.155Z"
   },
   {
    "duration": 6,
    "start_time": "2021-12-08T13:17:19.192Z"
   },
   {
    "duration": 5,
    "start_time": "2021-12-08T13:17:19.199Z"
   },
   {
    "duration": 26,
    "start_time": "2021-12-08T13:25:19.991Z"
   },
   {
    "duration": 92,
    "start_time": "2021-12-08T13:25:43.416Z"
   },
   {
    "duration": 94,
    "start_time": "2021-12-08T13:25:51.508Z"
   },
   {
    "duration": 86,
    "start_time": "2021-12-08T13:28:56.185Z"
   },
   {
    "duration": 89,
    "start_time": "2021-12-08T13:30:04.823Z"
   },
   {
    "duration": 6,
    "start_time": "2021-12-08T13:30:13.155Z"
   },
   {
    "duration": 5,
    "start_time": "2021-12-08T13:30:19.891Z"
   },
   {
    "duration": 7,
    "start_time": "2021-12-08T13:30:27.977Z"
   },
   {
    "duration": 5,
    "start_time": "2021-12-08T13:31:37.770Z"
   },
   {
    "duration": 7,
    "start_time": "2021-12-08T13:31:41.796Z"
   },
   {
    "duration": 9,
    "start_time": "2021-12-08T13:31:46.129Z"
   },
   {
    "duration": 7,
    "start_time": "2021-12-08T13:31:59.598Z"
   },
   {
    "duration": 4,
    "start_time": "2021-12-08T13:32:52.757Z"
   },
   {
    "duration": 4,
    "start_time": "2021-12-08T13:33:54.986Z"
   },
   {
    "duration": 5,
    "start_time": "2021-12-08T13:33:57.519Z"
   },
   {
    "duration": 5,
    "start_time": "2021-12-08T13:34:00.367Z"
   },
   {
    "duration": 6,
    "start_time": "2021-12-08T13:34:03.667Z"
   },
   {
    "duration": 4,
    "start_time": "2021-12-08T13:41:28.879Z"
   },
   {
    "duration": 4,
    "start_time": "2021-12-08T13:41:32.223Z"
   },
   {
    "duration": 5,
    "start_time": "2021-12-08T13:41:34.266Z"
   },
   {
    "duration": 4,
    "start_time": "2021-12-08T13:41:37.647Z"
   },
   {
    "duration": 5,
    "start_time": "2021-12-08T13:41:40.833Z"
   },
   {
    "duration": 4,
    "start_time": "2021-12-08T13:42:18.995Z"
   },
   {
    "duration": 4,
    "start_time": "2021-12-08T13:42:35.772Z"
   },
   {
    "duration": 85,
    "start_time": "2021-12-08T13:42:53.775Z"
   },
   {
    "duration": 4,
    "start_time": "2021-12-08T13:42:58.637Z"
   },
   {
    "duration": 338,
    "start_time": "2021-12-08T13:45:45.603Z"
   },
   {
    "duration": 60,
    "start_time": "2021-12-08T13:45:45.943Z"
   },
   {
    "duration": 155,
    "start_time": "2021-12-08T13:45:46.005Z"
   },
   {
    "duration": 52,
    "start_time": "2021-12-08T13:45:46.162Z"
   },
   {
    "duration": 5,
    "start_time": "2021-12-08T13:45:46.215Z"
   },
   {
    "duration": 76,
    "start_time": "2021-12-08T13:45:46.222Z"
   },
   {
    "duration": 36,
    "start_time": "2021-12-08T13:45:46.300Z"
   },
   {
    "duration": 22,
    "start_time": "2021-12-08T13:45:46.338Z"
   },
   {
    "duration": 45,
    "start_time": "2021-12-08T13:45:46.362Z"
   },
   {
    "duration": 24,
    "start_time": "2021-12-08T13:45:46.408Z"
   },
   {
    "duration": 6,
    "start_time": "2021-12-08T13:45:46.433Z"
   },
   {
    "duration": 6,
    "start_time": "2021-12-08T13:45:46.440Z"
   },
   {
    "duration": 10,
    "start_time": "2021-12-08T13:45:46.447Z"
   },
   {
    "duration": 4,
    "start_time": "2021-12-08T13:45:46.458Z"
   },
   {
    "duration": 25,
    "start_time": "2021-12-08T13:45:46.464Z"
   },
   {
    "duration": 625,
    "start_time": "2021-12-08T13:45:46.490Z"
   },
   {
    "duration": 10,
    "start_time": "2021-12-08T13:45:47.117Z"
   },
   {
    "duration": 13,
    "start_time": "2021-12-08T13:45:47.128Z"
   },
   {
    "duration": 628,
    "start_time": "2021-12-08T13:45:47.142Z"
   },
   {
    "duration": 617,
    "start_time": "2021-12-08T13:45:47.772Z"
   },
   {
    "duration": 635,
    "start_time": "2021-12-08T13:45:48.391Z"
   },
   {
    "duration": 6,
    "start_time": "2021-12-08T13:45:49.027Z"
   },
   {
    "duration": 12,
    "start_time": "2021-12-08T13:45:49.035Z"
   },
   {
    "duration": 15,
    "start_time": "2021-12-08T13:45:49.048Z"
   },
   {
    "duration": 7,
    "start_time": "2021-12-08T13:45:49.064Z"
   },
   {
    "duration": 6,
    "start_time": "2021-12-08T13:45:49.072Z"
   },
   {
    "duration": 4,
    "start_time": "2021-12-08T13:47:00.491Z"
   },
   {
    "duration": 260,
    "start_time": "2021-12-08T13:48:50.596Z"
   },
   {
    "duration": 76,
    "start_time": "2021-12-08T13:48:57.612Z"
   },
   {
    "duration": 5,
    "start_time": "2021-12-08T13:49:02.360Z"
   },
   {
    "duration": 4,
    "start_time": "2021-12-08T13:49:08.811Z"
   },
   {
    "duration": 4,
    "start_time": "2021-12-08T13:49:22.351Z"
   },
   {
    "duration": 5,
    "start_time": "2021-12-08T13:50:04.907Z"
   },
   {
    "duration": 10,
    "start_time": "2021-12-08T13:50:10.185Z"
   },
   {
    "duration": 5,
    "start_time": "2021-12-08T13:50:20.292Z"
   },
   {
    "duration": 4,
    "start_time": "2021-12-08T13:51:12.626Z"
   },
   {
    "duration": 1437,
    "start_time": "2021-12-08T14:05:03.615Z"
   },
   {
    "duration": 55,
    "start_time": "2021-12-08T14:05:05.053Z"
   },
   {
    "duration": 215,
    "start_time": "2021-12-08T14:05:05.109Z"
   },
   {
    "duration": 44,
    "start_time": "2021-12-08T14:05:05.326Z"
   },
   {
    "duration": 69,
    "start_time": "2021-12-08T14:05:05.388Z"
   },
   {
    "duration": 64,
    "start_time": "2021-12-08T14:05:05.459Z"
   },
   {
    "duration": 24,
    "start_time": "2021-12-08T14:05:05.524Z"
   },
   {
    "duration": 44,
    "start_time": "2021-12-08T14:05:05.551Z"
   },
   {
    "duration": 22,
    "start_time": "2021-12-08T14:05:05.597Z"
   },
   {
    "duration": 6,
    "start_time": "2021-12-08T14:05:05.620Z"
   },
   {
    "duration": 6,
    "start_time": "2021-12-08T14:05:05.628Z"
   },
   {
    "duration": 11,
    "start_time": "2021-12-08T14:05:05.636Z"
   },
   {
    "duration": 5,
    "start_time": "2021-12-08T14:05:05.649Z"
   },
   {
    "duration": 32,
    "start_time": "2021-12-08T14:05:05.656Z"
   },
   {
    "duration": 640,
    "start_time": "2021-12-08T14:05:05.689Z"
   },
   {
    "duration": 12,
    "start_time": "2021-12-08T14:05:06.331Z"
   },
   {
    "duration": 11,
    "start_time": "2021-12-08T14:05:06.344Z"
   },
   {
    "duration": 663,
    "start_time": "2021-12-08T14:05:06.357Z"
   },
   {
    "duration": 633,
    "start_time": "2021-12-08T14:05:07.022Z"
   },
   {
    "duration": 653,
    "start_time": "2021-12-08T14:05:07.657Z"
   },
   {
    "duration": 6,
    "start_time": "2021-12-08T14:05:08.312Z"
   },
   {
    "duration": 13,
    "start_time": "2021-12-08T14:05:08.320Z"
   },
   {
    "duration": 10,
    "start_time": "2021-12-08T14:05:08.337Z"
   },
   {
    "duration": 7,
    "start_time": "2021-12-08T14:05:08.348Z"
   },
   {
    "duration": 5,
    "start_time": "2021-12-08T14:05:08.357Z"
   },
   {
    "duration": 5,
    "start_time": "2021-12-08T14:05:08.364Z"
   },
   {
    "duration": 637,
    "start_time": "2021-12-08T14:07:55.319Z"
   },
   {
    "duration": 7,
    "start_time": "2021-12-08T14:24:11.881Z"
   },
   {
    "duration": 25,
    "start_time": "2021-12-08T14:24:20.639Z"
   },
   {
    "duration": 6,
    "start_time": "2021-12-08T14:24:30.340Z"
   },
   {
    "duration": 5967,
    "start_time": "2021-12-08T14:24:39.767Z"
   },
   {
    "duration": 3211,
    "start_time": "2021-12-08T14:24:46.356Z"
   },
   {
    "duration": 6,
    "start_time": "2021-12-08T14:24:51.208Z"
   },
   {
    "duration": 11538,
    "start_time": "2021-12-08T14:25:29.108Z"
   },
   {
    "duration": 6,
    "start_time": "2021-12-08T14:25:45.043Z"
   },
   {
    "duration": 3565,
    "start_time": "2021-12-08T14:26:06.092Z"
   },
   {
    "duration": 6,
    "start_time": "2021-12-08T14:26:13.426Z"
   },
   {
    "duration": 8,
    "start_time": "2021-12-08T14:26:22.769Z"
   },
   {
    "duration": 7,
    "start_time": "2021-12-08T14:26:30.713Z"
   },
   {
    "duration": 1392,
    "start_time": "2021-12-08T14:29:08.055Z"
   },
   {
    "duration": 53,
    "start_time": "2021-12-08T14:29:09.449Z"
   },
   {
    "duration": 199,
    "start_time": "2021-12-08T14:29:09.504Z"
   },
   {
    "duration": 43,
    "start_time": "2021-12-08T14:29:09.704Z"
   },
   {
    "duration": 85,
    "start_time": "2021-12-08T14:29:09.749Z"
   },
   {
    "duration": 52,
    "start_time": "2021-12-08T14:29:09.835Z"
   },
   {
    "duration": 23,
    "start_time": "2021-12-08T14:29:09.889Z"
   },
   {
    "duration": 29,
    "start_time": "2021-12-08T14:29:09.914Z"
   },
   {
    "duration": 22,
    "start_time": "2021-12-08T14:29:09.945Z"
   },
   {
    "duration": 22,
    "start_time": "2021-12-08T14:29:09.968Z"
   },
   {
    "duration": 7,
    "start_time": "2021-12-08T14:29:09.992Z"
   },
   {
    "duration": 16,
    "start_time": "2021-12-08T14:29:10.000Z"
   },
   {
    "duration": 14,
    "start_time": "2021-12-08T14:29:10.018Z"
   },
   {
    "duration": 5,
    "start_time": "2021-12-08T14:29:10.034Z"
   },
   {
    "duration": 634,
    "start_time": "2021-12-08T14:29:10.041Z"
   },
   {
    "duration": 15,
    "start_time": "2021-12-08T14:29:10.677Z"
   },
   {
    "duration": 10,
    "start_time": "2021-12-08T14:29:10.694Z"
   },
   {
    "duration": 9,
    "start_time": "2021-12-08T14:29:10.706Z"
   },
   {
    "duration": 649,
    "start_time": "2021-12-08T14:29:10.716Z"
   },
   {
    "duration": 678,
    "start_time": "2021-12-08T14:29:11.366Z"
   },
   {
    "duration": 644,
    "start_time": "2021-12-08T14:29:12.046Z"
   },
   {
    "duration": 5,
    "start_time": "2021-12-08T14:29:12.692Z"
   },
   {
    "duration": 4,
    "start_time": "2021-12-08T14:29:12.700Z"
   },
   {
    "duration": 5,
    "start_time": "2021-12-08T14:29:12.706Z"
   },
   {
    "duration": 8,
    "start_time": "2021-12-08T14:29:12.712Z"
   },
   {
    "duration": 4,
    "start_time": "2021-12-08T14:29:12.722Z"
   },
   {
    "duration": 5,
    "start_time": "2021-12-08T14:29:12.727Z"
   },
   {
    "duration": 2046,
    "start_time": "2021-12-09T06:05:58.250Z"
   },
   {
    "duration": 82,
    "start_time": "2021-12-09T06:06:00.298Z"
   },
   {
    "duration": 327,
    "start_time": "2021-12-09T06:06:00.385Z"
   },
   {
    "duration": 81,
    "start_time": "2021-12-09T06:06:00.714Z"
   },
   {
    "duration": 116,
    "start_time": "2021-12-09T06:06:00.797Z"
   },
   {
    "duration": 79,
    "start_time": "2021-12-09T06:06:00.916Z"
   },
   {
    "duration": 36,
    "start_time": "2021-12-09T06:06:00.997Z"
   },
   {
    "duration": 61,
    "start_time": "2021-12-09T06:06:01.037Z"
   },
   {
    "duration": 39,
    "start_time": "2021-12-09T06:06:01.102Z"
   },
   {
    "duration": 28,
    "start_time": "2021-12-09T06:06:01.143Z"
   },
   {
    "duration": 34,
    "start_time": "2021-12-09T06:06:01.174Z"
   },
   {
    "duration": 26,
    "start_time": "2021-12-09T06:06:01.211Z"
   },
   {
    "duration": 18,
    "start_time": "2021-12-09T06:06:01.239Z"
   },
   {
    "duration": 33,
    "start_time": "2021-12-09T06:06:01.260Z"
   },
   {
    "duration": 1224,
    "start_time": "2021-12-09T06:06:01.296Z"
   },
   {
    "duration": 11,
    "start_time": "2021-12-09T06:06:02.522Z"
   },
   {
    "duration": 40,
    "start_time": "2021-12-09T06:06:02.536Z"
   },
   {
    "duration": 20,
    "start_time": "2021-12-09T06:06:02.578Z"
   },
   {
    "duration": 1215,
    "start_time": "2021-12-09T06:06:02.601Z"
   },
   {
    "duration": 1203,
    "start_time": "2021-12-09T06:06:03.818Z"
   },
   {
    "duration": 1253,
    "start_time": "2021-12-09T06:06:05.024Z"
   },
   {
    "duration": 9,
    "start_time": "2021-12-09T06:06:06.280Z"
   },
   {
    "duration": 9,
    "start_time": "2021-12-09T06:06:06.294Z"
   },
   {
    "duration": 9,
    "start_time": "2021-12-09T06:06:06.306Z"
   },
   {
    "duration": 11,
    "start_time": "2021-12-09T06:06:06.318Z"
   },
   {
    "duration": 7,
    "start_time": "2021-12-09T06:06:06.366Z"
   },
   {
    "duration": 9,
    "start_time": "2021-12-09T06:06:06.376Z"
   },
   {
    "duration": 2047,
    "start_time": "2021-12-09T06:16:00.145Z"
   },
   {
    "duration": 91,
    "start_time": "2021-12-09T06:16:02.195Z"
   },
   {
    "duration": 355,
    "start_time": "2021-12-09T06:16:02.289Z"
   },
   {
    "duration": 83,
    "start_time": "2021-12-09T06:16:02.647Z"
   },
   {
    "duration": 124,
    "start_time": "2021-12-09T06:16:02.732Z"
   },
   {
    "duration": 78,
    "start_time": "2021-12-09T06:16:02.858Z"
   },
   {
    "duration": 51,
    "start_time": "2021-12-09T06:16:02.938Z"
   },
   {
    "duration": 46,
    "start_time": "2021-12-09T06:16:02.992Z"
   },
   {
    "duration": 58,
    "start_time": "2021-12-09T06:16:03.042Z"
   },
   {
    "duration": 9,
    "start_time": "2021-12-09T06:16:03.104Z"
   },
   {
    "duration": 12,
    "start_time": "2021-12-09T06:16:03.116Z"
   },
   {
    "duration": 43,
    "start_time": "2021-12-09T06:16:03.130Z"
   },
   {
    "duration": 7,
    "start_time": "2021-12-09T06:16:03.176Z"
   },
   {
    "duration": 8,
    "start_time": "2021-12-09T06:16:03.185Z"
   },
   {
    "duration": 1250,
    "start_time": "2021-12-09T06:16:03.196Z"
   },
   {
    "duration": 20,
    "start_time": "2021-12-09T06:16:04.449Z"
   },
   {
    "duration": 16,
    "start_time": "2021-12-09T06:16:04.471Z"
   },
   {
    "duration": 26,
    "start_time": "2021-12-09T06:16:04.490Z"
   },
   {
    "duration": 1193,
    "start_time": "2021-12-09T06:16:04.519Z"
   },
   {
    "duration": 1113,
    "start_time": "2021-12-09T06:16:05.714Z"
   },
   {
    "duration": 1140,
    "start_time": "2021-12-09T06:16:06.830Z"
   },
   {
    "duration": 9,
    "start_time": "2021-12-09T06:16:07.972Z"
   },
   {
    "duration": 9,
    "start_time": "2021-12-09T06:16:07.983Z"
   },
   {
    "duration": 9,
    "start_time": "2021-12-09T06:16:07.994Z"
   },
   {
    "duration": 8,
    "start_time": "2021-12-09T06:16:08.005Z"
   },
   {
    "duration": 7,
    "start_time": "2021-12-09T06:16:08.015Z"
   },
   {
    "duration": 7,
    "start_time": "2021-12-09T06:16:08.070Z"
   },
   {
    "duration": 1892,
    "start_time": "2021-12-09T07:37:02.933Z"
   },
   {
    "duration": 61,
    "start_time": "2021-12-09T07:37:04.827Z"
   },
   {
    "duration": 228,
    "start_time": "2021-12-09T07:37:04.926Z"
   },
   {
    "duration": 52,
    "start_time": "2021-12-09T07:37:05.397Z"
   },
   {
    "duration": 74,
    "start_time": "2021-12-09T07:37:12.205Z"
   },
   {
    "duration": 60,
    "start_time": "2021-12-09T07:37:25.760Z"
   },
   {
    "duration": 27,
    "start_time": "2021-12-09T07:37:31.841Z"
   },
   {
    "duration": 364,
    "start_time": "2021-12-09T07:37:41.891Z"
   },
   {
    "duration": 15,
    "start_time": "2021-12-09T07:37:44.986Z"
   },
   {
    "duration": 33,
    "start_time": "2021-12-09T07:38:04.488Z"
   },
   {
    "duration": 288,
    "start_time": "2021-12-09T07:38:08.587Z"
   },
   {
    "duration": 12,
    "start_time": "2021-12-09T07:38:12.097Z"
   },
   {
    "duration": 448,
    "start_time": "2021-12-09T07:41:45.856Z"
   },
   {
    "duration": 68,
    "start_time": "2021-12-09T07:41:46.306Z"
   },
   {
    "duration": 190,
    "start_time": "2021-12-09T07:41:47.087Z"
   },
   {
    "duration": 51,
    "start_time": "2021-12-09T07:41:47.462Z"
   },
   {
    "duration": 70,
    "start_time": "2021-12-09T07:41:50.047Z"
   },
   {
    "duration": 43,
    "start_time": "2021-12-09T07:42:02.186Z"
   },
   {
    "duration": 27,
    "start_time": "2021-12-09T07:42:06.094Z"
   },
   {
    "duration": 30,
    "start_time": "2021-12-09T07:42:09.544Z"
   },
   {
    "duration": 10,
    "start_time": "2021-12-09T07:42:15.962Z"
   },
   {
    "duration": 1578,
    "start_time": "2021-12-09T13:34:11.503Z"
   },
   {
    "duration": 60,
    "start_time": "2021-12-09T13:34:13.083Z"
   },
   {
    "duration": 218,
    "start_time": "2021-12-09T13:34:13.527Z"
   },
   {
    "duration": 48,
    "start_time": "2021-12-09T13:34:14.339Z"
   },
   {
    "duration": 109,
    "start_time": "2021-12-09T13:34:19.877Z"
   },
   {
    "duration": 51,
    "start_time": "2021-12-09T13:34:23.296Z"
   },
   {
    "duration": 26,
    "start_time": "2021-12-09T13:34:27.961Z"
   },
   {
    "duration": 15,
    "start_time": "2021-12-09T13:34:37.233Z"
   },
   {
    "duration": 1378,
    "start_time": "2021-12-09T13:35:18.864Z"
   },
   {
    "duration": 1376,
    "start_time": "2021-12-09T13:35:18.867Z"
   },
   {
    "duration": 6712,
    "start_time": "2021-12-09T13:35:25.918Z"
   },
   {
    "duration": 1378,
    "start_time": "2021-12-09T13:35:31.254Z"
   },
   {
    "duration": 7199,
    "start_time": "2021-12-09T13:35:49.256Z"
   },
   {
    "duration": 1372,
    "start_time": "2021-12-09T13:35:55.086Z"
   },
   {
    "duration": 1371,
    "start_time": "2021-12-09T13:35:55.088Z"
   },
   {
    "duration": 2029,
    "start_time": "2021-12-09T13:36:06.806Z"
   },
   {
    "duration": 76,
    "start_time": "2021-12-09T13:36:08.838Z"
   },
   {
    "duration": 286,
    "start_time": "2021-12-09T13:36:08.916Z"
   },
   {
    "duration": 72,
    "start_time": "2021-12-09T13:36:09.205Z"
   },
   {
    "duration": 96,
    "start_time": "2021-12-09T13:36:09.279Z"
   },
   {
    "duration": 69,
    "start_time": "2021-12-09T13:36:09.377Z"
   },
   {
    "duration": 26,
    "start_time": "2021-12-09T13:36:09.448Z"
   },
   {
    "duration": 7027,
    "start_time": "2021-12-09T13:36:09.476Z"
   },
   {
    "duration": 1370,
    "start_time": "2021-12-09T13:36:15.135Z"
   },
   {
    "duration": 1366,
    "start_time": "2021-12-09T13:36:15.140Z"
   },
   {
    "duration": 1365,
    "start_time": "2021-12-09T13:36:15.142Z"
   },
   {
    "duration": 1364,
    "start_time": "2021-12-09T13:36:15.144Z"
   },
   {
    "duration": 1363,
    "start_time": "2021-12-09T13:36:15.146Z"
   },
   {
    "duration": 1362,
    "start_time": "2021-12-09T13:36:15.148Z"
   },
   {
    "duration": 1361,
    "start_time": "2021-12-09T13:36:15.150Z"
   },
   {
    "duration": 1360,
    "start_time": "2021-12-09T13:36:15.152Z"
   },
   {
    "duration": 1359,
    "start_time": "2021-12-09T13:36:15.154Z"
   },
   {
    "duration": 1359,
    "start_time": "2021-12-09T13:36:15.155Z"
   },
   {
    "duration": 1358,
    "start_time": "2021-12-09T13:36:15.157Z"
   },
   {
    "duration": 1357,
    "start_time": "2021-12-09T13:36:15.159Z"
   },
   {
    "duration": 1357,
    "start_time": "2021-12-09T13:36:15.161Z"
   },
   {
    "duration": 1355,
    "start_time": "2021-12-09T13:36:15.163Z"
   },
   {
    "duration": 1354,
    "start_time": "2021-12-09T13:36:15.165Z"
   },
   {
    "duration": 1354,
    "start_time": "2021-12-09T13:36:15.167Z"
   },
   {
    "duration": 1348,
    "start_time": "2021-12-09T13:36:15.173Z"
   },
   {
    "duration": 1347,
    "start_time": "2021-12-09T13:36:15.175Z"
   },
   {
    "duration": 1346,
    "start_time": "2021-12-09T13:36:15.177Z"
   },
   {
    "duration": 1346,
    "start_time": "2021-12-09T13:36:15.178Z"
   },
   {
    "duration": 13,
    "start_time": "2021-12-09T13:36:56.265Z"
   },
   {
    "duration": 7293,
    "start_time": "2021-12-09T13:37:16.845Z"
   },
   {
    "duration": 1364,
    "start_time": "2021-12-09T13:37:22.776Z"
   },
   {
    "duration": 11,
    "start_time": "2021-12-09T13:37:30.425Z"
   },
   {
    "duration": 1374,
    "start_time": "2021-12-09T13:37:49.185Z"
   },
   {
    "duration": 1372,
    "start_time": "2021-12-09T13:37:49.188Z"
   },
   {
    "duration": 1373,
    "start_time": "2021-12-09T13:37:49.189Z"
   },
   {
    "duration": 15,
    "start_time": "2021-12-09T13:37:52.417Z"
   },
   {
    "duration": 7163,
    "start_time": "2021-12-09T13:37:54.570Z"
   },
   {
    "duration": 1372,
    "start_time": "2021-12-09T13:38:00.364Z"
   },
   {
    "duration": 1924,
    "start_time": "2021-12-09T13:38:23.947Z"
   },
   {
    "duration": 67,
    "start_time": "2021-12-09T13:38:25.873Z"
   },
   {
    "duration": 213,
    "start_time": "2021-12-09T13:38:25.942Z"
   },
   {
    "duration": 50,
    "start_time": "2021-12-09T13:38:26.157Z"
   },
   {
    "duration": 97,
    "start_time": "2021-12-09T13:38:26.208Z"
   },
   {
    "duration": 55,
    "start_time": "2021-12-09T13:38:26.307Z"
   },
   {
    "duration": 26,
    "start_time": "2021-12-09T13:38:26.364Z"
   },
   {
    "duration": 32,
    "start_time": "2021-12-09T13:38:26.393Z"
   },
   {
    "duration": 24,
    "start_time": "2021-12-09T13:38:26.428Z"
   },
   {
    "duration": 26,
    "start_time": "2021-12-09T13:38:26.454Z"
   },
   {
    "duration": 7,
    "start_time": "2021-12-09T13:38:26.482Z"
   },
   {
    "duration": 7,
    "start_time": "2021-12-09T13:38:26.491Z"
   },
   {
    "duration": 11,
    "start_time": "2021-12-09T13:38:26.499Z"
   },
   {
    "duration": 35,
    "start_time": "2021-12-09T13:38:26.512Z"
   },
   {
    "duration": 7,
    "start_time": "2021-12-09T13:38:26.549Z"
   },
   {
    "duration": 758,
    "start_time": "2021-12-09T13:38:26.557Z"
   },
   {
    "duration": 7,
    "start_time": "2021-12-09T13:38:27.317Z"
   },
   {
    "duration": 32,
    "start_time": "2021-12-09T13:38:27.326Z"
   },
   {
    "duration": 28,
    "start_time": "2021-12-09T13:38:27.360Z"
   },
   {
    "duration": 794,
    "start_time": "2021-12-09T13:38:27.390Z"
   },
   {
    "duration": 731,
    "start_time": "2021-12-09T13:38:28.186Z"
   },
   {
    "duration": 809,
    "start_time": "2021-12-09T13:38:28.919Z"
   },
   {
    "duration": 13,
    "start_time": "2021-12-09T13:38:29.731Z"
   },
   {
    "duration": 5,
    "start_time": "2021-12-09T13:38:29.747Z"
   },
   {
    "duration": 11,
    "start_time": "2021-12-09T13:38:29.753Z"
   },
   {
    "duration": 6,
    "start_time": "2021-12-09T13:38:29.766Z"
   },
   {
    "duration": 5,
    "start_time": "2021-12-09T13:38:29.774Z"
   },
   {
    "duration": 7,
    "start_time": "2021-12-09T13:38:29.780Z"
   },
   {
    "duration": 10125,
    "start_time": "2021-12-09T13:39:38.733Z"
   },
   {
    "duration": 1353,
    "start_time": "2021-12-09T13:39:47.508Z"
   },
   {
    "duration": 1547,
    "start_time": "2021-12-09T13:39:51.683Z"
   },
   {
    "duration": 64,
    "start_time": "2021-12-09T13:39:53.232Z"
   },
   {
    "duration": 236,
    "start_time": "2021-12-09T13:39:53.298Z"
   },
   {
    "duration": 54,
    "start_time": "2021-12-09T13:39:53.545Z"
   },
   {
    "duration": 101,
    "start_time": "2021-12-09T13:39:53.601Z"
   },
   {
    "duration": 56,
    "start_time": "2021-12-09T13:39:53.703Z"
   },
   {
    "duration": 25,
    "start_time": "2021-12-09T13:39:53.761Z"
   },
   {
    "duration": 31,
    "start_time": "2021-12-09T13:39:53.788Z"
   },
   {
    "duration": 29,
    "start_time": "2021-12-09T13:39:53.821Z"
   },
   {
    "duration": 40,
    "start_time": "2021-12-09T13:39:53.851Z"
   },
   {
    "duration": 7,
    "start_time": "2021-12-09T13:39:53.892Z"
   },
   {
    "duration": 15,
    "start_time": "2021-12-09T13:39:53.900Z"
   },
   {
    "duration": 20,
    "start_time": "2021-12-09T13:39:53.917Z"
   },
   {
    "duration": 15,
    "start_time": "2021-12-09T13:39:53.939Z"
   },
   {
    "duration": 15,
    "start_time": "2021-12-09T13:39:53.956Z"
   },
   {
    "duration": 739,
    "start_time": "2021-12-09T13:39:53.973Z"
   },
   {
    "duration": 7,
    "start_time": "2021-12-09T13:39:54.714Z"
   },
   {
    "duration": 25,
    "start_time": "2021-12-09T13:39:54.722Z"
   },
   {
    "duration": 12,
    "start_time": "2021-12-09T13:39:54.749Z"
   },
   {
    "duration": 741,
    "start_time": "2021-12-09T13:39:54.763Z"
   },
   {
    "duration": 746,
    "start_time": "2021-12-09T13:39:55.507Z"
   },
   {
    "duration": 747,
    "start_time": "2021-12-09T13:39:56.255Z"
   },
   {
    "duration": 7,
    "start_time": "2021-12-09T13:39:57.007Z"
   },
   {
    "duration": 6,
    "start_time": "2021-12-09T13:39:57.016Z"
   },
   {
    "duration": 23,
    "start_time": "2021-12-09T13:39:57.024Z"
   },
   {
    "duration": 12,
    "start_time": "2021-12-09T13:39:57.050Z"
   },
   {
    "duration": 6,
    "start_time": "2021-12-09T13:39:57.064Z"
   },
   {
    "duration": 11,
    "start_time": "2021-12-09T13:39:57.073Z"
   },
   {
    "duration": 1533,
    "start_time": "2021-12-09T13:40:29.466Z"
   },
   {
    "duration": 86,
    "start_time": "2021-12-09T13:40:31.001Z"
   },
   {
    "duration": 317,
    "start_time": "2021-12-09T13:40:31.090Z"
   },
   {
    "duration": 89,
    "start_time": "2021-12-09T13:40:31.409Z"
   },
   {
    "duration": 119,
    "start_time": "2021-12-09T13:40:31.501Z"
   },
   {
    "duration": 74,
    "start_time": "2021-12-09T13:40:31.623Z"
   },
   {
    "duration": 35,
    "start_time": "2021-12-09T13:40:31.699Z"
   },
   {
    "duration": 7571,
    "start_time": "2021-12-09T13:40:31.738Z"
   },
   {
    "duration": 1372,
    "start_time": "2021-12-09T13:40:37.940Z"
   },
   {
    "duration": 1368,
    "start_time": "2021-12-09T13:40:37.945Z"
   },
   {
    "duration": 1367,
    "start_time": "2021-12-09T13:40:37.947Z"
   },
   {
    "duration": 1366,
    "start_time": "2021-12-09T13:40:37.949Z"
   },
   {
    "duration": 1365,
    "start_time": "2021-12-09T13:40:37.951Z"
   },
   {
    "duration": 1364,
    "start_time": "2021-12-09T13:40:37.953Z"
   },
   {
    "duration": 1364,
    "start_time": "2021-12-09T13:40:37.954Z"
   },
   {
    "duration": 1364,
    "start_time": "2021-12-09T13:40:37.956Z"
   },
   {
    "duration": 1363,
    "start_time": "2021-12-09T13:40:37.958Z"
   },
   {
    "duration": 1356,
    "start_time": "2021-12-09T13:40:37.966Z"
   },
   {
    "duration": 1355,
    "start_time": "2021-12-09T13:40:37.968Z"
   },
   {
    "duration": 1354,
    "start_time": "2021-12-09T13:40:37.970Z"
   },
   {
    "duration": 1354,
    "start_time": "2021-12-09T13:40:37.972Z"
   },
   {
    "duration": 1353,
    "start_time": "2021-12-09T13:40:37.974Z"
   },
   {
    "duration": 1352,
    "start_time": "2021-12-09T13:40:37.976Z"
   },
   {
    "duration": 1351,
    "start_time": "2021-12-09T13:40:37.978Z"
   },
   {
    "duration": 1350,
    "start_time": "2021-12-09T13:40:37.980Z"
   },
   {
    "duration": 1350,
    "start_time": "2021-12-09T13:40:37.981Z"
   },
   {
    "duration": 1350,
    "start_time": "2021-12-09T13:40:37.983Z"
   },
   {
    "duration": 1349,
    "start_time": "2021-12-09T13:40:37.985Z"
   },
   {
    "duration": 12,
    "start_time": "2021-12-09T13:45:44.101Z"
   },
   {
    "duration": 394,
    "start_time": "2021-12-09T13:45:59.851Z"
   },
   {
    "duration": 13,
    "start_time": "2021-12-09T13:46:05.442Z"
   },
   {
    "duration": 58,
    "start_time": "2021-12-09T13:47:40.080Z"
   },
   {
    "duration": 10,
    "start_time": "2021-12-09T13:47:41.964Z"
   },
   {
    "duration": 273,
    "start_time": "2021-12-09T13:49:14.695Z"
   },
   {
    "duration": 1572,
    "start_time": "2021-12-09T13:49:28.560Z"
   },
   {
    "duration": 73,
    "start_time": "2021-12-09T13:49:30.134Z"
   },
   {
    "duration": 243,
    "start_time": "2021-12-09T13:49:30.209Z"
   },
   {
    "duration": 50,
    "start_time": "2021-12-09T13:49:30.454Z"
   },
   {
    "duration": 97,
    "start_time": "2021-12-09T13:49:30.506Z"
   },
   {
    "duration": 62,
    "start_time": "2021-12-09T13:49:30.604Z"
   },
   {
    "duration": 27,
    "start_time": "2021-12-09T13:49:30.668Z"
   },
   {
    "duration": 41,
    "start_time": "2021-12-09T13:49:30.696Z"
   },
   {
    "duration": 13,
    "start_time": "2021-12-09T13:49:30.741Z"
   },
   {
    "duration": 41,
    "start_time": "2021-12-09T13:49:30.756Z"
   },
   {
    "duration": 28,
    "start_time": "2021-12-09T13:49:30.799Z"
   },
   {
    "duration": 8871,
    "start_time": "2021-12-09T13:49:30.829Z"
   },
   {
    "duration": 1376,
    "start_time": "2021-12-09T13:49:38.326Z"
   },
   {
    "duration": 1373,
    "start_time": "2021-12-09T13:49:38.330Z"
   },
   {
    "duration": 1372,
    "start_time": "2021-12-09T13:49:38.332Z"
   },
   {
    "duration": 1371,
    "start_time": "2021-12-09T13:49:38.334Z"
   },
   {
    "duration": 1370,
    "start_time": "2021-12-09T13:49:38.336Z"
   },
   {
    "duration": 1370,
    "start_time": "2021-12-09T13:49:38.337Z"
   },
   {
    "duration": 1369,
    "start_time": "2021-12-09T13:49:38.339Z"
   },
   {
    "duration": 1368,
    "start_time": "2021-12-09T13:49:38.341Z"
   },
   {
    "duration": 1367,
    "start_time": "2021-12-09T13:49:38.343Z"
   },
   {
    "duration": 1360,
    "start_time": "2021-12-09T13:49:38.351Z"
   },
   {
    "duration": 1357,
    "start_time": "2021-12-09T13:49:38.356Z"
   },
   {
    "duration": 1356,
    "start_time": "2021-12-09T13:49:38.358Z"
   },
   {
    "duration": 1355,
    "start_time": "2021-12-09T13:49:38.360Z"
   },
   {
    "duration": 1354,
    "start_time": "2021-12-09T13:49:38.362Z"
   },
   {
    "duration": 1354,
    "start_time": "2021-12-09T13:49:38.363Z"
   },
   {
    "duration": 1353,
    "start_time": "2021-12-09T13:49:38.365Z"
   },
   {
    "duration": 1621,
    "start_time": "2021-12-09T13:49:53.400Z"
   },
   {
    "duration": 3,
    "start_time": "2021-12-09T13:49:55.023Z"
   },
   {
    "duration": 30,
    "start_time": "2021-12-09T13:49:55.027Z"
   },
   {
    "duration": 19,
    "start_time": "2021-12-09T13:49:55.059Z"
   },
   {
    "duration": 89,
    "start_time": "2021-12-09T13:49:55.079Z"
   },
   {
    "duration": 45,
    "start_time": "2021-12-09T13:49:55.170Z"
   },
   {
    "duration": 28,
    "start_time": "2021-12-09T13:49:55.217Z"
   },
   {
    "duration": 34,
    "start_time": "2021-12-09T13:49:55.247Z"
   },
   {
    "duration": 11,
    "start_time": "2021-12-09T13:49:55.284Z"
   },
   {
    "duration": 47,
    "start_time": "2021-12-09T13:49:55.297Z"
   },
   {
    "duration": 7,
    "start_time": "2021-12-09T13:49:55.346Z"
   },
   {
    "duration": 8711,
    "start_time": "2021-12-09T13:49:55.355Z"
   },
   {
    "duration": 1364,
    "start_time": "2021-12-09T13:50:02.704Z"
   },
   {
    "duration": 1361,
    "start_time": "2021-12-09T13:50:02.709Z"
   },
   {
    "duration": 1360,
    "start_time": "2021-12-09T13:50:02.711Z"
   },
   {
    "duration": 1360,
    "start_time": "2021-12-09T13:50:02.712Z"
   },
   {
    "duration": 1351,
    "start_time": "2021-12-09T13:50:02.722Z"
   },
   {
    "duration": 1351,
    "start_time": "2021-12-09T13:50:02.724Z"
   },
   {
    "duration": 1347,
    "start_time": "2021-12-09T13:50:02.729Z"
   },
   {
    "duration": 1345,
    "start_time": "2021-12-09T13:50:02.732Z"
   },
   {
    "duration": 1341,
    "start_time": "2021-12-09T13:50:02.737Z"
   },
   {
    "duration": 1340,
    "start_time": "2021-12-09T13:50:02.739Z"
   },
   {
    "duration": 1338,
    "start_time": "2021-12-09T13:50:02.743Z"
   },
   {
    "duration": 1337,
    "start_time": "2021-12-09T13:50:02.745Z"
   },
   {
    "duration": 1336,
    "start_time": "2021-12-09T13:50:02.747Z"
   },
   {
    "duration": 1335,
    "start_time": "2021-12-09T13:50:02.749Z"
   },
   {
    "duration": 1335,
    "start_time": "2021-12-09T13:50:02.750Z"
   },
   {
    "duration": 1334,
    "start_time": "2021-12-09T13:50:02.752Z"
   },
   {
    "duration": 1554,
    "start_time": "2021-12-09T13:51:14.630Z"
   },
   {
    "duration": 2,
    "start_time": "2021-12-09T13:51:16.186Z"
   },
   {
    "duration": 38,
    "start_time": "2021-12-09T13:51:16.192Z"
   },
   {
    "duration": 15,
    "start_time": "2021-12-09T13:51:16.231Z"
   },
   {
    "duration": 91,
    "start_time": "2021-12-09T13:51:16.247Z"
   },
   {
    "duration": 52,
    "start_time": "2021-12-09T13:51:16.340Z"
   },
   {
    "duration": 26,
    "start_time": "2021-12-09T13:51:16.394Z"
   },
   {
    "duration": 38,
    "start_time": "2021-12-09T13:51:16.422Z"
   },
   {
    "duration": 13,
    "start_time": "2021-12-09T13:51:16.461Z"
   },
   {
    "duration": 24,
    "start_time": "2021-12-09T13:51:16.475Z"
   },
   {
    "duration": 7,
    "start_time": "2021-12-09T13:51:16.501Z"
   },
   {
    "duration": 7,
    "start_time": "2021-12-09T13:51:16.509Z"
   },
   {
    "duration": 32,
    "start_time": "2021-12-09T13:51:16.518Z"
   },
   {
    "duration": 5,
    "start_time": "2021-12-09T13:51:16.552Z"
   },
   {
    "duration": 5,
    "start_time": "2021-12-09T13:51:16.559Z"
   },
   {
    "duration": 732,
    "start_time": "2021-12-09T13:51:16.565Z"
   },
   {
    "duration": 7,
    "start_time": "2021-12-09T13:51:17.299Z"
   },
   {
    "duration": 12,
    "start_time": "2021-12-09T13:51:17.307Z"
   },
   {
    "duration": 30,
    "start_time": "2021-12-09T13:51:17.321Z"
   },
   {
    "duration": 707,
    "start_time": "2021-12-09T13:51:17.353Z"
   },
   {
    "duration": 734,
    "start_time": "2021-12-09T13:51:18.062Z"
   },
   {
    "duration": 717,
    "start_time": "2021-12-09T13:51:18.800Z"
   },
   {
    "duration": 7,
    "start_time": "2021-12-09T13:51:19.519Z"
   },
   {
    "duration": 27,
    "start_time": "2021-12-09T13:51:19.528Z"
   },
   {
    "duration": 40,
    "start_time": "2021-12-09T13:51:19.557Z"
   },
   {
    "duration": 44,
    "start_time": "2021-12-09T13:51:19.598Z"
   },
   {
    "duration": 22,
    "start_time": "2021-12-09T13:51:19.644Z"
   },
   {
    "duration": 23,
    "start_time": "2021-12-09T13:51:19.667Z"
   },
   {
    "duration": 1489,
    "start_time": "2021-12-09T13:52:49.700Z"
   },
   {
    "duration": 3,
    "start_time": "2021-12-09T13:52:51.191Z"
   },
   {
    "duration": 3,
    "start_time": "2021-12-09T13:52:51.198Z"
   },
   {
    "duration": 5,
    "start_time": "2021-12-09T13:52:51.202Z"
   },
   {
    "duration": 74,
    "start_time": "2021-12-09T13:52:51.208Z"
   },
   {
    "duration": 52,
    "start_time": "2021-12-09T13:52:51.284Z"
   },
   {
    "duration": 26,
    "start_time": "2021-12-09T13:52:51.339Z"
   },
   {
    "duration": 35,
    "start_time": "2021-12-09T13:52:51.367Z"
   },
   {
    "duration": 11,
    "start_time": "2021-12-09T13:52:51.404Z"
   },
   {
    "duration": 52,
    "start_time": "2021-12-09T13:52:51.417Z"
   },
   {
    "duration": 7,
    "start_time": "2021-12-09T13:52:51.470Z"
   },
   {
    "duration": 11,
    "start_time": "2021-12-09T13:52:51.479Z"
   },
   {
    "duration": 6673,
    "start_time": "2021-12-09T13:52:51.492Z"
   },
   {
    "duration": 1341,
    "start_time": "2021-12-09T13:52:56.827Z"
   },
   {
    "duration": 1341,
    "start_time": "2021-12-09T13:52:56.829Z"
   },
   {
    "duration": 1340,
    "start_time": "2021-12-09T13:52:56.831Z"
   },
   {
    "duration": 1340,
    "start_time": "2021-12-09T13:52:56.833Z"
   },
   {
    "duration": 1340,
    "start_time": "2021-12-09T13:52:56.834Z"
   },
   {
    "duration": 1340,
    "start_time": "2021-12-09T13:52:56.836Z"
   },
   {
    "duration": 1339,
    "start_time": "2021-12-09T13:52:56.838Z"
   },
   {
    "duration": 1339,
    "start_time": "2021-12-09T13:52:56.839Z"
   },
   {
    "duration": 1339,
    "start_time": "2021-12-09T13:52:56.841Z"
   },
   {
    "duration": 1339,
    "start_time": "2021-12-09T13:52:56.843Z"
   },
   {
    "duration": 1336,
    "start_time": "2021-12-09T13:52:56.847Z"
   },
   {
    "duration": 1336,
    "start_time": "2021-12-09T13:52:56.849Z"
   },
   {
    "duration": 1335,
    "start_time": "2021-12-09T13:52:56.851Z"
   },
   {
    "duration": 1334,
    "start_time": "2021-12-09T13:52:56.853Z"
   },
   {
    "duration": 1335,
    "start_time": "2021-12-09T13:52:56.854Z"
   },
   {
    "duration": 9,
    "start_time": "2021-12-09T13:53:55.853Z"
   },
   {
    "duration": 6,
    "start_time": "2021-12-09T13:53:57.226Z"
   },
   {
    "duration": 4,
    "start_time": "2021-12-09T13:53:57.835Z"
   },
   {
    "duration": 686,
    "start_time": "2021-12-09T13:54:00.020Z"
   },
   {
    "duration": 7,
    "start_time": "2021-12-09T13:54:02.629Z"
   },
   {
    "duration": 8377,
    "start_time": "2021-12-09T13:54:10.064Z"
   },
   {
    "duration": 1324,
    "start_time": "2021-12-09T13:54:17.119Z"
   },
   {
    "duration": 1324,
    "start_time": "2021-12-09T13:54:17.121Z"
   },
   {
    "duration": 11,
    "start_time": "2021-12-09T13:54:28.066Z"
   },
   {
    "duration": 6427,
    "start_time": "2021-12-09T13:54:31.493Z"
   },
   {
    "duration": 16,
    "start_time": "2021-12-09T13:54:39.441Z"
   },
   {
    "duration": 1601,
    "start_time": "2021-12-09T13:55:13.183Z"
   },
   {
    "duration": 2,
    "start_time": "2021-12-09T13:55:14.786Z"
   },
   {
    "duration": 6,
    "start_time": "2021-12-09T13:55:14.790Z"
   },
   {
    "duration": 6,
    "start_time": "2021-12-09T13:55:14.797Z"
   },
   {
    "duration": 73,
    "start_time": "2021-12-09T13:55:14.804Z"
   },
   {
    "duration": 50,
    "start_time": "2021-12-09T13:55:14.879Z"
   },
   {
    "duration": 27,
    "start_time": "2021-12-09T13:55:14.931Z"
   },
   {
    "duration": 35,
    "start_time": "2021-12-09T13:55:14.961Z"
   },
   {
    "duration": 14,
    "start_time": "2021-12-09T13:55:14.999Z"
   },
   {
    "duration": 49,
    "start_time": "2021-12-09T13:55:15.015Z"
   },
   {
    "duration": 26,
    "start_time": "2021-12-09T13:55:15.066Z"
   },
   {
    "duration": 11,
    "start_time": "2021-12-09T13:55:15.094Z"
   },
   {
    "duration": 31,
    "start_time": "2021-12-09T13:55:15.107Z"
   },
   {
    "duration": 11,
    "start_time": "2021-12-09T13:55:15.140Z"
   },
   {
    "duration": 30,
    "start_time": "2021-12-09T13:55:15.153Z"
   },
   {
    "duration": 742,
    "start_time": "2021-12-09T13:55:15.185Z"
   },
   {
    "duration": 15,
    "start_time": "2021-12-09T13:55:15.929Z"
   },
   {
    "duration": 11,
    "start_time": "2021-12-09T13:55:15.946Z"
   },
   {
    "duration": 12,
    "start_time": "2021-12-09T13:55:15.959Z"
   },
   {
    "duration": 725,
    "start_time": "2021-12-09T13:55:15.972Z"
   },
   {
    "duration": 723,
    "start_time": "2021-12-09T13:55:16.698Z"
   },
   {
    "duration": 771,
    "start_time": "2021-12-09T13:55:17.424Z"
   },
   {
    "duration": 7,
    "start_time": "2021-12-09T13:55:18.197Z"
   },
   {
    "duration": 6,
    "start_time": "2021-12-09T13:55:18.205Z"
   },
   {
    "duration": 5,
    "start_time": "2021-12-09T13:55:18.213Z"
   },
   {
    "duration": 28,
    "start_time": "2021-12-09T13:55:18.219Z"
   },
   {
    "duration": 5,
    "start_time": "2021-12-09T13:55:18.248Z"
   },
   {
    "duration": 6,
    "start_time": "2021-12-09T13:55:18.255Z"
   },
   {
    "duration": 87,
    "start_time": "2021-12-09T13:56:19.709Z"
   },
   {
    "duration": 684,
    "start_time": "2021-12-09T13:56:34.123Z"
   },
   {
    "duration": 702,
    "start_time": "2021-12-09T13:57:54.706Z"
   },
   {
    "duration": 4,
    "start_time": "2021-12-09T13:58:14.639Z"
   },
   {
    "duration": 685,
    "start_time": "2021-12-09T13:58:16.556Z"
   },
   {
    "duration": 1476,
    "start_time": "2021-12-09T13:58:23.199Z"
   },
   {
    "duration": 3,
    "start_time": "2021-12-09T13:58:24.677Z"
   },
   {
    "duration": 4,
    "start_time": "2021-12-09T13:58:24.682Z"
   },
   {
    "duration": 4,
    "start_time": "2021-12-09T13:58:24.688Z"
   },
   {
    "duration": 74,
    "start_time": "2021-12-09T13:58:24.694Z"
   },
   {
    "duration": 53,
    "start_time": "2021-12-09T13:58:24.770Z"
   },
   {
    "duration": 33,
    "start_time": "2021-12-09T13:58:24.825Z"
   },
   {
    "duration": 35,
    "start_time": "2021-12-09T13:58:24.860Z"
   },
   {
    "duration": 12,
    "start_time": "2021-12-09T13:58:24.897Z"
   },
   {
    "duration": 50,
    "start_time": "2021-12-09T13:58:24.910Z"
   },
   {
    "duration": 8,
    "start_time": "2021-12-09T13:58:24.962Z"
   },
   {
    "duration": 7,
    "start_time": "2021-12-09T13:58:24.972Z"
   },
   {
    "duration": 10,
    "start_time": "2021-12-09T13:58:24.981Z"
   },
   {
    "duration": 6,
    "start_time": "2021-12-09T13:58:24.993Z"
   },
   {
    "duration": 6,
    "start_time": "2021-12-09T13:58:25.001Z"
   },
   {
    "duration": 745,
    "start_time": "2021-12-09T13:58:25.009Z"
   },
   {
    "duration": 7,
    "start_time": "2021-12-09T13:58:25.757Z"
   },
   {
    "duration": 11,
    "start_time": "2021-12-09T13:58:25.766Z"
   },
   {
    "duration": 10,
    "start_time": "2021-12-09T13:58:25.779Z"
   },
   {
    "duration": 761,
    "start_time": "2021-12-09T13:58:25.791Z"
   },
   {
    "duration": 754,
    "start_time": "2021-12-09T13:58:26.554Z"
   },
   {
    "duration": 881,
    "start_time": "2021-12-09T13:58:27.313Z"
   },
   {
    "duration": 6,
    "start_time": "2021-12-09T13:58:28.196Z"
   },
   {
    "duration": 6,
    "start_time": "2021-12-09T13:58:28.204Z"
   },
   {
    "duration": 9,
    "start_time": "2021-12-09T13:58:28.211Z"
   },
   {
    "duration": 25,
    "start_time": "2021-12-09T13:58:28.222Z"
   },
   {
    "duration": 5,
    "start_time": "2021-12-09T13:58:28.249Z"
   },
   {
    "duration": 6,
    "start_time": "2021-12-09T13:58:28.256Z"
   },
   {
    "duration": 30,
    "start_time": "2021-12-09T13:59:11.405Z"
   },
   {
    "duration": 6,
    "start_time": "2021-12-09T14:00:38.997Z"
   },
   {
    "duration": 40,
    "start_time": "2021-12-09T14:01:09.959Z"
   },
   {
    "duration": 10,
    "start_time": "2021-12-09T14:01:15.540Z"
   },
   {
    "duration": 9,
    "start_time": "2021-12-09T14:01:22.569Z"
   },
   {
    "duration": 6,
    "start_time": "2021-12-09T14:04:15.236Z"
   },
   {
    "duration": 6,
    "start_time": "2021-12-09T14:05:07.557Z"
   },
   {
    "duration": 5,
    "start_time": "2021-12-09T14:05:11.658Z"
   },
   {
    "duration": 7,
    "start_time": "2021-12-09T14:05:29.418Z"
   },
   {
    "duration": 6,
    "start_time": "2021-12-09T14:05:39.648Z"
   },
   {
    "duration": 10,
    "start_time": "2021-12-09T14:05:46.765Z"
   },
   {
    "duration": 6,
    "start_time": "2021-12-09T14:05:52.688Z"
   },
   {
    "duration": 5,
    "start_time": "2021-12-09T14:05:57.530Z"
   },
   {
    "duration": 6,
    "start_time": "2021-12-09T14:06:02.758Z"
   },
   {
    "duration": 1376,
    "start_time": "2021-12-09T14:06:26.168Z"
   },
   {
    "duration": 7043,
    "start_time": "2021-12-09T14:07:02.325Z"
   },
   {
    "duration": 30,
    "start_time": "2021-12-09T14:07:14.295Z"
   },
   {
    "duration": 5,
    "start_time": "2021-12-09T14:07:21.862Z"
   },
   {
    "duration": 6,
    "start_time": "2021-12-09T14:07:25.178Z"
   },
   {
    "duration": 701,
    "start_time": "2021-12-09T14:07:35.906Z"
   },
   {
    "duration": 261,
    "start_time": "2021-12-09T14:12:05.801Z"
   },
   {
    "duration": 285,
    "start_time": "2021-12-09T14:12:11.903Z"
   },
   {
    "duration": 811,
    "start_time": "2021-12-09T14:12:24.848Z"
   },
   {
    "duration": 393,
    "start_time": "2021-12-09T14:12:59.528Z"
   },
   {
    "duration": 11,
    "start_time": "2021-12-09T14:13:00.063Z"
   },
   {
    "duration": 2,
    "start_time": "2021-12-09T14:13:01.810Z"
   },
   {
    "duration": 2,
    "start_time": "2021-12-09T14:13:02.185Z"
   },
   {
    "duration": 66,
    "start_time": "2021-12-09T14:13:04.932Z"
   },
   {
    "duration": 43,
    "start_time": "2021-12-09T14:13:07.264Z"
   },
   {
    "duration": 27,
    "start_time": "2021-12-09T14:13:11.282Z"
   },
   {
    "duration": 12,
    "start_time": "2021-12-09T14:13:17.301Z"
   },
   {
    "duration": 34,
    "start_time": "2021-12-09T14:13:29.927Z"
   },
   {
    "duration": 10,
    "start_time": "2021-12-09T14:13:30.640Z"
   },
   {
    "duration": 91,
    "start_time": "2021-12-09T14:13:51.323Z"
   },
   {
    "duration": 7,
    "start_time": "2021-12-09T14:13:54.878Z"
   },
   {
    "duration": 7842,
    "start_time": "2021-12-09T14:14:01.906Z"
   },
   {
    "duration": 6,
    "start_time": "2021-12-09T14:14:15.527Z"
   },
   {
    "duration": 24,
    "start_time": "2021-12-09T14:14:32.787Z"
   },
   {
    "duration": 7,
    "start_time": "2021-12-09T14:15:14.590Z"
   },
   {
    "duration": 27,
    "start_time": "2021-12-09T14:15:23.236Z"
   },
   {
    "duration": 9231,
    "start_time": "2021-12-09T14:25:58.021Z"
   },
   {
    "duration": 1367,
    "start_time": "2021-12-09T14:26:05.887Z"
   },
   {
    "duration": 382,
    "start_time": "2021-12-09T14:26:22.395Z"
   },
   {
    "duration": 8,
    "start_time": "2021-12-09T14:26:23.942Z"
   },
   {
    "duration": 2,
    "start_time": "2021-12-09T14:26:24.293Z"
   },
   {
    "duration": 3,
    "start_time": "2021-12-09T14:26:24.455Z"
   },
   {
    "duration": 98,
    "start_time": "2021-12-09T14:26:27.081Z"
   },
   {
    "duration": 40,
    "start_time": "2021-12-09T14:26:29.633Z"
   },
   {
    "duration": 25,
    "start_time": "2021-12-09T14:26:32.395Z"
   },
   {
    "duration": 33,
    "start_time": "2021-12-09T14:26:35.356Z"
   },
   {
    "duration": 11,
    "start_time": "2021-12-09T14:26:36.494Z"
   },
   {
    "duration": 25,
    "start_time": "2021-12-09T14:26:41.462Z"
   },
   {
    "duration": 7,
    "start_time": "2021-12-09T14:26:45.872Z"
   },
   {
    "duration": 25,
    "start_time": "2021-12-09T14:26:59.516Z"
   },
   {
    "duration": 8,
    "start_time": "2021-12-09T14:29:43.715Z"
   },
   {
    "duration": 29,
    "start_time": "2021-12-09T14:29:46.908Z"
   },
   {
    "duration": 7,
    "start_time": "2021-12-09T14:30:31.028Z"
   },
   {
    "duration": 28,
    "start_time": "2021-12-09T14:30:32.844Z"
   },
   {
    "duration": 10,
    "start_time": "2021-12-09T14:30:43.413Z"
   },
   {
    "duration": 5,
    "start_time": "2021-12-09T14:30:43.810Z"
   },
   {
    "duration": 5,
    "start_time": "2021-12-09T14:30:44.207Z"
   },
   {
    "duration": 794,
    "start_time": "2021-12-09T14:30:45.871Z"
   },
   {
    "duration": 3,
    "start_time": "2021-12-09T14:30:51.857Z"
   },
   {
    "duration": 7,
    "start_time": "2021-12-09T14:30:53.933Z"
   },
   {
    "duration": 749,
    "start_time": "2021-12-09T14:31:11.445Z"
   },
   {
    "duration": 6,
    "start_time": "2021-12-09T14:31:41.472Z"
   },
   {
    "duration": 13,
    "start_time": "2021-12-09T14:34:25.696Z"
   },
   {
    "duration": 12,
    "start_time": "2021-12-09T14:34:27.992Z"
   },
   {
    "duration": 695,
    "start_time": "2021-12-09T14:34:29.600Z"
   },
   {
    "duration": 673,
    "start_time": "2021-12-09T14:34:32.797Z"
   },
   {
    "duration": 708,
    "start_time": "2021-12-09T14:34:33.473Z"
   },
   {
    "duration": 703,
    "start_time": "2021-12-09T14:34:45.188Z"
   },
   {
    "duration": 6,
    "start_time": "2021-12-09T14:34:58.199Z"
   },
   {
    "duration": 6,
    "start_time": "2021-12-09T14:34:58.775Z"
   },
   {
    "duration": 5,
    "start_time": "2021-12-09T14:35:02.145Z"
   },
   {
    "duration": 7,
    "start_time": "2021-12-09T14:35:07.271Z"
   },
   {
    "duration": 7,
    "start_time": "2021-12-09T14:35:07.627Z"
   },
   {
    "duration": 4,
    "start_time": "2021-12-09T14:35:09.289Z"
   },
   {
    "duration": 9,
    "start_time": "2021-12-09T14:54:58.016Z"
   },
   {
    "duration": 5,
    "start_time": "2021-12-09T14:54:58.398Z"
   },
   {
    "duration": 4,
    "start_time": "2021-12-09T14:54:59.205Z"
   },
   {
    "duration": 726,
    "start_time": "2021-12-09T14:55:00.359Z"
   },
   {
    "duration": 101,
    "start_time": "2021-12-09T15:06:03.036Z"
   },
   {
    "duration": 100,
    "start_time": "2021-12-09T15:06:20.414Z"
   },
   {
    "duration": 11,
    "start_time": "2021-12-09T15:06:43.032Z"
   },
   {
    "duration": 7243,
    "start_time": "2021-12-09T15:09:58.732Z"
   },
   {
    "duration": 390,
    "start_time": "2021-12-09T15:10:09.758Z"
   },
   {
    "duration": 11,
    "start_time": "2021-12-09T15:10:10.150Z"
   },
   {
    "duration": 2,
    "start_time": "2021-12-09T15:10:11.700Z"
   },
   {
    "duration": 2,
    "start_time": "2021-12-09T15:10:12.016Z"
   },
   {
    "duration": 58,
    "start_time": "2021-12-09T15:10:22.032Z"
   },
   {
    "duration": 11,
    "start_time": "2021-12-09T15:10:30.382Z"
   },
   {
    "duration": 30,
    "start_time": "2021-12-09T15:10:35.780Z"
   },
   {
    "duration": 53,
    "start_time": "2021-12-09T15:10:56.385Z"
   },
   {
    "duration": 21,
    "start_time": "2021-12-09T15:11:04.163Z"
   },
   {
    "duration": 66,
    "start_time": "2021-12-09T15:11:13.020Z"
   },
   {
    "duration": 263,
    "start_time": "2021-12-09T15:43:21.633Z"
   },
   {
    "duration": 322,
    "start_time": "2021-12-09T15:43:31.897Z"
   },
   {
    "duration": 393,
    "start_time": "2021-12-09T15:43:43.101Z"
   },
   {
    "duration": 8,
    "start_time": "2021-12-09T15:43:43.496Z"
   },
   {
    "duration": 6,
    "start_time": "2021-12-09T15:43:43.506Z"
   },
   {
    "duration": 4,
    "start_time": "2021-12-09T15:43:43.514Z"
   },
   {
    "duration": 65,
    "start_time": "2021-12-09T15:43:43.520Z"
   },
   {
    "duration": 25,
    "start_time": "2021-12-09T15:43:43.587Z"
   },
   {
    "duration": 57,
    "start_time": "2021-12-09T15:43:43.614Z"
   },
   {
    "duration": 29,
    "start_time": "2021-12-09T15:43:43.673Z"
   },
   {
    "duration": 49,
    "start_time": "2021-12-09T15:43:43.705Z"
   },
   {
    "duration": 8,
    "start_time": "2021-12-09T15:43:43.757Z"
   },
   {
    "duration": 30,
    "start_time": "2021-12-09T15:43:43.767Z"
   },
   {
    "duration": 6,
    "start_time": "2021-12-09T15:43:43.799Z"
   },
   {
    "duration": 6,
    "start_time": "2021-12-09T15:43:43.807Z"
   },
   {
    "duration": 36,
    "start_time": "2021-12-09T15:43:43.815Z"
   },
   {
    "duration": 10,
    "start_time": "2021-12-09T15:43:43.853Z"
   },
   {
    "duration": 6,
    "start_time": "2021-12-09T15:43:43.865Z"
   },
   {
    "duration": 745,
    "start_time": "2021-12-09T15:43:43.873Z"
   },
   {
    "duration": 10,
    "start_time": "2021-12-09T15:43:44.620Z"
   },
   {
    "duration": 914,
    "start_time": "2021-12-09T15:43:44.632Z"
   },
   {
    "duration": 731,
    "start_time": "2021-12-09T15:43:45.548Z"
   },
   {
    "duration": 808,
    "start_time": "2021-12-09T15:43:46.280Z"
   },
   {
    "duration": 12,
    "start_time": "2021-12-09T15:43:47.090Z"
   },
   {
    "duration": 6,
    "start_time": "2021-12-09T15:43:47.104Z"
   },
   {
    "duration": 26,
    "start_time": "2021-12-09T15:43:47.111Z"
   },
   {
    "duration": 14,
    "start_time": "2021-12-09T15:43:47.139Z"
   },
   {
    "duration": 15,
    "start_time": "2021-12-09T15:43:47.155Z"
   },
   {
    "duration": 24,
    "start_time": "2021-12-09T15:43:47.173Z"
   },
   {
    "duration": 8,
    "start_time": "2021-12-09T15:43:47.199Z"
   },
   {
    "duration": 13,
    "start_time": "2021-12-09T15:44:32.189Z"
   },
   {
    "duration": 4,
    "start_time": "2021-12-09T15:48:59.449Z"
   },
   {
    "duration": 4,
    "start_time": "2021-12-09T15:49:03.647Z"
   },
   {
    "duration": 4,
    "start_time": "2021-12-09T15:49:07.881Z"
   },
   {
    "duration": 4,
    "start_time": "2021-12-09T15:49:13.335Z"
   },
   {
    "duration": 257,
    "start_time": "2021-12-09T15:51:26.883Z"
   },
   {
    "duration": 4,
    "start_time": "2021-12-09T15:51:35.538Z"
   },
   {
    "duration": 11,
    "start_time": "2021-12-09T15:51:47.598Z"
   },
   {
    "duration": 6,
    "start_time": "2021-12-09T15:52:57.494Z"
   },
   {
    "duration": 653,
    "start_time": "2021-12-09T16:03:22.141Z"
   },
   {
    "duration": 259,
    "start_time": "2021-12-09T16:04:26.638Z"
   },
   {
    "duration": 314,
    "start_time": "2021-12-09T16:04:39.179Z"
   },
   {
    "duration": 404,
    "start_time": "2021-12-09T16:04:54.635Z"
   },
   {
    "duration": 549,
    "start_time": "2021-12-09T16:04:58.641Z"
   },
   {
    "duration": 830,
    "start_time": "2021-12-09T16:05:51.352Z"
   },
   {
    "duration": 688,
    "start_time": "2021-12-09T16:06:00.462Z"
   },
   {
    "duration": 277,
    "start_time": "2021-12-09T16:06:28.834Z"
   },
   {
    "duration": 775,
    "start_time": "2021-12-09T16:06:31.828Z"
   },
   {
    "duration": 545,
    "start_time": "2021-12-09T16:06:36.634Z"
   },
   {
    "duration": 542,
    "start_time": "2021-12-09T16:09:15.130Z"
   },
   {
    "duration": 781,
    "start_time": "2021-12-09T16:09:27.945Z"
   },
   {
    "duration": 776,
    "start_time": "2021-12-09T16:10:37.008Z"
   },
   {
    "duration": 817,
    "start_time": "2021-12-09T16:10:56.940Z"
   },
   {
    "duration": 841,
    "start_time": "2021-12-09T16:11:22.327Z"
   },
   {
    "duration": 954,
    "start_time": "2021-12-09T16:11:24.909Z"
   },
   {
    "duration": 6,
    "start_time": "2021-12-09T16:26:28.648Z"
   },
   {
    "duration": 770,
    "start_time": "2021-12-09T16:28:50.465Z"
   },
   {
    "duration": 102,
    "start_time": "2021-12-09T16:36:32.425Z"
   },
   {
    "duration": 7866,
    "start_time": "2021-12-09T16:37:15.232Z"
   },
   {
    "duration": 5,
    "start_time": "2021-12-09T16:38:05.531Z"
   },
   {
    "duration": 6,
    "start_time": "2021-12-09T16:38:21.646Z"
   },
   {
    "duration": 5,
    "start_time": "2021-12-09T16:38:22.085Z"
   },
   {
    "duration": 5,
    "start_time": "2021-12-09T16:38:23.069Z"
   },
   {
    "duration": 6,
    "start_time": "2021-12-09T17:34:49.912Z"
   },
   {
    "duration": 7,
    "start_time": "2021-12-09T17:35:03.177Z"
   },
   {
    "duration": 256,
    "start_time": "2021-12-09T17:36:34.587Z"
   },
   {
    "duration": 722,
    "start_time": "2021-12-09T17:36:37.925Z"
   },
   {
    "duration": 800,
    "start_time": "2021-12-09T17:37:29.123Z"
   },
   {
    "duration": 1527,
    "start_time": "2021-12-09T17:41:02.652Z"
   },
   {
    "duration": 3,
    "start_time": "2021-12-09T17:41:04.181Z"
   },
   {
    "duration": 25,
    "start_time": "2021-12-09T17:41:04.186Z"
   },
   {
    "duration": 28,
    "start_time": "2021-12-09T17:41:04.213Z"
   },
   {
    "duration": 87,
    "start_time": "2021-12-09T17:41:04.242Z"
   },
   {
    "duration": 33,
    "start_time": "2021-12-09T17:41:04.330Z"
   },
   {
    "duration": 59,
    "start_time": "2021-12-09T17:41:04.365Z"
   },
   {
    "duration": 38,
    "start_time": "2021-12-09T17:41:04.427Z"
   },
   {
    "duration": 37,
    "start_time": "2021-12-09T17:41:04.467Z"
   },
   {
    "duration": 12,
    "start_time": "2021-12-09T17:41:04.506Z"
   },
   {
    "duration": 53,
    "start_time": "2021-12-09T17:41:04.520Z"
   },
   {
    "duration": 16,
    "start_time": "2021-12-09T17:41:04.575Z"
   },
   {
    "duration": 35,
    "start_time": "2021-12-09T17:41:04.593Z"
   },
   {
    "duration": 14,
    "start_time": "2021-12-09T17:41:04.630Z"
   },
   {
    "duration": 9,
    "start_time": "2021-12-09T17:41:04.646Z"
   },
   {
    "duration": 33,
    "start_time": "2021-12-09T17:41:04.657Z"
   },
   {
    "duration": 723,
    "start_time": "2021-12-09T17:41:04.692Z"
   },
   {
    "duration": 11,
    "start_time": "2021-12-09T17:41:05.417Z"
   },
   {
    "duration": 740,
    "start_time": "2021-12-09T17:41:05.429Z"
   },
   {
    "duration": 694,
    "start_time": "2021-12-09T17:41:06.171Z"
   },
   {
    "duration": 704,
    "start_time": "2021-12-09T17:41:06.867Z"
   },
   {
    "duration": 5,
    "start_time": "2021-12-09T17:41:07.573Z"
   },
   {
    "duration": 18,
    "start_time": "2021-12-09T17:41:07.581Z"
   },
   {
    "duration": 44,
    "start_time": "2021-12-09T17:41:07.601Z"
   },
   {
    "duration": 853,
    "start_time": "2021-12-09T17:41:07.647Z"
   },
   {
    "duration": 763,
    "start_time": "2021-12-09T17:41:08.503Z"
   },
   {
    "duration": 829,
    "start_time": "2021-12-09T17:41:09.268Z"
   },
   {
    "duration": 771,
    "start_time": "2021-12-09T17:41:10.099Z"
   },
   {
    "duration": 7,
    "start_time": "2021-12-09T17:41:10.872Z"
   },
   {
    "duration": 5,
    "start_time": "2021-12-09T17:41:10.881Z"
   },
   {
    "duration": 5,
    "start_time": "2021-12-09T17:41:10.887Z"
   },
   {
    "duration": 6,
    "start_time": "2021-12-09T17:41:10.893Z"
   },
   {
    "duration": 10,
    "start_time": "2021-12-09T17:41:10.901Z"
   },
   {
    "duration": 31,
    "start_time": "2021-12-09T17:41:10.913Z"
   },
   {
    "duration": 5,
    "start_time": "2021-12-09T17:41:10.946Z"
   },
   {
    "duration": 534,
    "start_time": "2021-12-09T18:10:52.948Z"
   },
   {
    "duration": 757,
    "start_time": "2021-12-09T18:11:10.668Z"
   },
   {
    "duration": 516,
    "start_time": "2021-12-09T18:35:42.385Z"
   },
   {
    "duration": 1100,
    "start_time": "2021-12-09T18:43:39.799Z"
   },
   {
    "duration": 1508,
    "start_time": "2021-12-09T18:44:36.195Z"
   },
   {
    "duration": 3,
    "start_time": "2021-12-09T18:44:37.705Z"
   },
   {
    "duration": 4,
    "start_time": "2021-12-09T18:44:37.711Z"
   },
   {
    "duration": 4,
    "start_time": "2021-12-09T18:44:37.717Z"
   },
   {
    "duration": 75,
    "start_time": "2021-12-09T18:44:37.723Z"
   },
   {
    "duration": 25,
    "start_time": "2021-12-09T18:44:37.800Z"
   },
   {
    "duration": 66,
    "start_time": "2021-12-09T18:44:37.827Z"
   },
   {
    "duration": 28,
    "start_time": "2021-12-09T18:44:37.896Z"
   },
   {
    "duration": 50,
    "start_time": "2021-12-09T18:44:37.926Z"
   },
   {
    "duration": 13,
    "start_time": "2021-12-09T18:44:37.977Z"
   },
   {
    "duration": 25,
    "start_time": "2021-12-09T18:44:37.992Z"
   },
   {
    "duration": 27,
    "start_time": "2021-12-09T18:44:38.018Z"
   },
   {
    "duration": 11,
    "start_time": "2021-12-09T18:44:38.047Z"
   },
   {
    "duration": 9,
    "start_time": "2021-12-09T18:44:38.060Z"
   },
   {
    "duration": 9,
    "start_time": "2021-12-09T18:44:38.070Z"
   },
   {
    "duration": 9,
    "start_time": "2021-12-09T18:44:38.081Z"
   },
   {
    "duration": 727,
    "start_time": "2021-12-09T18:44:38.092Z"
   },
   {
    "duration": 10,
    "start_time": "2021-12-09T18:44:38.821Z"
   },
   {
    "duration": 703,
    "start_time": "2021-12-09T18:44:38.833Z"
   },
   {
    "duration": 688,
    "start_time": "2021-12-09T18:44:39.538Z"
   },
   {
    "duration": 702,
    "start_time": "2021-12-09T18:44:40.228Z"
   },
   {
    "duration": 5,
    "start_time": "2021-12-09T18:44:40.932Z"
   },
   {
    "duration": 5,
    "start_time": "2021-12-09T18:44:40.946Z"
   },
   {
    "duration": 17,
    "start_time": "2021-12-09T18:44:40.953Z"
   },
   {
    "duration": 609,
    "start_time": "2021-12-09T18:44:40.972Z"
   },
   {
    "duration": 780,
    "start_time": "2021-12-09T18:44:41.583Z"
   },
   {
    "duration": 762,
    "start_time": "2021-12-09T18:44:42.365Z"
   },
   {
    "duration": 807,
    "start_time": "2021-12-09T18:44:43.129Z"
   },
   {
    "duration": 17,
    "start_time": "2021-12-09T18:44:43.937Z"
   },
   {
    "duration": 6,
    "start_time": "2021-12-09T18:44:43.956Z"
   },
   {
    "duration": 7,
    "start_time": "2021-12-09T18:44:43.964Z"
   },
   {
    "duration": 11,
    "start_time": "2021-12-09T18:44:43.973Z"
   },
   {
    "duration": 5,
    "start_time": "2021-12-09T18:44:43.986Z"
   },
   {
    "duration": 5,
    "start_time": "2021-12-09T18:44:43.993Z"
   },
   {
    "duration": 7,
    "start_time": "2021-12-09T18:44:44.000Z"
   },
   {
    "duration": 870,
    "start_time": "2021-12-09T18:46:01.364Z"
   },
   {
    "duration": 504,
    "start_time": "2021-12-09T18:46:27.191Z"
   },
   {
    "duration": 593,
    "start_time": "2021-12-09T18:46:58.075Z"
   },
   {
    "duration": 613,
    "start_time": "2021-12-09T18:47:38.993Z"
   },
   {
    "duration": 716,
    "start_time": "2021-12-09T18:48:00.443Z"
   },
   {
    "duration": 698,
    "start_time": "2021-12-09T18:48:03.438Z"
   },
   {
    "duration": 11,
    "start_time": "2021-12-09T19:04:45.124Z"
   },
   {
    "duration": 442,
    "start_time": "2021-12-09T19:06:14.423Z"
   },
   {
    "duration": 354,
    "start_time": "2021-12-10T09:15:22.079Z"
   },
   {
    "duration": 2001,
    "start_time": "2021-12-10T09:15:29.583Z"
   },
   {
    "duration": 3,
    "start_time": "2021-12-10T09:15:31.587Z"
   },
   {
    "duration": 7,
    "start_time": "2021-12-10T09:15:31.592Z"
   },
   {
    "duration": 10,
    "start_time": "2021-12-10T09:15:31.601Z"
   },
   {
    "duration": 101,
    "start_time": "2021-12-10T09:15:31.613Z"
   },
   {
    "duration": 34,
    "start_time": "2021-12-10T09:15:31.716Z"
   },
   {
    "duration": 92,
    "start_time": "2021-12-10T09:15:31.752Z"
   },
   {
    "duration": 39,
    "start_time": "2021-12-10T09:15:31.847Z"
   },
   {
    "duration": 64,
    "start_time": "2021-12-10T09:15:31.889Z"
   },
   {
    "duration": 18,
    "start_time": "2021-12-10T09:15:31.955Z"
   },
   {
    "duration": 64,
    "start_time": "2021-12-10T09:15:31.975Z"
   },
   {
    "duration": 9,
    "start_time": "2021-12-10T09:15:32.042Z"
   },
   {
    "duration": 22,
    "start_time": "2021-12-10T09:15:32.054Z"
   },
   {
    "duration": 32,
    "start_time": "2021-12-10T09:15:32.079Z"
   },
   {
    "duration": 12,
    "start_time": "2021-12-10T09:15:32.114Z"
   },
   {
    "duration": 20,
    "start_time": "2021-12-10T09:15:32.128Z"
   },
   {
    "duration": 1175,
    "start_time": "2021-12-10T09:15:32.150Z"
   },
   {
    "duration": 16,
    "start_time": "2021-12-10T09:15:33.328Z"
   },
   {
    "duration": 1190,
    "start_time": "2021-12-10T09:15:33.346Z"
   },
   {
    "duration": 1341,
    "start_time": "2021-12-10T09:15:34.538Z"
   },
   {
    "duration": 1163,
    "start_time": "2021-12-10T09:15:35.881Z"
   },
   {
    "duration": 7,
    "start_time": "2021-12-10T09:15:37.046Z"
   },
   {
    "duration": 5,
    "start_time": "2021-12-10T09:15:37.058Z"
   },
   {
    "duration": 18,
    "start_time": "2021-12-10T09:15:37.066Z"
   },
   {
    "duration": 1339,
    "start_time": "2021-12-10T09:15:37.087Z"
   },
   {
    "duration": 1286,
    "start_time": "2021-12-10T09:15:38.429Z"
   },
   {
    "duration": 1371,
    "start_time": "2021-12-10T09:15:39.717Z"
   },
   {
    "duration": 1339,
    "start_time": "2021-12-10T09:15:41.090Z"
   },
   {
    "duration": 9,
    "start_time": "2021-12-10T09:15:42.431Z"
   },
   {
    "duration": 9,
    "start_time": "2021-12-10T09:15:42.442Z"
   },
   {
    "duration": 7,
    "start_time": "2021-12-10T09:15:42.453Z"
   },
   {
    "duration": 8,
    "start_time": "2021-12-10T09:15:42.462Z"
   },
   {
    "duration": 7,
    "start_time": "2021-12-10T09:15:42.472Z"
   },
   {
    "duration": 6,
    "start_time": "2021-12-10T09:15:42.524Z"
   },
   {
    "duration": 11,
    "start_time": "2021-12-10T09:15:42.532Z"
   },
   {
    "duration": 18,
    "start_time": "2021-12-10T09:15:42.545Z"
   },
   {
    "duration": 59,
    "start_time": "2021-12-10T09:15:42.566Z"
   },
   {
    "duration": 8111,
    "start_time": "2021-12-10T09:35:24.675Z"
   },
   {
    "duration": 7,
    "start_time": "2021-12-10T09:35:58.795Z"
   },
   {
    "duration": 7,
    "start_time": "2021-12-10T09:36:25.136Z"
   },
   {
    "duration": 10,
    "start_time": "2021-12-10T09:37:09.444Z"
   },
   {
    "duration": 10,
    "start_time": "2021-12-10T09:37:37.930Z"
   },
   {
    "duration": 1826,
    "start_time": "2021-12-10T09:51:27.727Z"
   },
   {
    "duration": 4,
    "start_time": "2021-12-10T09:51:29.555Z"
   },
   {
    "duration": 6,
    "start_time": "2021-12-10T09:51:29.562Z"
   },
   {
    "duration": 9,
    "start_time": "2021-12-10T09:51:29.571Z"
   },
   {
    "duration": 96,
    "start_time": "2021-12-10T09:51:29.582Z"
   },
   {
    "duration": 44,
    "start_time": "2021-12-10T09:51:29.681Z"
   },
   {
    "duration": 70,
    "start_time": "2021-12-10T09:51:29.728Z"
   },
   {
    "duration": 52,
    "start_time": "2021-12-10T09:51:29.801Z"
   },
   {
    "duration": 46,
    "start_time": "2021-12-10T09:51:29.856Z"
   },
   {
    "duration": 31,
    "start_time": "2021-12-10T09:51:29.904Z"
   },
   {
    "duration": 39,
    "start_time": "2021-12-10T09:51:29.938Z"
   },
   {
    "duration": 11,
    "start_time": "2021-12-10T09:51:29.979Z"
   },
   {
    "duration": 42,
    "start_time": "2021-12-10T09:51:29.992Z"
   },
   {
    "duration": 19,
    "start_time": "2021-12-10T09:51:30.036Z"
   },
   {
    "duration": 9,
    "start_time": "2021-12-10T09:51:30.058Z"
   },
   {
    "duration": 11,
    "start_time": "2021-12-10T09:51:30.069Z"
   },
   {
    "duration": 1088,
    "start_time": "2021-12-10T09:51:30.082Z"
   },
   {
    "duration": 17,
    "start_time": "2021-12-10T09:51:31.174Z"
   },
   {
    "duration": 1088,
    "start_time": "2021-12-10T09:51:31.193Z"
   },
   {
    "duration": 1114,
    "start_time": "2021-12-10T09:51:32.284Z"
   },
   {
    "duration": 1045,
    "start_time": "2021-12-10T09:51:33.401Z"
   },
   {
    "duration": 9,
    "start_time": "2021-12-10T09:51:34.448Z"
   },
   {
    "duration": 12,
    "start_time": "2021-12-10T09:51:34.464Z"
   },
   {
    "duration": 22,
    "start_time": "2021-12-10T09:51:34.478Z"
   },
   {
    "duration": 1237,
    "start_time": "2021-12-10T09:51:34.524Z"
   },
   {
    "duration": 1174,
    "start_time": "2021-12-10T09:51:35.763Z"
   },
   {
    "duration": 1238,
    "start_time": "2021-12-10T09:51:36.939Z"
   },
   {
    "duration": 1256,
    "start_time": "2021-12-10T09:51:38.179Z"
   },
   {
    "duration": 8,
    "start_time": "2021-12-10T09:51:39.438Z"
   },
   {
    "duration": 9,
    "start_time": "2021-12-10T09:51:39.449Z"
   },
   {
    "duration": 7,
    "start_time": "2021-12-10T09:51:39.460Z"
   },
   {
    "duration": 9,
    "start_time": "2021-12-10T09:51:39.469Z"
   },
   {
    "duration": 47,
    "start_time": "2021-12-10T09:51:39.480Z"
   },
   {
    "duration": 7,
    "start_time": "2021-12-10T09:51:39.530Z"
   },
   {
    "duration": 9,
    "start_time": "2021-12-10T09:51:39.540Z"
   },
   {
    "duration": 18,
    "start_time": "2021-12-10T09:51:39.551Z"
   },
   {
    "duration": 56,
    "start_time": "2021-12-10T09:51:39.572Z"
   },
   {
    "duration": 1371,
    "start_time": "2022-05-01T07:48:33.458Z"
   },
   {
    "duration": 3,
    "start_time": "2022-05-01T07:49:59.425Z"
   },
   {
    "duration": 352,
    "start_time": "2022-05-01T07:49:59.429Z"
   },
   {
    "duration": 3,
    "start_time": "2022-05-01T07:49:59.783Z"
   },
   {
    "duration": 4,
    "start_time": "2022-05-01T07:49:59.788Z"
   },
   {
    "duration": 4,
    "start_time": "2022-05-01T07:49:59.794Z"
   },
   {
    "duration": 76,
    "start_time": "2022-05-01T07:49:59.800Z"
   },
   {
    "duration": 58,
    "start_time": "2022-05-01T07:49:59.877Z"
   },
   {
    "duration": 56,
    "start_time": "2022-05-01T07:49:59.936Z"
   },
   {
    "duration": 29,
    "start_time": "2022-05-01T07:49:59.994Z"
   },
   {
    "duration": 34,
    "start_time": "2022-05-01T07:50:00.025Z"
   },
   {
    "duration": 12,
    "start_time": "2022-05-01T07:50:00.061Z"
   },
   {
    "duration": 22,
    "start_time": "2022-05-01T07:50:00.093Z"
   },
   {
    "duration": 11,
    "start_time": "2022-05-01T07:50:00.116Z"
   },
   {
    "duration": 7,
    "start_time": "2022-05-01T07:50:00.128Z"
   },
   {
    "duration": 8,
    "start_time": "2022-05-01T07:50:00.137Z"
   },
   {
    "duration": 36,
    "start_time": "2022-05-01T07:50:00.146Z"
   },
   {
    "duration": 19,
    "start_time": "2022-05-01T07:50:00.184Z"
   },
   {
    "duration": 554,
    "start_time": "2022-05-01T07:50:00.205Z"
   },
   {
    "duration": 11,
    "start_time": "2022-05-01T07:50:00.760Z"
   },
   {
    "duration": 554,
    "start_time": "2022-05-01T07:50:00.772Z"
   },
   {
    "duration": 555,
    "start_time": "2022-05-01T07:50:01.327Z"
   },
   {
    "duration": 563,
    "start_time": "2022-05-01T07:50:01.884Z"
   },
   {
    "duration": 7,
    "start_time": "2022-05-01T07:50:02.448Z"
   },
   {
    "duration": 6,
    "start_time": "2022-05-01T07:50:02.459Z"
   },
   {
    "duration": 33,
    "start_time": "2022-05-01T07:50:02.467Z"
   },
   {
    "duration": 859,
    "start_time": "2022-05-01T07:50:02.502Z"
   },
   {
    "duration": 715,
    "start_time": "2022-05-01T07:50:03.363Z"
   },
   {
    "duration": 645,
    "start_time": "2022-05-01T07:50:04.079Z"
   },
   {
    "duration": 665,
    "start_time": "2022-05-01T07:50:04.726Z"
   },
   {
    "duration": 6,
    "start_time": "2022-05-01T07:50:05.392Z"
   },
   {
    "duration": 5,
    "start_time": "2022-05-01T07:50:05.400Z"
   },
   {
    "duration": 7,
    "start_time": "2022-05-01T07:50:05.406Z"
   },
   {
    "duration": 20,
    "start_time": "2022-05-01T07:50:05.415Z"
   },
   {
    "duration": 11,
    "start_time": "2022-05-01T07:50:05.437Z"
   },
   {
    "duration": 5,
    "start_time": "2022-05-01T07:50:05.449Z"
   },
   {
    "duration": 7,
    "start_time": "2022-05-01T07:50:05.456Z"
   },
   {
    "duration": 13,
    "start_time": "2022-05-01T07:50:05.464Z"
   },
   {
    "duration": 22,
    "start_time": "2022-05-01T07:50:05.479Z"
   },
   {
    "duration": 365,
    "start_time": "2022-05-01T07:50:19.360Z"
   },
   {
    "duration": 26,
    "start_time": "2022-05-01T07:50:27.053Z"
   },
   {
    "duration": 372,
    "start_time": "2022-05-01T07:53:01.225Z"
   },
   {
    "duration": 27,
    "start_time": "2022-05-01T07:53:03.281Z"
   },
   {
    "duration": 567,
    "start_time": "2022-05-01T07:53:07.227Z"
   },
   {
    "duration": 3,
    "start_time": "2022-05-01T07:53:27.813Z"
   },
   {
    "duration": 425,
    "start_time": "2022-05-01T07:53:29.995Z"
   },
   {
    "duration": 358,
    "start_time": "2022-05-01T07:53:52.253Z"
   },
   {
    "duration": 450,
    "start_time": "2022-05-01T07:54:49.478Z"
   },
   {
    "duration": 19,
    "start_time": "2022-05-01T07:54:53.328Z"
   },
   {
    "duration": 323,
    "start_time": "2022-05-01T07:55:01.252Z"
   },
   {
    "duration": 37,
    "start_time": "2022-05-01T07:56:47.714Z"
   },
   {
    "duration": 1884,
    "start_time": "2022-05-01T07:56:59.130Z"
   },
   {
    "duration": 1915,
    "start_time": "2022-05-01T07:57:09.185Z"
   },
   {
    "duration": 1871,
    "start_time": "2022-05-01T07:57:13.635Z"
   },
   {
    "duration": 2168,
    "start_time": "2022-05-01T07:57:21.249Z"
   },
   {
    "duration": 4,
    "start_time": "2022-05-01T07:57:28.650Z"
   },
   {
    "duration": 433,
    "start_time": "2022-05-01T07:57:28.655Z"
   },
   {
    "duration": 328,
    "start_time": "2022-05-01T07:57:29.090Z"
   },
   {
    "duration": 37,
    "start_time": "2022-05-01T07:57:29.420Z"
   },
   {
    "duration": 49,
    "start_time": "2022-05-01T07:57:29.460Z"
   },
   {
    "duration": 36,
    "start_time": "2022-05-01T07:57:29.511Z"
   },
   {
    "duration": 21,
    "start_time": "2022-05-01T07:57:29.548Z"
   },
   {
    "duration": 26,
    "start_time": "2022-05-01T07:57:29.571Z"
   },
   {
    "duration": 8,
    "start_time": "2022-05-01T07:57:29.599Z"
   },
   {
    "duration": 9,
    "start_time": "2022-05-01T07:57:29.608Z"
   },
   {
    "duration": 5,
    "start_time": "2022-05-01T07:57:29.619Z"
   },
   {
    "duration": 10,
    "start_time": "2022-05-01T07:57:29.626Z"
   },
   {
    "duration": 600,
    "start_time": "2022-05-01T07:57:29.640Z"
   },
   {
    "duration": 11,
    "start_time": "2022-05-01T07:57:30.242Z"
   },
   {
    "duration": 577,
    "start_time": "2022-05-01T07:57:30.255Z"
   },
   {
    "duration": 568,
    "start_time": "2022-05-01T07:57:30.834Z"
   },
   {
    "duration": 591,
    "start_time": "2022-05-01T07:57:31.404Z"
   },
   {
    "duration": 11,
    "start_time": "2022-05-01T07:57:31.997Z"
   },
   {
    "duration": 13,
    "start_time": "2022-05-01T07:57:32.009Z"
   },
   {
    "duration": 18,
    "start_time": "2022-05-01T07:57:32.023Z"
   },
   {
    "duration": 774,
    "start_time": "2022-05-01T07:57:32.043Z"
   },
   {
    "duration": 734,
    "start_time": "2022-05-01T07:57:32.819Z"
   },
   {
    "duration": 652,
    "start_time": "2022-05-01T07:57:33.554Z"
   },
   {
    "duration": 698,
    "start_time": "2022-05-01T07:57:34.208Z"
   },
   {
    "duration": 6,
    "start_time": "2022-05-01T07:57:34.907Z"
   },
   {
    "duration": 7,
    "start_time": "2022-05-01T07:57:34.915Z"
   },
   {
    "duration": 9,
    "start_time": "2022-05-01T07:57:34.924Z"
   },
   {
    "duration": 10,
    "start_time": "2022-05-01T07:57:34.935Z"
   },
   {
    "duration": 4,
    "start_time": "2022-05-01T07:57:34.947Z"
   },
   {
    "duration": 8,
    "start_time": "2022-05-01T07:57:34.953Z"
   },
   {
    "duration": 31,
    "start_time": "2022-05-01T07:57:34.963Z"
   },
   {
    "duration": 18,
    "start_time": "2022-05-01T07:57:34.995Z"
   },
   {
    "duration": 12,
    "start_time": "2022-05-01T07:57:35.014Z"
   },
   {
    "duration": 11,
    "start_time": "2022-05-01T07:58:01.173Z"
   },
   {
    "duration": 13,
    "start_time": "2022-05-01T07:58:07.237Z"
   },
   {
    "duration": 13,
    "start_time": "2022-05-01T07:58:11.931Z"
   },
   {
    "duration": 13,
    "start_time": "2022-05-01T07:58:19.963Z"
   },
   {
    "duration": 10,
    "start_time": "2022-05-01T07:58:23.077Z"
   },
   {
    "duration": 2292,
    "start_time": "2022-05-01T07:58:25.567Z"
   },
   {
    "duration": 0,
    "start_time": "2022-05-01T07:58:27.860Z"
   },
   {
    "duration": 3,
    "start_time": "2022-05-01T07:58:36.238Z"
   },
   {
    "duration": 424,
    "start_time": "2022-05-01T07:58:36.525Z"
   },
   {
    "duration": 306,
    "start_time": "2022-05-01T07:58:36.951Z"
   },
   {
    "duration": 43,
    "start_time": "2022-05-01T07:58:39.852Z"
   },
   {
    "duration": 52,
    "start_time": "2022-05-01T07:58:42.075Z"
   },
   {
    "duration": 11,
    "start_time": "2022-05-01T07:58:42.702Z"
   },
   {
    "duration": 591,
    "start_time": "2022-05-01T08:00:03.117Z"
   },
   {
    "duration": 579,
    "start_time": "2022-05-01T08:00:18.037Z"
   },
   {
    "duration": 572,
    "start_time": "2022-05-01T08:00:39.032Z"
   },
   {
    "duration": 578,
    "start_time": "2022-05-01T08:01:02.978Z"
   },
   {
    "duration": 936,
    "start_time": "2022-05-01T08:01:12.088Z"
   },
   {
    "duration": 590,
    "start_time": "2022-05-01T08:01:47.969Z"
   },
   {
    "duration": 565,
    "start_time": "2022-05-01T08:01:51.094Z"
   },
   {
    "duration": 2173,
    "start_time": "2022-05-01T08:06:44.083Z"
   },
   {
    "duration": 2044,
    "start_time": "2022-05-01T08:07:02.657Z"
   },
   {
    "duration": 1217,
    "start_time": "2022-05-01T08:07:47.191Z"
   },
   {
    "duration": 790,
    "start_time": "2022-05-01T08:08:08.095Z"
   },
   {
    "duration": 1373,
    "start_time": "2022-05-01T08:08:14.141Z"
   },
   {
    "duration": 1662,
    "start_time": "2022-05-01T08:08:29.255Z"
   },
   {
    "duration": 1192,
    "start_time": "2022-05-01T08:08:39.827Z"
   },
   {
    "duration": 1691,
    "start_time": "2022-05-01T08:08:44.701Z"
   },
   {
    "duration": 1649,
    "start_time": "2022-05-01T08:09:02.047Z"
   },
   {
    "duration": 1718,
    "start_time": "2022-05-01T08:09:11.008Z"
   },
   {
    "duration": 1774,
    "start_time": "2022-05-01T08:09:17.042Z"
   },
   {
    "duration": 1688,
    "start_time": "2022-05-01T08:09:22.565Z"
   },
   {
    "duration": 1690,
    "start_time": "2022-05-01T08:10:47.393Z"
   },
   {
    "duration": 2314,
    "start_time": "2022-05-01T08:12:43.514Z"
   },
   {
    "duration": 2200,
    "start_time": "2022-05-01T08:12:54.435Z"
   },
   {
    "duration": 2369,
    "start_time": "2022-05-01T08:13:31.266Z"
   },
   {
    "duration": 2208,
    "start_time": "2022-05-01T08:15:07.605Z"
   },
   {
    "duration": 2217,
    "start_time": "2022-05-01T08:16:35.701Z"
   },
   {
    "duration": 2494,
    "start_time": "2022-05-01T08:16:52.185Z"
   },
   {
    "duration": 2424,
    "start_time": "2022-05-01T08:19:36.028Z"
   },
   {
    "duration": 2707,
    "start_time": "2022-05-01T08:19:38.575Z"
   },
   {
    "duration": 7,
    "start_time": "2022-05-01T08:19:43.925Z"
   },
   {
    "duration": 12,
    "start_time": "2022-05-01T08:19:45.023Z"
   },
   {
    "duration": 8,
    "start_time": "2022-05-01T08:19:45.037Z"
   },
   {
    "duration": 12,
    "start_time": "2022-05-01T08:19:45.106Z"
   },
   {
    "duration": 7,
    "start_time": "2022-05-01T08:20:31.779Z"
   },
   {
    "duration": 4,
    "start_time": "2022-05-01T08:20:32.222Z"
   },
   {
    "duration": 4,
    "start_time": "2022-05-01T08:20:35.887Z"
   },
   {
    "duration": 6,
    "start_time": "2022-05-01T08:20:44.477Z"
   },
   {
    "duration": 4,
    "start_time": "2022-05-01T08:20:44.845Z"
   },
   {
    "duration": 5,
    "start_time": "2022-05-01T08:20:46.337Z"
   },
   {
    "duration": 5,
    "start_time": "2022-05-01T08:20:56.393Z"
   },
   {
    "duration": 11,
    "start_time": "2022-05-01T08:20:56.886Z"
   },
   {
    "duration": 11,
    "start_time": "2022-05-01T08:20:57.408Z"
   },
   {
    "duration": 11,
    "start_time": "2022-05-01T08:21:41.638Z"
   },
   {
    "duration": 5,
    "start_time": "2022-05-01T08:21:45.239Z"
   },
   {
    "duration": 11,
    "start_time": "2022-05-01T08:21:45.614Z"
   },
   {
    "duration": 15,
    "start_time": "2022-05-01T08:21:45.963Z"
   },
   {
    "duration": 1139,
    "start_time": "2022-05-08T09:41:14.363Z"
   },
   {
    "duration": 417,
    "start_time": "2022-05-08T09:41:15.504Z"
   },
   {
    "duration": 339,
    "start_time": "2022-05-08T09:41:15.922Z"
   },
   {
    "duration": 46,
    "start_time": "2022-05-08T09:41:16.263Z"
   },
   {
    "duration": 73,
    "start_time": "2022-05-08T09:41:16.311Z"
   },
   {
    "duration": 10,
    "start_time": "2022-05-08T09:41:16.386Z"
   },
   {
    "duration": 26,
    "start_time": "2022-05-08T09:41:16.398Z"
   },
   {
    "duration": 32,
    "start_time": "2022-05-08T09:41:16.426Z"
   },
   {
    "duration": 3228,
    "start_time": "2022-05-08T09:41:16.460Z"
   },
   {
    "duration": 3762,
    "start_time": "2022-05-08T09:41:19.692Z"
   },
   {
    "duration": 9,
    "start_time": "2022-05-08T09:41:23.456Z"
   },
   {
    "duration": 13,
    "start_time": "2022-05-08T09:41:23.466Z"
   },
   {
    "duration": 8,
    "start_time": "2022-05-08T09:41:23.481Z"
   },
   {
    "duration": 14,
    "start_time": "2022-05-08T09:41:23.490Z"
   },
   {
    "duration": 42,
    "start_time": "2022-05-08T09:41:23.506Z"
   },
   {
    "duration": 7,
    "start_time": "2022-05-08T09:41:23.550Z"
   },
   {
    "duration": 13,
    "start_time": "2022-05-08T09:41:23.558Z"
   },
   {
    "duration": 9,
    "start_time": "2022-05-08T09:41:23.572Z"
   },
   {
    "duration": 5,
    "start_time": "2022-05-08T09:41:23.583Z"
   },
   {
    "duration": 9,
    "start_time": "2022-05-08T09:41:23.590Z"
   },
   {
    "duration": 11,
    "start_time": "2022-05-08T09:41:23.601Z"
   },
   {
    "duration": 35,
    "start_time": "2022-05-08T09:41:23.615Z"
   },
   {
    "duration": 15,
    "start_time": "2022-05-08T09:41:23.651Z"
   }
  ],
  "kernelspec": {
   "display_name": "Python 3 (ipykernel)",
   "language": "python",
   "name": "python3"
  },
  "language_info": {
   "codemirror_mode": {
    "name": "ipython",
    "version": 3
   },
   "file_extension": ".py",
   "mimetype": "text/x-python",
   "name": "python",
   "nbconvert_exporter": "python",
   "pygments_lexer": "ipython3",
   "version": "3.9.5"
  },
  "toc": {
   "base_numbering": 1,
   "nav_menu": {},
   "number_sections": true,
   "sideBar": true,
   "skip_h1_title": true,
   "title_cell": "Table of Contents",
   "title_sidebar": "Contents",
   "toc_cell": false,
   "toc_position": {
    "height": "calc(100% - 180px)",
    "left": "10px",
    "top": "150px",
    "width": "366.391px"
   },
   "toc_section_display": true,
   "toc_window_display": true
  }
 },
 "nbformat": 4,
 "nbformat_minor": 2
}
